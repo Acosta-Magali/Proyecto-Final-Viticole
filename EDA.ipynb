{
 "cells": [
  {
   "cell_type": "markdown",
   "id": "9239aeec",
   "metadata": {},
   "source": [
    "# Proyecto Final - DAFT12"
   ]
  },
  {
   "cell_type": "markdown",
   "id": "f15fed2e",
   "metadata": {},
   "source": [
    "## EDA"
   ]
  },
  {
   "cell_type": "markdown",
   "id": "a80c62ad",
   "metadata": {},
   "source": [
    "### 1- Configuración del entorno"
   ]
  },
  {
   "cell_type": "markdown",
   "id": "05ed2d1b",
   "metadata": {},
   "source": [
    "#### 1.1 Importación de Librerias a utilizar."
   ]
  },
  {
   "cell_type": "code",
   "execution_count": 1,
   "id": "dd70ace2",
   "metadata": {},
   "outputs": [],
   "source": [
    "import pandas as pd \n",
    "import numpy as np\n",
    "import pyodbc\n",
    "from sqlalchemy import create_engine"
   ]
  },
  {
   "cell_type": "markdown",
   "id": "a0c47bd7",
   "metadata": {},
   "source": [
    "#### 1.2 Conexión con DataBase de SQL"
   ]
  },
  {
   "cell_type": "code",
   "execution_count": 2,
   "id": "f495cd61",
   "metadata": {},
   "outputs": [],
   "source": [
    "# Cadena de conexión para SQL Server con autenticación de Windows\n",
    "conn_str = (\n",
    "    'mssql+pyodbc://@LAPTOP-NJDM6MFL/BD_VITICOLE?'\n",
    "    'driver=ODBC+Driver+17+for+SQL+Server&trusted_connection=yes'\n",
    ")\n",
    "\n",
    "engine = create_engine(conn_str)"
   ]
  },
  {
   "cell_type": "markdown",
   "id": "aa2b37f4",
   "metadata": {},
   "source": [
    "### 2- Análisis Exploratorio de Datos"
   ]
  },
  {
   "cell_type": "markdown",
   "id": "b9cca93f",
   "metadata": {},
   "source": [
    "#### 2.1 Tabla a analizar Proveedores"
   ]
  },
  {
   "cell_type": "code",
   "execution_count": null,
   "id": "cf02ee64",
   "metadata": {},
   "outputs": [],
   "source": [
    "# Creamos df con la tabla de la db\n",
    "df_Proveedores = pd.read_sql('SELECT * FROM PROVEEDORES', engine)"
   ]
  },
  {
   "cell_type": "code",
   "execution_count": 5,
   "id": "ad42fd0d",
   "metadata": {},
   "outputs": [
    {
     "data": {
      "application/vnd.microsoft.datawrangler.viewer.v0+json": {
       "columns": [
        {
         "name": "index",
         "rawType": "int64",
         "type": "integer"
        },
        {
         "name": "ID_vendors_number",
         "rawType": "object",
         "type": "string"
        },
        {
         "name": "vendors_name",
         "rawType": "object",
         "type": "string"
        }
       ],
       "conversionMethod": "pd.DataFrame",
       "ref": "11c6feb2-94d9-40ba-8115-88f721149573",
       "rows": [],
       "shape": {
        "columns": 2,
        "rows": 0
       }
      },
      "text/html": [
       "<div>\n",
       "<style scoped>\n",
       "    .dataframe tbody tr th:only-of-type {\n",
       "        vertical-align: middle;\n",
       "    }\n",
       "\n",
       "    .dataframe tbody tr th {\n",
       "        vertical-align: top;\n",
       "    }\n",
       "\n",
       "    .dataframe thead th {\n",
       "        text-align: right;\n",
       "    }\n",
       "</style>\n",
       "<table border=\"1\" class=\"dataframe\">\n",
       "  <thead>\n",
       "    <tr style=\"text-align: right;\">\n",
       "      <th></th>\n",
       "      <th>ID_vendors_number</th>\n",
       "      <th>vendors_name</th>\n",
       "    </tr>\n",
       "  </thead>\n",
       "  <tbody>\n",
       "  </tbody>\n",
       "</table>\n",
       "</div>"
      ],
      "text/plain": [
       "Empty DataFrame\n",
       "Columns: [ID_vendors_number, vendors_name]\n",
       "Index: []"
      ]
     },
     "execution_count": 5,
     "metadata": {},
     "output_type": "execute_result"
    }
   ],
   "source": [
    "# muestra los primeros 5 registros de la tabla para verificar que se importó bien\n",
    "df_Proveedores.head(5)"
   ]
  },
  {
   "cell_type": "code",
   "execution_count": 6,
   "id": "1851a858",
   "metadata": {},
   "outputs": [
    {
     "name": "stdout",
     "output_type": "stream",
     "text": [
      "<class 'pandas.core.frame.DataFrame'>\n",
      "RangeIndex: 0 entries\n",
      "Data columns (total 2 columns):\n",
      " #   Column             Non-Null Count  Dtype \n",
      "---  ------             --------------  ----- \n",
      " 0   ID_vendors_number  0 non-null      object\n",
      " 1   vendors_name       0 non-null      object\n",
      "dtypes: object(2)\n",
      "memory usage: 132.0+ bytes\n",
      "None\n"
     ]
    }
   ],
   "source": [
    "# Descripción del DataFrame\n",
    "print(df_Proveedores.info())"
   ]
  },
  {
   "cell_type": "code",
   "execution_count": 7,
   "id": "4c0103c3",
   "metadata": {},
   "outputs": [
    {
     "name": "stdout",
     "output_type": "stream",
     "text": [
      "       ID_vendors_number vendors_name\n",
      "count                  0            0\n",
      "unique                 0            0\n",
      "top                  NaN          NaN\n",
      "freq                 NaN          NaN\n"
     ]
    }
   ],
   "source": [
    "# Resumen estadístico de las columnas numéricas\n",
    "print(df_Proveedores.describe())"
   ]
  },
  {
   "cell_type": "code",
   "execution_count": 8,
   "id": "5718ecca",
   "metadata": {},
   "outputs": [
    {
     "data": {
      "text/plain": [
       "Series([], dtype: int64)"
      ]
     },
     "execution_count": 8,
     "metadata": {},
     "output_type": "execute_result"
    }
   ],
   "source": [
    "# Cantidad de valores nulos por columna\n",
    "df_Proveedores.isnull().sum()[df_Proveedores.isnull().sum()>0] # Filtrando por aquellos que contengan por lo menos 1 nulo"
   ]
  },
  {
   "cell_type": "markdown",
   "id": "a3ee82b7",
   "metadata": {},
   "source": [
    "#### 2.2 Tabla a analizar Productos"
   ]
  },
  {
   "cell_type": "code",
   "execution_count": 9,
   "id": "e8172e20",
   "metadata": {},
   "outputs": [],
   "source": [
    "# Creamos df con la tabla de la db\n",
    "df_Productos = pd.read_sql('SELECT * FROM Productos', engine)"
   ]
  },
  {
   "cell_type": "code",
   "execution_count": 10,
   "id": "c914d2ea",
   "metadata": {},
   "outputs": [
    {
     "data": {
      "application/vnd.microsoft.datawrangler.viewer.v0+json": {
       "columns": [
        {
         "name": "index",
         "rawType": "int64",
         "type": "integer"
        },
        {
         "name": "ID_Brand",
         "rawType": "int64",
         "type": "integer"
        },
        {
         "name": "Description",
         "rawType": "object",
         "type": "string"
        },
        {
         "name": "Sales_Price",
         "rawType": "float64",
         "type": "float"
        },
        {
         "name": "Size",
         "rawType": "object",
         "type": "string"
        },
        {
         "name": "Volume",
         "rawType": "object",
         "type": "string"
        },
        {
         "name": "Classification",
         "rawType": "int64",
         "type": "integer"
        },
        {
         "name": "Purchase_Price",
         "rawType": "float64",
         "type": "float"
        },
        {
         "name": "VendorNumber",
         "rawType": "int64",
         "type": "integer"
        },
        {
         "name": "VendorName",
         "rawType": "object",
         "type": "string"
        }
       ],
       "conversionMethod": "pd.DataFrame",
       "ref": "828c597e-768c-40d7-96e5-23b81b385023",
       "rows": [
        [
         "0",
         "58",
         "\"Gekkeikan Black & Gold Sake\"",
         "12.99",
         "\"750mL\"",
         "\"750\"",
         "1",
         "9.28",
         "8320",
         "\"SHAW ROSS INT L IMP LTD    \""
        ],
        [
         "1",
         "60",
         "\"Canadian Club 1858 VAP\"",
         "10.99",
         "\"750mL\"",
         "\"750\"",
         "1",
         "7.4",
         "12546",
         "\"JIM BEAM BRANDS COMPANY    \""
        ],
        [
         "2",
         "61",
         "\"Margaritaville Silver\"",
         "13.99",
         "\"750mL\"",
         "\"750\"",
         "1",
         "10.6",
         "8004",
         "\"SAZERAC CO INC             \""
        ],
        [
         "3",
         "62",
         "\"Herradura Silver Tequila\"",
         "36.99",
         "\"750mL\"",
         "\"750\"",
         "1",
         "28.67",
         "1128",
         "\"BROWN-FORMAN CORP          \""
        ],
        [
         "4",
         "63",
         "\"Herradura Reposado Tequila\"",
         "38.99",
         "\"750mL\"",
         "\"750\"",
         "1",
         "30.46",
         "1128",
         "\"BROWN-FORMAN CORP          \""
        ]
       ],
       "shape": {
        "columns": 9,
        "rows": 5
       }
      },
      "text/html": [
       "<div>\n",
       "<style scoped>\n",
       "    .dataframe tbody tr th:only-of-type {\n",
       "        vertical-align: middle;\n",
       "    }\n",
       "\n",
       "    .dataframe tbody tr th {\n",
       "        vertical-align: top;\n",
       "    }\n",
       "\n",
       "    .dataframe thead th {\n",
       "        text-align: right;\n",
       "    }\n",
       "</style>\n",
       "<table border=\"1\" class=\"dataframe\">\n",
       "  <thead>\n",
       "    <tr style=\"text-align: right;\">\n",
       "      <th></th>\n",
       "      <th>ID_Brand</th>\n",
       "      <th>Description</th>\n",
       "      <th>Sales_Price</th>\n",
       "      <th>Size</th>\n",
       "      <th>Volume</th>\n",
       "      <th>Classification</th>\n",
       "      <th>Purchase_Price</th>\n",
       "      <th>VendorNumber</th>\n",
       "      <th>VendorName</th>\n",
       "    </tr>\n",
       "  </thead>\n",
       "  <tbody>\n",
       "    <tr>\n",
       "      <th>0</th>\n",
       "      <td>58</td>\n",
       "      <td>\"Gekkeikan Black &amp; Gold Sake\"</td>\n",
       "      <td>12.99</td>\n",
       "      <td>\"750mL\"</td>\n",
       "      <td>\"750\"</td>\n",
       "      <td>1</td>\n",
       "      <td>9.28</td>\n",
       "      <td>8320</td>\n",
       "      <td>\"SHAW ROSS INT L IMP LTD    \"</td>\n",
       "    </tr>\n",
       "    <tr>\n",
       "      <th>1</th>\n",
       "      <td>60</td>\n",
       "      <td>\"Canadian Club 1858 VAP\"</td>\n",
       "      <td>10.99</td>\n",
       "      <td>\"750mL\"</td>\n",
       "      <td>\"750\"</td>\n",
       "      <td>1</td>\n",
       "      <td>7.40</td>\n",
       "      <td>12546</td>\n",
       "      <td>\"JIM BEAM BRANDS COMPANY    \"</td>\n",
       "    </tr>\n",
       "    <tr>\n",
       "      <th>2</th>\n",
       "      <td>61</td>\n",
       "      <td>\"Margaritaville Silver\"</td>\n",
       "      <td>13.99</td>\n",
       "      <td>\"750mL\"</td>\n",
       "      <td>\"750\"</td>\n",
       "      <td>1</td>\n",
       "      <td>10.60</td>\n",
       "      <td>8004</td>\n",
       "      <td>\"SAZERAC CO INC             \"</td>\n",
       "    </tr>\n",
       "    <tr>\n",
       "      <th>3</th>\n",
       "      <td>62</td>\n",
       "      <td>\"Herradura Silver Tequila\"</td>\n",
       "      <td>36.99</td>\n",
       "      <td>\"750mL\"</td>\n",
       "      <td>\"750\"</td>\n",
       "      <td>1</td>\n",
       "      <td>28.67</td>\n",
       "      <td>1128</td>\n",
       "      <td>\"BROWN-FORMAN CORP          \"</td>\n",
       "    </tr>\n",
       "    <tr>\n",
       "      <th>4</th>\n",
       "      <td>63</td>\n",
       "      <td>\"Herradura Reposado Tequila\"</td>\n",
       "      <td>38.99</td>\n",
       "      <td>\"750mL\"</td>\n",
       "      <td>\"750\"</td>\n",
       "      <td>1</td>\n",
       "      <td>30.46</td>\n",
       "      <td>1128</td>\n",
       "      <td>\"BROWN-FORMAN CORP          \"</td>\n",
       "    </tr>\n",
       "  </tbody>\n",
       "</table>\n",
       "</div>"
      ],
      "text/plain": [
       "   ID_Brand                    Description  Sales_Price     Size Volume  \\\n",
       "0        58  \"Gekkeikan Black & Gold Sake\"        12.99  \"750mL\"  \"750\"   \n",
       "1        60       \"Canadian Club 1858 VAP\"        10.99  \"750mL\"  \"750\"   \n",
       "2        61        \"Margaritaville Silver\"        13.99  \"750mL\"  \"750\"   \n",
       "3        62     \"Herradura Silver Tequila\"        36.99  \"750mL\"  \"750\"   \n",
       "4        63   \"Herradura Reposado Tequila\"        38.99  \"750mL\"  \"750\"   \n",
       "\n",
       "   Classification  Purchase_Price  VendorNumber                     VendorName  \n",
       "0               1            9.28          8320  \"SHAW ROSS INT L IMP LTD    \"  \n",
       "1               1            7.40         12546  \"JIM BEAM BRANDS COMPANY    \"  \n",
       "2               1           10.60          8004  \"SAZERAC CO INC             \"  \n",
       "3               1           28.67          1128  \"BROWN-FORMAN CORP          \"  \n",
       "4               1           30.46          1128  \"BROWN-FORMAN CORP          \"  "
      ]
     },
     "execution_count": 10,
     "metadata": {},
     "output_type": "execute_result"
    }
   ],
   "source": [
    "# muestra los primeros 5 registros de la tabla para verificar que se importó bien\n",
    "df_Productos.head(5)"
   ]
  },
  {
   "cell_type": "code",
   "execution_count": 11,
   "id": "de92becb",
   "metadata": {},
   "outputs": [
    {
     "name": "stdout",
     "output_type": "stream",
     "text": [
      "<class 'pandas.core.frame.DataFrame'>\n",
      "RangeIndex: 12261 entries, 0 to 12260\n",
      "Data columns (total 9 columns):\n",
      " #   Column          Non-Null Count  Dtype  \n",
      "---  ------          --------------  -----  \n",
      " 0   ID_Brand        12261 non-null  int64  \n",
      " 1   Description     12261 non-null  object \n",
      " 2   Sales_Price     12261 non-null  float64\n",
      " 3   Size            12261 non-null  object \n",
      " 4   Volume          12261 non-null  object \n",
      " 5   Classification  12261 non-null  int64  \n",
      " 6   Purchase_Price  12261 non-null  float64\n",
      " 7   VendorNumber    12261 non-null  int64  \n",
      " 8   VendorName      12261 non-null  object \n",
      "dtypes: float64(2), int64(3), object(4)\n",
      "memory usage: 862.2+ KB\n",
      "None\n"
     ]
    }
   ],
   "source": [
    "# Descripción del DataFrame\n",
    "print(df_Productos.info())"
   ]
  },
  {
   "cell_type": "code",
   "execution_count": 12,
   "id": "d5b48259",
   "metadata": {},
   "outputs": [
    {
     "name": "stdout",
     "output_type": "stream",
     "text": [
      "           ID_Brand   Sales_Price  Classification  Purchase_Price  \\\n",
      "count  12261.000000  12261.000000    12261.000000    12261.000000   \n",
      "mean   17989.067123     38.640240        1.708996       26.488220   \n",
      "std    12528.503464    206.151172        0.454244      156.182948   \n",
      "min       58.000000      0.000000        1.000000        0.000000   \n",
      "25%     5990.000000     10.990000        1.000000        6.890000   \n",
      "50%    18788.000000     15.990000        2.000000       10.650000   \n",
      "75%    25117.000000     29.990000        2.000000       20.130000   \n",
      "max    90631.000000  13999.900000        2.000000    11111.030000   \n",
      "\n",
      "        VendorNumber  \n",
      "count   12261.000000  \n",
      "mean    10814.861757  \n",
      "std     19007.682322  \n",
      "min         2.000000  \n",
      "25%      3960.000000  \n",
      "50%      7153.000000  \n",
      "75%      9552.000000  \n",
      "max    173357.000000  \n"
     ]
    }
   ],
   "source": [
    "# Resumen estadístico de las columnas numéricas\n",
    "print(df_Productos.describe())"
   ]
  },
  {
   "cell_type": "code",
   "execution_count": 13,
   "id": "c497861b",
   "metadata": {},
   "outputs": [
    {
     "data": {
      "text/plain": [
       "Series([], dtype: int64)"
      ]
     },
     "execution_count": 13,
     "metadata": {},
     "output_type": "execute_result"
    }
   ],
   "source": [
    "# Cantidad de valores nulos por columna\n",
    "df_Productos.isnull().sum()[df_Productos.isnull().sum()>0] # Filtrando por aquellos que contengan por lo menos 1 nulo"
   ]
  },
  {
   "cell_type": "markdown",
   "id": "e1d14ce4",
   "metadata": {},
   "source": [
    "#### 2.3 Tabla a analizar OrdenesCompra"
   ]
  },
  {
   "cell_type": "code",
   "execution_count": 14,
   "id": "c9df1e1e",
   "metadata": {},
   "outputs": [],
   "source": [
    "# Creamos df con la tabla de la db\n",
    "df_OrdenesCompra = pd.read_sql('SELECT * FROM OrdenesCompra', engine)"
   ]
  },
  {
   "cell_type": "code",
   "execution_count": 15,
   "id": "8ade7292",
   "metadata": {},
   "outputs": [
    {
     "data": {
      "application/vnd.microsoft.datawrangler.viewer.v0+json": {
       "columns": [
        {
         "name": "index",
         "rawType": "int64",
         "type": "integer"
        },
        {
         "name": "VendorNumber",
         "rawType": "int64",
         "type": "integer"
        },
        {
         "name": "VendorName",
         "rawType": "object",
         "type": "string"
        },
        {
         "name": "InvoiceDate",
         "rawType": "object",
         "type": "string"
        },
        {
         "name": "ID_PONumber",
         "rawType": "object",
         "type": "string"
        },
        {
         "name": "PODate",
         "rawType": "object",
         "type": "string"
        },
        {
         "name": "PayDate",
         "rawType": "object",
         "type": "string"
        },
        {
         "name": "Quantity",
         "rawType": "object",
         "type": "string"
        },
        {
         "name": "Total_Amount",
         "rawType": "float64",
         "type": "float"
        },
        {
         "name": "Freight",
         "rawType": "float64",
         "type": "float"
        },
        {
         "name": "Approval",
         "rawType": "object",
         "type": "string"
        }
       ],
       "conversionMethod": "pd.DataFrame",
       "ref": "7f946d0b-fe73-481e-8a40-b9e5af6c0c65",
       "rows": [
        [
         "0",
         "105",
         "\"ALTAMAR BRANDS LLC         \"",
         "\"2016-01-04\"",
         "8124",
         "\"2015-12-21\"",
         "\"2016-02-16\"",
         "6",
         "214.26",
         "3.47",
         "\"None\""
        ],
        [
         "1",
         "4466",
         "\"AMERICAN VINTAGE BEVERAGE  \"",
         "\"2016-01-07\"",
         "8137",
         "\"2015-12-22\"",
         "\"2016-02-21\"",
         "15",
         "140.55",
         "8.57",
         "\"None\""
        ],
        [
         "2",
         "388",
         "\"ATLANTIC IMPORTING COMPANY \"",
         "\"2016-01-09\"",
         "8169",
         "\"2015-12-24\"",
         "\"2016-02-16\"",
         "5",
         "106.6",
         "4.61",
         "\"None\""
        ],
        [
         "3",
         "480",
         "\"BACARDI USA INC            \"",
         "\"2016-01-12\"",
         "8106",
         "\"2015-12-20\"",
         "\"2016-02-05\"",
         "10100",
         "137483.78",
         "2935.2",
         "\"None\""
        ],
        [
         "4",
         "516",
         "\"BANFI PRODUCTS CORP        \"",
         "\"2016-01-07\"",
         "8170",
         "\"2015-12-24\"",
         "\"2016-02-12\"",
         "1935",
         "15527.25",
         "429.2",
         "\"None\""
        ]
       ],
       "shape": {
        "columns": 10,
        "rows": 5
       }
      },
      "text/html": [
       "<div>\n",
       "<style scoped>\n",
       "    .dataframe tbody tr th:only-of-type {\n",
       "        vertical-align: middle;\n",
       "    }\n",
       "\n",
       "    .dataframe tbody tr th {\n",
       "        vertical-align: top;\n",
       "    }\n",
       "\n",
       "    .dataframe thead th {\n",
       "        text-align: right;\n",
       "    }\n",
       "</style>\n",
       "<table border=\"1\" class=\"dataframe\">\n",
       "  <thead>\n",
       "    <tr style=\"text-align: right;\">\n",
       "      <th></th>\n",
       "      <th>VendorNumber</th>\n",
       "      <th>VendorName</th>\n",
       "      <th>InvoiceDate</th>\n",
       "      <th>ID_PONumber</th>\n",
       "      <th>PODate</th>\n",
       "      <th>PayDate</th>\n",
       "      <th>Quantity</th>\n",
       "      <th>Total_Amount</th>\n",
       "      <th>Freight</th>\n",
       "      <th>Approval</th>\n",
       "    </tr>\n",
       "  </thead>\n",
       "  <tbody>\n",
       "    <tr>\n",
       "      <th>0</th>\n",
       "      <td>105</td>\n",
       "      <td>\"ALTAMAR BRANDS LLC         \"</td>\n",
       "      <td>\"2016-01-04\"</td>\n",
       "      <td>8124</td>\n",
       "      <td>\"2015-12-21\"</td>\n",
       "      <td>\"2016-02-16\"</td>\n",
       "      <td>6</td>\n",
       "      <td>214.26</td>\n",
       "      <td>3.47</td>\n",
       "      <td>\"None\"</td>\n",
       "    </tr>\n",
       "    <tr>\n",
       "      <th>1</th>\n",
       "      <td>4466</td>\n",
       "      <td>\"AMERICAN VINTAGE BEVERAGE  \"</td>\n",
       "      <td>\"2016-01-07\"</td>\n",
       "      <td>8137</td>\n",
       "      <td>\"2015-12-22\"</td>\n",
       "      <td>\"2016-02-21\"</td>\n",
       "      <td>15</td>\n",
       "      <td>140.55</td>\n",
       "      <td>8.57</td>\n",
       "      <td>\"None\"</td>\n",
       "    </tr>\n",
       "    <tr>\n",
       "      <th>2</th>\n",
       "      <td>388</td>\n",
       "      <td>\"ATLANTIC IMPORTING COMPANY \"</td>\n",
       "      <td>\"2016-01-09\"</td>\n",
       "      <td>8169</td>\n",
       "      <td>\"2015-12-24\"</td>\n",
       "      <td>\"2016-02-16\"</td>\n",
       "      <td>5</td>\n",
       "      <td>106.60</td>\n",
       "      <td>4.61</td>\n",
       "      <td>\"None\"</td>\n",
       "    </tr>\n",
       "    <tr>\n",
       "      <th>3</th>\n",
       "      <td>480</td>\n",
       "      <td>\"BACARDI USA INC            \"</td>\n",
       "      <td>\"2016-01-12\"</td>\n",
       "      <td>8106</td>\n",
       "      <td>\"2015-12-20\"</td>\n",
       "      <td>\"2016-02-05\"</td>\n",
       "      <td>10100</td>\n",
       "      <td>137483.78</td>\n",
       "      <td>2935.20</td>\n",
       "      <td>\"None\"</td>\n",
       "    </tr>\n",
       "    <tr>\n",
       "      <th>4</th>\n",
       "      <td>516</td>\n",
       "      <td>\"BANFI PRODUCTS CORP        \"</td>\n",
       "      <td>\"2016-01-07\"</td>\n",
       "      <td>8170</td>\n",
       "      <td>\"2015-12-24\"</td>\n",
       "      <td>\"2016-02-12\"</td>\n",
       "      <td>1935</td>\n",
       "      <td>15527.25</td>\n",
       "      <td>429.20</td>\n",
       "      <td>\"None\"</td>\n",
       "    </tr>\n",
       "  </tbody>\n",
       "</table>\n",
       "</div>"
      ],
      "text/plain": [
       "   VendorNumber                     VendorName   InvoiceDate ID_PONumber  \\\n",
       "0           105  \"ALTAMAR BRANDS LLC         \"  \"2016-01-04\"        8124   \n",
       "1          4466  \"AMERICAN VINTAGE BEVERAGE  \"  \"2016-01-07\"        8137   \n",
       "2           388  \"ATLANTIC IMPORTING COMPANY \"  \"2016-01-09\"        8169   \n",
       "3           480  \"BACARDI USA INC            \"  \"2016-01-12\"        8106   \n",
       "4           516  \"BANFI PRODUCTS CORP        \"  \"2016-01-07\"        8170   \n",
       "\n",
       "         PODate       PayDate Quantity  Total_Amount  Freight Approval  \n",
       "0  \"2015-12-21\"  \"2016-02-16\"        6        214.26     3.47   \"None\"  \n",
       "1  \"2015-12-22\"  \"2016-02-21\"       15        140.55     8.57   \"None\"  \n",
       "2  \"2015-12-24\"  \"2016-02-16\"        5        106.60     4.61   \"None\"  \n",
       "3  \"2015-12-20\"  \"2016-02-05\"    10100     137483.78  2935.20   \"None\"  \n",
       "4  \"2015-12-24\"  \"2016-02-12\"     1935      15527.25   429.20   \"None\"  "
      ]
     },
     "execution_count": 15,
     "metadata": {},
     "output_type": "execute_result"
    }
   ],
   "source": [
    "# muestra los primeros 5 registros de la tabla para verificar que se importó bien\n",
    "df_OrdenesCompra.head(5)"
   ]
  },
  {
   "cell_type": "code",
   "execution_count": 16,
   "id": "cbf4d667",
   "metadata": {},
   "outputs": [
    {
     "name": "stdout",
     "output_type": "stream",
     "text": [
      "<class 'pandas.core.frame.DataFrame'>\n",
      "RangeIndex: 5543 entries, 0 to 5542\n",
      "Data columns (total 10 columns):\n",
      " #   Column        Non-Null Count  Dtype  \n",
      "---  ------        --------------  -----  \n",
      " 0   VendorNumber  5543 non-null   int64  \n",
      " 1   VendorName    5543 non-null   object \n",
      " 2   InvoiceDate   5543 non-null   object \n",
      " 3   ID_PONumber   5543 non-null   object \n",
      " 4   PODate        5543 non-null   object \n",
      " 5   PayDate       5543 non-null   object \n",
      " 6   Quantity      5543 non-null   object \n",
      " 7   Total_Amount  5543 non-null   float64\n",
      " 8   Freight       5543 non-null   float64\n",
      " 9   Approval      5543 non-null   object \n",
      "dtypes: float64(2), int64(1), object(7)\n",
      "memory usage: 433.2+ KB\n",
      "None\n"
     ]
    }
   ],
   "source": [
    "# Descripción del DataFrame\n",
    "print(df_OrdenesCompra.info())"
   ]
  },
  {
   "cell_type": "code",
   "execution_count": 17,
   "id": "4dbc8c41",
   "metadata": {},
   "outputs": [
    {
     "name": "stdout",
     "output_type": "stream",
     "text": [
      "       VendorNumber  Total_Amount        Freight\n",
      "count    5543.00000  5.543000e+03    5543.000000\n",
      "mean    20662.75212  5.745418e+04     970.122804\n",
      "std     34582.15841  1.403095e+05    7107.240327\n",
      "min         2.00000  1.000000e+00       0.020000\n",
      "25%      3089.00000  9.199600e+02       5.310000\n",
      "50%      7240.00000  4.615450e+03      28.050000\n",
      "75%     10754.00000  4.249236e+04     258.960000\n",
      "max    201359.00000  1.660436e+06  152221.920000\n"
     ]
    }
   ],
   "source": [
    "# Resumen estadístico de las columnas numéricas\n",
    "print(df_OrdenesCompra.describe())"
   ]
  },
  {
   "cell_type": "code",
   "execution_count": 29,
   "id": "6308ee30",
   "metadata": {},
   "outputs": [
    {
     "data": {
      "text/plain": [
       "Series([], dtype: int64)"
      ]
     },
     "execution_count": 29,
     "metadata": {},
     "output_type": "execute_result"
    }
   ],
   "source": [
    "# Cantidad de valores nulos por columna\n",
    "df_OrdenesCompra.isnull().sum()[df_OrdenesCompra.isnull().sum()>0] # Filtrando por aquellos que contengan por lo menos 1 nulo"
   ]
  },
  {
   "cell_type": "markdown",
   "id": "6ab495b4",
   "metadata": {},
   "source": [
    "#### 2.4 Tabla a analizar Tiendas"
   ]
  },
  {
   "cell_type": "code",
   "execution_count": 30,
   "id": "6a3de071",
   "metadata": {},
   "outputs": [],
   "source": [
    "# Creamos df con la tabla de la db\n",
    "df_Tiendas = pd.read_sql('SELECT * FROM Tiendas', engine)"
   ]
  },
  {
   "cell_type": "code",
   "execution_count": 31,
   "id": "f193cfbb",
   "metadata": {},
   "outputs": [
    {
     "data": {
      "application/vnd.microsoft.datawrangler.viewer.v0+json": {
       "columns": [
        {
         "name": "index",
         "rawType": "int64",
         "type": "integer"
        },
        {
         "name": "ID_store",
         "rawType": "object",
         "type": "string"
        },
        {
         "name": "city",
         "rawType": "object",
         "type": "string"
        }
       ],
       "conversionMethod": "pd.DataFrame",
       "ref": "b49aa0a1-b2b4-4da0-9799-9aa472109d8f",
       "rows": [],
       "shape": {
        "columns": 2,
        "rows": 0
       }
      },
      "text/html": [
       "<div>\n",
       "<style scoped>\n",
       "    .dataframe tbody tr th:only-of-type {\n",
       "        vertical-align: middle;\n",
       "    }\n",
       "\n",
       "    .dataframe tbody tr th {\n",
       "        vertical-align: top;\n",
       "    }\n",
       "\n",
       "    .dataframe thead th {\n",
       "        text-align: right;\n",
       "    }\n",
       "</style>\n",
       "<table border=\"1\" class=\"dataframe\">\n",
       "  <thead>\n",
       "    <tr style=\"text-align: right;\">\n",
       "      <th></th>\n",
       "      <th>ID_store</th>\n",
       "      <th>city</th>\n",
       "    </tr>\n",
       "  </thead>\n",
       "  <tbody>\n",
       "  </tbody>\n",
       "</table>\n",
       "</div>"
      ],
      "text/plain": [
       "Empty DataFrame\n",
       "Columns: [ID_store, city]\n",
       "Index: []"
      ]
     },
     "execution_count": 31,
     "metadata": {},
     "output_type": "execute_result"
    }
   ],
   "source": [
    "# muestra los primeros 5 registros de la tabla para verificar que se importó bien\n",
    "df_Tiendas.head(5)"
   ]
  },
  {
   "cell_type": "code",
   "execution_count": 32,
   "id": "e6c1e158",
   "metadata": {},
   "outputs": [
    {
     "name": "stdout",
     "output_type": "stream",
     "text": [
      "<class 'pandas.core.frame.DataFrame'>\n",
      "RangeIndex: 0 entries\n",
      "Data columns (total 2 columns):\n",
      " #   Column    Non-Null Count  Dtype \n",
      "---  ------    --------------  ----- \n",
      " 0   ID_store  0 non-null      object\n",
      " 1   city      0 non-null      object\n",
      "dtypes: object(2)\n",
      "memory usage: 132.0+ bytes\n",
      "None\n"
     ]
    }
   ],
   "source": [
    "# Descripción del DataFrame\n",
    "print(df_Tiendas.info())"
   ]
  },
  {
   "cell_type": "code",
   "execution_count": 33,
   "id": "2fcd387b",
   "metadata": {},
   "outputs": [
    {
     "name": "stdout",
     "output_type": "stream",
     "text": [
      "       ID_store city\n",
      "count         0    0\n",
      "unique        0    0\n",
      "top         NaN  NaN\n",
      "freq        NaN  NaN\n"
     ]
    }
   ],
   "source": [
    "# Resumen estadístico de las columnas numéricas\n",
    "print(df_Tiendas.describe())"
   ]
  },
  {
   "cell_type": "code",
   "execution_count": 34,
   "id": "a5c22533",
   "metadata": {},
   "outputs": [
    {
     "data": {
      "text/plain": [
       "Series([], dtype: int64)"
      ]
     },
     "execution_count": 34,
     "metadata": {},
     "output_type": "execute_result"
    }
   ],
   "source": [
    "# Cantidad de valores nulos por columna\n",
    "df_Tiendas.isnull().sum()[df_Tiendas.isnull().sum()>0] # Filtrando por aquellos que contengan por lo menos 1 nulo"
   ]
  },
  {
   "cell_type": "markdown",
   "id": "366d306e",
   "metadata": {},
   "source": [
    "#### 2.5 Tabla a analizar InventarioInicial"
   ]
  },
  {
   "cell_type": "code",
   "execution_count": 36,
   "id": "ee7ec600",
   "metadata": {},
   "outputs": [],
   "source": [
    "# Creamos df con la tabla de la db\n",
    "df_InventarioInicial = pd.read_sql('SELECT * FROM InventarioInicial', engine)"
   ]
  },
  {
   "cell_type": "code",
   "execution_count": 37,
   "id": "89fb7cc7",
   "metadata": {},
   "outputs": [
    {
     "data": {
      "application/vnd.microsoft.datawrangler.viewer.v0+json": {
       "columns": [
        {
         "name": "index",
         "rawType": "int64",
         "type": "integer"
        },
        {
         "name": "ID_inventario_inicial",
         "rawType": "object",
         "type": "string"
        },
        {
         "name": "Store",
         "rawType": "int64",
         "type": "integer"
        },
        {
         "name": "City",
         "rawType": "object",
         "type": "string"
        },
        {
         "name": "Brand",
         "rawType": "int64",
         "type": "integer"
        },
        {
         "name": "Description",
         "rawType": "object",
         "type": "string"
        },
        {
         "name": "Size",
         "rawType": "object",
         "type": "string"
        },
        {
         "name": "onHand",
         "rawType": "int64",
         "type": "integer"
        },
        {
         "name": "Price",
         "rawType": "float64",
         "type": "float"
        },
        {
         "name": "startDate",
         "rawType": "object",
         "type": "unknown"
        }
       ],
       "conversionMethod": "pd.DataFrame",
       "ref": "82ae5642-348c-4c3b-b28d-7ad48a83397f",
       "rows": [
        [
         "0",
         "\"1_HARDERSFIELD_1000\"",
         "1",
         "\"HARDERSFIELD\"",
         "1000",
         "\"Goslings Dark'n Stormy VAP\"",
         "\"750mL\"",
         "0",
         "14.99",
         "2016-01-01"
        ],
        [
         "1",
         "\"1_HARDERSFIELD_1001\"",
         "1",
         "\"HARDERSFIELD\"",
         "1001",
         "\"Baileys 50mL 4 Pack\"",
         "\"50mL 4 Pk\"",
         "0",
         "5.99",
         "2016-01-01"
        ],
        [
         "2",
         "\"1_HARDERSFIELD_10021\"",
         "1",
         "\"HARDERSFIELD\"",
         "10021",
         "\"Clayhouse Syrah Paso Robles\"",
         "\"750mL\"",
         "25",
         "11.99",
         "2016-01-01"
        ],
        [
         "3",
         "\"1_HARDERSFIELD_1004\"",
         "1",
         "\"HARDERSFIELD\"",
         "1004",
         "\"Jim Beam w/2 Rocks Glasses\"",
         "\"750mL\"",
         "17",
         "16.49",
         "2016-01-01"
        ],
        [
         "4",
         "\"1_HARDERSFIELD_1005\"",
         "1",
         "\"HARDERSFIELD\"",
         "1005",
         "\"Maker's Mark Combo Pack\"",
         "\"375mL 2 Pk\"",
         "7",
         "34.99",
         "2016-01-01"
        ]
       ],
       "shape": {
        "columns": 9,
        "rows": 5
       }
      },
      "text/html": [
       "<div>\n",
       "<style scoped>\n",
       "    .dataframe tbody tr th:only-of-type {\n",
       "        vertical-align: middle;\n",
       "    }\n",
       "\n",
       "    .dataframe tbody tr th {\n",
       "        vertical-align: top;\n",
       "    }\n",
       "\n",
       "    .dataframe thead th {\n",
       "        text-align: right;\n",
       "    }\n",
       "</style>\n",
       "<table border=\"1\" class=\"dataframe\">\n",
       "  <thead>\n",
       "    <tr style=\"text-align: right;\">\n",
       "      <th></th>\n",
       "      <th>ID_inventario_inicial</th>\n",
       "      <th>Store</th>\n",
       "      <th>City</th>\n",
       "      <th>Brand</th>\n",
       "      <th>Description</th>\n",
       "      <th>Size</th>\n",
       "      <th>onHand</th>\n",
       "      <th>Price</th>\n",
       "      <th>startDate</th>\n",
       "    </tr>\n",
       "  </thead>\n",
       "  <tbody>\n",
       "    <tr>\n",
       "      <th>0</th>\n",
       "      <td>\"1_HARDERSFIELD_1000\"</td>\n",
       "      <td>1</td>\n",
       "      <td>\"HARDERSFIELD\"</td>\n",
       "      <td>1000</td>\n",
       "      <td>\"Goslings Dark'n Stormy VAP\"</td>\n",
       "      <td>\"750mL\"</td>\n",
       "      <td>0</td>\n",
       "      <td>14.99</td>\n",
       "      <td>2016-01-01</td>\n",
       "    </tr>\n",
       "    <tr>\n",
       "      <th>1</th>\n",
       "      <td>\"1_HARDERSFIELD_1001\"</td>\n",
       "      <td>1</td>\n",
       "      <td>\"HARDERSFIELD\"</td>\n",
       "      <td>1001</td>\n",
       "      <td>\"Baileys 50mL 4 Pack\"</td>\n",
       "      <td>\"50mL 4 Pk\"</td>\n",
       "      <td>0</td>\n",
       "      <td>5.99</td>\n",
       "      <td>2016-01-01</td>\n",
       "    </tr>\n",
       "    <tr>\n",
       "      <th>2</th>\n",
       "      <td>\"1_HARDERSFIELD_10021\"</td>\n",
       "      <td>1</td>\n",
       "      <td>\"HARDERSFIELD\"</td>\n",
       "      <td>10021</td>\n",
       "      <td>\"Clayhouse Syrah Paso Robles\"</td>\n",
       "      <td>\"750mL\"</td>\n",
       "      <td>25</td>\n",
       "      <td>11.99</td>\n",
       "      <td>2016-01-01</td>\n",
       "    </tr>\n",
       "    <tr>\n",
       "      <th>3</th>\n",
       "      <td>\"1_HARDERSFIELD_1004\"</td>\n",
       "      <td>1</td>\n",
       "      <td>\"HARDERSFIELD\"</td>\n",
       "      <td>1004</td>\n",
       "      <td>\"Jim Beam w/2 Rocks Glasses\"</td>\n",
       "      <td>\"750mL\"</td>\n",
       "      <td>17</td>\n",
       "      <td>16.49</td>\n",
       "      <td>2016-01-01</td>\n",
       "    </tr>\n",
       "    <tr>\n",
       "      <th>4</th>\n",
       "      <td>\"1_HARDERSFIELD_1005\"</td>\n",
       "      <td>1</td>\n",
       "      <td>\"HARDERSFIELD\"</td>\n",
       "      <td>1005</td>\n",
       "      <td>\"Maker's Mark Combo Pack\"</td>\n",
       "      <td>\"375mL 2 Pk\"</td>\n",
       "      <td>7</td>\n",
       "      <td>34.99</td>\n",
       "      <td>2016-01-01</td>\n",
       "    </tr>\n",
       "  </tbody>\n",
       "</table>\n",
       "</div>"
      ],
      "text/plain": [
       "    ID_inventario_inicial  Store            City  Brand  \\\n",
       "0   \"1_HARDERSFIELD_1000\"      1  \"HARDERSFIELD\"   1000   \n",
       "1   \"1_HARDERSFIELD_1001\"      1  \"HARDERSFIELD\"   1001   \n",
       "2  \"1_HARDERSFIELD_10021\"      1  \"HARDERSFIELD\"  10021   \n",
       "3   \"1_HARDERSFIELD_1004\"      1  \"HARDERSFIELD\"   1004   \n",
       "4   \"1_HARDERSFIELD_1005\"      1  \"HARDERSFIELD\"   1005   \n",
       "\n",
       "                     Description          Size  onHand  Price   startDate  \n",
       "0   \"Goslings Dark'n Stormy VAP\"       \"750mL\"       0  14.99  2016-01-01  \n",
       "1          \"Baileys 50mL 4 Pack\"   \"50mL 4 Pk\"       0   5.99  2016-01-01  \n",
       "2  \"Clayhouse Syrah Paso Robles\"       \"750mL\"      25  11.99  2016-01-01  \n",
       "3   \"Jim Beam w/2 Rocks Glasses\"       \"750mL\"      17  16.49  2016-01-01  \n",
       "4      \"Maker's Mark Combo Pack\"  \"375mL 2 Pk\"       7  34.99  2016-01-01  "
      ]
     },
     "execution_count": 37,
     "metadata": {},
     "output_type": "execute_result"
    }
   ],
   "source": [
    "# muestra los primeros 5 registros de la tabla para verificar que se importó bien\n",
    "df_InventarioInicial.head(5) "
   ]
  },
  {
   "cell_type": "code",
   "execution_count": 38,
   "id": "a253046d",
   "metadata": {},
   "outputs": [
    {
     "name": "stdout",
     "output_type": "stream",
     "text": [
      "<class 'pandas.core.frame.DataFrame'>\n",
      "RangeIndex: 206529 entries, 0 to 206528\n",
      "Data columns (total 9 columns):\n",
      " #   Column                 Non-Null Count   Dtype  \n",
      "---  ------                 --------------   -----  \n",
      " 0   ID_inventario_inicial  206529 non-null  object \n",
      " 1   Store                  206529 non-null  int64  \n",
      " 2   City                   206529 non-null  object \n",
      " 3   Brand                  206529 non-null  int64  \n",
      " 4   Description            206529 non-null  object \n",
      " 5   Size                   206529 non-null  object \n",
      " 6   onHand                 206529 non-null  int64  \n",
      " 7   Price                  206529 non-null  float64\n",
      " 8   startDate              206529 non-null  object \n",
      "dtypes: float64(1), int64(3), object(5)\n",
      "memory usage: 14.2+ MB\n",
      "None\n"
     ]
    }
   ],
   "source": [
    "# Descripción del DataFrame\n",
    "print(df_InventarioInicial.info())"
   ]
  },
  {
   "cell_type": "code",
   "execution_count": 39,
   "id": "d83f61fd",
   "metadata": {},
   "outputs": [
    {
     "name": "stdout",
     "output_type": "stream",
     "text": [
      "               Store          Brand         onHand          Price\n",
      "count  206529.000000  206529.000000  206529.000000  206529.000000\n",
      "mean       42.122457   13761.482320      20.429455      22.253910\n",
      "std        23.191393   13059.429355      31.467342      70.178964\n",
      "min         1.000000      58.000000       0.000000       0.000000\n",
      "25%        22.000000    3746.000000       7.000000       9.990000\n",
      "50%        42.000000    8010.000000      12.000000      14.990000\n",
      "75%        64.000000   22143.000000      21.000000      21.990000\n",
      "max        79.000000   90090.000000    1251.000000   13999.900000\n"
     ]
    }
   ],
   "source": [
    "# Resumen estadístico de las columnas numéricas\n",
    "print(df_InventarioInicial.describe())"
   ]
  },
  {
   "cell_type": "code",
   "execution_count": 40,
   "id": "e4b83f04",
   "metadata": {},
   "outputs": [
    {
     "data": {
      "text/plain": [
       "Series([], dtype: int64)"
      ]
     },
     "execution_count": 40,
     "metadata": {},
     "output_type": "execute_result"
    }
   ],
   "source": [
    "# Cantidad de valores nulos por columna\n",
    "df_InventarioInicial.isnull().sum()[df_InventarioInicial.isnull().sum()>0] # Filtrando por aquellos que contengan por lo menos 1 nulo"
   ]
  },
  {
   "cell_type": "markdown",
   "id": "f5e6c91a",
   "metadata": {},
   "source": [
    "#### 2.6 Tabla a analizar InventarioFinal"
   ]
  },
  {
   "cell_type": "code",
   "execution_count": 41,
   "id": "75b92257",
   "metadata": {},
   "outputs": [],
   "source": [
    "# Creamos df con la tabla de la db\n",
    "df_InventarioFinal = pd.read_sql('SELECT * FROM InventarioFinal', engine)"
   ]
  },
  {
   "cell_type": "code",
   "execution_count": 42,
   "id": "2b2d3a6c",
   "metadata": {},
   "outputs": [
    {
     "data": {
      "application/vnd.microsoft.datawrangler.viewer.v0+json": {
       "columns": [
        {
         "name": "index",
         "rawType": "int64",
         "type": "integer"
        },
        {
         "name": "ID_inventario_final",
         "rawType": "object",
         "type": "string"
        },
        {
         "name": "Store",
         "rawType": "int64",
         "type": "integer"
        },
        {
         "name": "City",
         "rawType": "object",
         "type": "string"
        },
        {
         "name": "Brand",
         "rawType": "int64",
         "type": "integer"
        },
        {
         "name": "Description",
         "rawType": "object",
         "type": "string"
        },
        {
         "name": "Size",
         "rawType": "object",
         "type": "string"
        },
        {
         "name": "onHand",
         "rawType": "int64",
         "type": "integer"
        },
        {
         "name": "Price",
         "rawType": "float64",
         "type": "float"
        },
        {
         "name": "endDate",
         "rawType": "object",
         "type": "unknown"
        }
       ],
       "conversionMethod": "pd.DataFrame",
       "ref": "c8188ea2-b5ee-4cdb-9213-9755be3cf353",
       "rows": [
        [
         "0",
         "\"1_HARDERSFIELD_1001\"",
         "1",
         "\"HARDERSFIELD\"",
         "1001",
         "\"Baileys 50mL 4 Pack\"",
         "\"50mL 4 Pk\"",
         "0",
         "5.99",
         "2016-12-31"
        ],
        [
         "1",
         "\"1_HARDERSFIELD_10021\"",
         "1",
         "\"HARDERSFIELD\"",
         "10021",
         "\"Clayhouse Syrah Paso Robles\"",
         "\"750mL\"",
         "23",
         "13.99",
         "2016-12-31"
        ],
        [
         "2",
         "\"1_HARDERSFIELD_1003\"",
         "1",
         "\"HARDERSFIELD\"",
         "1003",
         "\"Crown Royal VAP Glass+Coastr\"",
         "\"750mL\"",
         "0",
         "22.99",
         "2016-12-31"
        ],
        [
         "3",
         "\"1_HARDERSFIELD_10058\"",
         "1",
         "\"HARDERSFIELD\"",
         "10058",
         "\"F Coppola Dmd Ivry Cab Svgn\"",
         "\"750mL\"",
         "47",
         "14.99",
         "2016-12-31"
        ],
        [
         "4",
         "\"1_HARDERSFIELD_10062\"",
         "1",
         "\"HARDERSFIELD\"",
         "10062",
         "\"B de Beauchene CDR Rouge\"",
         "\"750mL\"",
         "29",
         "8.99",
         "2016-12-31"
        ]
       ],
       "shape": {
        "columns": 9,
        "rows": 5
       }
      },
      "text/html": [
       "<div>\n",
       "<style scoped>\n",
       "    .dataframe tbody tr th:only-of-type {\n",
       "        vertical-align: middle;\n",
       "    }\n",
       "\n",
       "    .dataframe tbody tr th {\n",
       "        vertical-align: top;\n",
       "    }\n",
       "\n",
       "    .dataframe thead th {\n",
       "        text-align: right;\n",
       "    }\n",
       "</style>\n",
       "<table border=\"1\" class=\"dataframe\">\n",
       "  <thead>\n",
       "    <tr style=\"text-align: right;\">\n",
       "      <th></th>\n",
       "      <th>ID_inventario_final</th>\n",
       "      <th>Store</th>\n",
       "      <th>City</th>\n",
       "      <th>Brand</th>\n",
       "      <th>Description</th>\n",
       "      <th>Size</th>\n",
       "      <th>onHand</th>\n",
       "      <th>Price</th>\n",
       "      <th>endDate</th>\n",
       "    </tr>\n",
       "  </thead>\n",
       "  <tbody>\n",
       "    <tr>\n",
       "      <th>0</th>\n",
       "      <td>\"1_HARDERSFIELD_1001\"</td>\n",
       "      <td>1</td>\n",
       "      <td>\"HARDERSFIELD\"</td>\n",
       "      <td>1001</td>\n",
       "      <td>\"Baileys 50mL 4 Pack\"</td>\n",
       "      <td>\"50mL 4 Pk\"</td>\n",
       "      <td>0</td>\n",
       "      <td>5.99</td>\n",
       "      <td>2016-12-31</td>\n",
       "    </tr>\n",
       "    <tr>\n",
       "      <th>1</th>\n",
       "      <td>\"1_HARDERSFIELD_10021\"</td>\n",
       "      <td>1</td>\n",
       "      <td>\"HARDERSFIELD\"</td>\n",
       "      <td>10021</td>\n",
       "      <td>\"Clayhouse Syrah Paso Robles\"</td>\n",
       "      <td>\"750mL\"</td>\n",
       "      <td>23</td>\n",
       "      <td>13.99</td>\n",
       "      <td>2016-12-31</td>\n",
       "    </tr>\n",
       "    <tr>\n",
       "      <th>2</th>\n",
       "      <td>\"1_HARDERSFIELD_1003\"</td>\n",
       "      <td>1</td>\n",
       "      <td>\"HARDERSFIELD\"</td>\n",
       "      <td>1003</td>\n",
       "      <td>\"Crown Royal VAP Glass+Coastr\"</td>\n",
       "      <td>\"750mL\"</td>\n",
       "      <td>0</td>\n",
       "      <td>22.99</td>\n",
       "      <td>2016-12-31</td>\n",
       "    </tr>\n",
       "    <tr>\n",
       "      <th>3</th>\n",
       "      <td>\"1_HARDERSFIELD_10058\"</td>\n",
       "      <td>1</td>\n",
       "      <td>\"HARDERSFIELD\"</td>\n",
       "      <td>10058</td>\n",
       "      <td>\"F Coppola Dmd Ivry Cab Svgn\"</td>\n",
       "      <td>\"750mL\"</td>\n",
       "      <td>47</td>\n",
       "      <td>14.99</td>\n",
       "      <td>2016-12-31</td>\n",
       "    </tr>\n",
       "    <tr>\n",
       "      <th>4</th>\n",
       "      <td>\"1_HARDERSFIELD_10062\"</td>\n",
       "      <td>1</td>\n",
       "      <td>\"HARDERSFIELD\"</td>\n",
       "      <td>10062</td>\n",
       "      <td>\"B de Beauchene CDR Rouge\"</td>\n",
       "      <td>\"750mL\"</td>\n",
       "      <td>29</td>\n",
       "      <td>8.99</td>\n",
       "      <td>2016-12-31</td>\n",
       "    </tr>\n",
       "  </tbody>\n",
       "</table>\n",
       "</div>"
      ],
      "text/plain": [
       "      ID_inventario_final  Store            City  Brand  \\\n",
       "0   \"1_HARDERSFIELD_1001\"      1  \"HARDERSFIELD\"   1001   \n",
       "1  \"1_HARDERSFIELD_10021\"      1  \"HARDERSFIELD\"  10021   \n",
       "2   \"1_HARDERSFIELD_1003\"      1  \"HARDERSFIELD\"   1003   \n",
       "3  \"1_HARDERSFIELD_10058\"      1  \"HARDERSFIELD\"  10058   \n",
       "4  \"1_HARDERSFIELD_10062\"      1  \"HARDERSFIELD\"  10062   \n",
       "\n",
       "                      Description         Size  onHand  Price     endDate  \n",
       "0           \"Baileys 50mL 4 Pack\"  \"50mL 4 Pk\"       0   5.99  2016-12-31  \n",
       "1   \"Clayhouse Syrah Paso Robles\"      \"750mL\"      23  13.99  2016-12-31  \n",
       "2  \"Crown Royal VAP Glass+Coastr\"      \"750mL\"       0  22.99  2016-12-31  \n",
       "3   \"F Coppola Dmd Ivry Cab Svgn\"      \"750mL\"      47  14.99  2016-12-31  \n",
       "4      \"B de Beauchene CDR Rouge\"      \"750mL\"      29   8.99  2016-12-31  "
      ]
     },
     "execution_count": 42,
     "metadata": {},
     "output_type": "execute_result"
    }
   ],
   "source": [
    "# muestra los primeros 5 registros de la tabla para verificar que se importó bien\n",
    "df_InventarioFinal.head(5)"
   ]
  },
  {
   "cell_type": "code",
   "execution_count": 43,
   "id": "eec8b174",
   "metadata": {},
   "outputs": [
    {
     "name": "stdout",
     "output_type": "stream",
     "text": [
      "<class 'pandas.core.frame.DataFrame'>\n",
      "RangeIndex: 224489 entries, 0 to 224488\n",
      "Data columns (total 9 columns):\n",
      " #   Column               Non-Null Count   Dtype  \n",
      "---  ------               --------------   -----  \n",
      " 0   ID_inventario_final  224489 non-null  object \n",
      " 1   Store                224489 non-null  int64  \n",
      " 2   City                 224489 non-null  object \n",
      " 3   Brand                224489 non-null  int64  \n",
      " 4   Description          224489 non-null  object \n",
      " 5   Size                 224489 non-null  object \n",
      " 6   onHand               224489 non-null  int64  \n",
      " 7   Price                224489 non-null  float64\n",
      " 8   endDate              224489 non-null  object \n",
      "dtypes: float64(1), int64(3), object(5)\n",
      "memory usage: 15.4+ MB\n",
      "None\n"
     ]
    }
   ],
   "source": [
    "# Descripción del DataFrame\n",
    "print(df_InventarioFinal.info())"
   ]
  },
  {
   "cell_type": "code",
   "execution_count": 44,
   "id": "fbf1b08b",
   "metadata": {},
   "outputs": [
    {
     "name": "stdout",
     "output_type": "stream",
     "text": [
      "               Store          Brand         onHand          Price\n",
      "count  224489.000000  224489.000000  224489.000000  224489.000000\n",
      "mean       43.505740   14356.370513      21.763988      23.585583\n",
      "std        23.326415   13118.467851      37.233576      79.202775\n",
      "min         1.000000      58.000000       0.000000       0.490000\n",
      "25%        23.000000    3798.000000       7.000000       9.990000\n",
      "50%        44.000000    8259.000000      12.000000      14.990000\n",
      "75%        66.000000   23965.000000      22.000000      23.490000\n",
      "max        81.000000   90631.000000    3676.000000   13999.900000\n"
     ]
    }
   ],
   "source": [
    "# Resumen estadístico de las columnas numéricas\n",
    "print(df_InventarioFinal.describe())"
   ]
  },
  {
   "cell_type": "code",
   "execution_count": 45,
   "id": "b8770a0d",
   "metadata": {},
   "outputs": [
    {
     "data": {
      "text/plain": [
       "Series([], dtype: int64)"
      ]
     },
     "execution_count": 45,
     "metadata": {},
     "output_type": "execute_result"
    }
   ],
   "source": [
    "# Cantidad de valores nulos por columna\n",
    "df_InventarioFinal.isnull().sum()[df_InventarioFinal.isnull().sum()>0] # Filtrando por aquellos que contengan por lo menos 1 nulo"
   ]
  },
  {
   "cell_type": "markdown",
   "id": "23b33fef",
   "metadata": {},
   "source": [
    "Explayamos sobre valores nulos"
   ]
  },
  {
   "cell_type": "code",
   "execution_count": 47,
   "id": "7462aed8",
   "metadata": {},
   "outputs": [
    {
     "data": {
      "application/vnd.microsoft.datawrangler.viewer.v0+json": {
       "columns": [
        {
         "name": "index",
         "rawType": "int64",
         "type": "integer"
        },
        {
         "name": "ID_inventario_final",
         "rawType": "object",
         "type": "string"
        },
        {
         "name": "Store",
         "rawType": "int64",
         "type": "integer"
        },
        {
         "name": "City",
         "rawType": "object",
         "type": "string"
        },
        {
         "name": "Brand",
         "rawType": "int64",
         "type": "integer"
        },
        {
         "name": "Description",
         "rawType": "object",
         "type": "string"
        },
        {
         "name": "Size",
         "rawType": "object",
         "type": "string"
        },
        {
         "name": "onHand",
         "rawType": "int64",
         "type": "integer"
        },
        {
         "name": "Price",
         "rawType": "float64",
         "type": "float"
        },
        {
         "name": "endDate",
         "rawType": "object",
         "type": "string"
        }
       ],
       "conversionMethod": "pd.DataFrame",
       "ref": "6d2272c4-d714-455d-986b-af2152ede7e8",
       "rows": [],
       "shape": {
        "columns": 9,
        "rows": 0
       }
      },
      "text/html": [
       "<div>\n",
       "<style scoped>\n",
       "    .dataframe tbody tr th:only-of-type {\n",
       "        vertical-align: middle;\n",
       "    }\n",
       "\n",
       "    .dataframe tbody tr th {\n",
       "        vertical-align: top;\n",
       "    }\n",
       "\n",
       "    .dataframe thead th {\n",
       "        text-align: right;\n",
       "    }\n",
       "</style>\n",
       "<table border=\"1\" class=\"dataframe\">\n",
       "  <thead>\n",
       "    <tr style=\"text-align: right;\">\n",
       "      <th></th>\n",
       "      <th>ID_inventario_final</th>\n",
       "      <th>Store</th>\n",
       "      <th>City</th>\n",
       "      <th>Brand</th>\n",
       "      <th>Description</th>\n",
       "      <th>Size</th>\n",
       "      <th>onHand</th>\n",
       "      <th>Price</th>\n",
       "      <th>endDate</th>\n",
       "    </tr>\n",
       "  </thead>\n",
       "  <tbody>\n",
       "  </tbody>\n",
       "</table>\n",
       "</div>"
      ],
      "text/plain": [
       "Empty DataFrame\n",
       "Columns: [ID_inventario_final, Store, City, Brand, Description, Size, onHand, Price, endDate]\n",
       "Index: []"
      ]
     },
     "execution_count": 47,
     "metadata": {},
     "output_type": "execute_result"
    }
   ],
   "source": [
    "#Creamos DataFrame solo con los registros que contienen valores nulos en City\n",
    "df_InventarioFinal_nulos = df_InventarioFinal[df_InventarioFinal.isnull().any(axis=1)] # Filtra las filas que tienen al menos un valor nulo\n",
    "df_InventarioFinal_nulos"
   ]
  },
  {
   "cell_type": "markdown",
   "id": "d64ed666",
   "metadata": {},
   "source": [
    "A priori parece que únicamente faltan los datos de City para la tienda 46, por lo que procedemos a corroborarlo"
   ]
  },
  {
   "cell_type": "code",
   "execution_count": 48,
   "id": "c1f28bd8",
   "metadata": {},
   "outputs": [
    {
     "data": {
      "text/plain": [
       "Series([], Name: City, dtype: object)"
      ]
     },
     "execution_count": 48,
     "metadata": {},
     "output_type": "execute_result"
    }
   ],
   "source": [
    "# Contamos cantidad de valores nulos de City por Store\n",
    "df_InventarioFinal_nulos.groupby(\"Store\")[\"City\"].apply(lambda x: x.isnull().sum()) # Función que le asigna a cada valor si es nulo o no y luego los suma"
   ]
  },
  {
   "cell_type": "markdown",
   "id": "85dfdc67",
   "metadata": {},
   "source": [
    "#### 2.7 Tabla a analizar Compras"
   ]
  },
  {
   "cell_type": "code",
   "execution_count": 49,
   "id": "df2dbc46",
   "metadata": {},
   "outputs": [],
   "source": [
    "# Creamos df con la tabla de la db\n",
    "df_Compras = pd.read_sql('SELECT * FROM Compras', engine)"
   ]
  },
  {
   "cell_type": "code",
   "execution_count": 50,
   "id": "4c39146c",
   "metadata": {},
   "outputs": [
    {
     "data": {
      "application/vnd.microsoft.datawrangler.viewer.v0+json": {
       "columns": [
        {
         "name": "index",
         "rawType": "int64",
         "type": "integer"
        },
        {
         "name": "InventoryId",
         "rawType": "object",
         "type": "string"
        },
        {
         "name": "Store",
         "rawType": "int64",
         "type": "integer"
        },
        {
         "name": "Brand",
         "rawType": "int64",
         "type": "integer"
        },
        {
         "name": "Description",
         "rawType": "object",
         "type": "string"
        },
        {
         "name": "Size",
         "rawType": "object",
         "type": "string"
        },
        {
         "name": "VendorNumber",
         "rawType": "int64",
         "type": "integer"
        },
        {
         "name": "VendorName",
         "rawType": "object",
         "type": "string"
        },
        {
         "name": "PONumber",
         "rawType": "object",
         "type": "string"
        },
        {
         "name": "PODate",
         "rawType": "object",
         "type": "string"
        },
        {
         "name": "ReceivingDate",
         "rawType": "object",
         "type": "string"
        },
        {
         "name": "InvoiceDate",
         "rawType": "object",
         "type": "string"
        },
        {
         "name": "PayDate",
         "rawType": "object",
         "type": "string"
        },
        {
         "name": "Purchase_Price",
         "rawType": "object",
         "type": "string"
        },
        {
         "name": "Quantity",
         "rawType": "object",
         "type": "string"
        },
        {
         "name": "Total_Amount",
         "rawType": "float64",
         "type": "float"
        },
        {
         "name": "Classification",
         "rawType": "object",
         "type": "string"
        }
       ],
       "conversionMethod": "pd.DataFrame",
       "ref": "87ec47b2-bee7-48e8-b615-572359aa8ea9",
       "rows": [
        [
         "0",
         "\"69_MOUNTMEND_8412\"",
         "69",
         "8412",
         "\"Tequila Ocho Plata Fresno\"",
         "\"750mL\"",
         "105",
         "\"ALTAMAR BRANDS LLC         \"",
         "8124",
         "\"2015-12-21\"",
         "\"2016-01-02\"",
         "\"2016-01-04\"",
         "\"2016-02-16\"",
         "35.71",
         "6",
         "214.26",
         "1"
        ],
        [
         "1",
         "\"30_CULCHETH_5255\"",
         "30",
         "5255",
         "\"TGI Fridays Ultimte Mudslide\"",
         "\"1.75L\"",
         "4466",
         "\"AMERICAN VINTAGE BEVERAGE  \"",
         "8137",
         "\"2015-12-22\"",
         "\"2016-01-01\"",
         "\"2016-01-07\"",
         "\"2016-02-21\"",
         "9.35",
         "4",
         "37.4",
         "1"
        ],
        [
         "2",
         "\"34_PITMERDEN_5215\"",
         "34",
         "5215",
         "\"TGI Fridays Long Island Iced\"",
         "\"1.75L\"",
         "4466",
         "\"AMERICAN VINTAGE BEVERAGE  \"",
         "8137",
         "\"2015-12-22\"",
         "\"2016-01-02\"",
         "\"2016-01-07\"",
         "\"2016-02-21\"",
         "9.41",
         "5",
         "47.05",
         "1"
        ],
        [
         "3",
         "\"1_HARDERSFIELD_5255\"",
         "1",
         "5255",
         "\"TGI Fridays Ultimte Mudslide\"",
         "\"1.75L\"",
         "4466",
         "\"AMERICAN VINTAGE BEVERAGE  \"",
         "8137",
         "\"2015-12-22\"",
         "\"2016-01-01\"",
         "\"2016-01-07\"",
         "\"2016-02-21\"",
         "9.35",
         "6",
         "56.1",
         "1"
        ],
        [
         "4",
         "\"76_DONCASTER_2034\"",
         "76",
         "2034",
         "\"Glendalough Double Barrel\"",
         "\"750mL\"",
         "388",
         "\"ATLANTIC IMPORTING COMPANY \"",
         "8169",
         "\"2015-12-24\"",
         "\"2016-01-02\"",
         "\"2016-01-09\"",
         "\"2016-02-16\"",
         "21.32",
         "5",
         "106.6",
         "1"
        ]
       ],
       "shape": {
        "columns": 16,
        "rows": 5
       }
      },
      "text/html": [
       "<div>\n",
       "<style scoped>\n",
       "    .dataframe tbody tr th:only-of-type {\n",
       "        vertical-align: middle;\n",
       "    }\n",
       "\n",
       "    .dataframe tbody tr th {\n",
       "        vertical-align: top;\n",
       "    }\n",
       "\n",
       "    .dataframe thead th {\n",
       "        text-align: right;\n",
       "    }\n",
       "</style>\n",
       "<table border=\"1\" class=\"dataframe\">\n",
       "  <thead>\n",
       "    <tr style=\"text-align: right;\">\n",
       "      <th></th>\n",
       "      <th>InventoryId</th>\n",
       "      <th>Store</th>\n",
       "      <th>Brand</th>\n",
       "      <th>Description</th>\n",
       "      <th>Size</th>\n",
       "      <th>VendorNumber</th>\n",
       "      <th>VendorName</th>\n",
       "      <th>PONumber</th>\n",
       "      <th>PODate</th>\n",
       "      <th>ReceivingDate</th>\n",
       "      <th>InvoiceDate</th>\n",
       "      <th>PayDate</th>\n",
       "      <th>Purchase_Price</th>\n",
       "      <th>Quantity</th>\n",
       "      <th>Total_Amount</th>\n",
       "      <th>Classification</th>\n",
       "    </tr>\n",
       "  </thead>\n",
       "  <tbody>\n",
       "    <tr>\n",
       "      <th>0</th>\n",
       "      <td>\"69_MOUNTMEND_8412\"</td>\n",
       "      <td>69</td>\n",
       "      <td>8412</td>\n",
       "      <td>\"Tequila Ocho Plata Fresno\"</td>\n",
       "      <td>\"750mL\"</td>\n",
       "      <td>105</td>\n",
       "      <td>\"ALTAMAR BRANDS LLC         \"</td>\n",
       "      <td>8124</td>\n",
       "      <td>\"2015-12-21\"</td>\n",
       "      <td>\"2016-01-02\"</td>\n",
       "      <td>\"2016-01-04\"</td>\n",
       "      <td>\"2016-02-16\"</td>\n",
       "      <td>35.71</td>\n",
       "      <td>6</td>\n",
       "      <td>214.26</td>\n",
       "      <td>1</td>\n",
       "    </tr>\n",
       "    <tr>\n",
       "      <th>1</th>\n",
       "      <td>\"30_CULCHETH_5255\"</td>\n",
       "      <td>30</td>\n",
       "      <td>5255</td>\n",
       "      <td>\"TGI Fridays Ultimte Mudslide\"</td>\n",
       "      <td>\"1.75L\"</td>\n",
       "      <td>4466</td>\n",
       "      <td>\"AMERICAN VINTAGE BEVERAGE  \"</td>\n",
       "      <td>8137</td>\n",
       "      <td>\"2015-12-22\"</td>\n",
       "      <td>\"2016-01-01\"</td>\n",
       "      <td>\"2016-01-07\"</td>\n",
       "      <td>\"2016-02-21\"</td>\n",
       "      <td>9.35</td>\n",
       "      <td>4</td>\n",
       "      <td>37.40</td>\n",
       "      <td>1</td>\n",
       "    </tr>\n",
       "    <tr>\n",
       "      <th>2</th>\n",
       "      <td>\"34_PITMERDEN_5215\"</td>\n",
       "      <td>34</td>\n",
       "      <td>5215</td>\n",
       "      <td>\"TGI Fridays Long Island Iced\"</td>\n",
       "      <td>\"1.75L\"</td>\n",
       "      <td>4466</td>\n",
       "      <td>\"AMERICAN VINTAGE BEVERAGE  \"</td>\n",
       "      <td>8137</td>\n",
       "      <td>\"2015-12-22\"</td>\n",
       "      <td>\"2016-01-02\"</td>\n",
       "      <td>\"2016-01-07\"</td>\n",
       "      <td>\"2016-02-21\"</td>\n",
       "      <td>9.41</td>\n",
       "      <td>5</td>\n",
       "      <td>47.05</td>\n",
       "      <td>1</td>\n",
       "    </tr>\n",
       "    <tr>\n",
       "      <th>3</th>\n",
       "      <td>\"1_HARDERSFIELD_5255\"</td>\n",
       "      <td>1</td>\n",
       "      <td>5255</td>\n",
       "      <td>\"TGI Fridays Ultimte Mudslide\"</td>\n",
       "      <td>\"1.75L\"</td>\n",
       "      <td>4466</td>\n",
       "      <td>\"AMERICAN VINTAGE BEVERAGE  \"</td>\n",
       "      <td>8137</td>\n",
       "      <td>\"2015-12-22\"</td>\n",
       "      <td>\"2016-01-01\"</td>\n",
       "      <td>\"2016-01-07\"</td>\n",
       "      <td>\"2016-02-21\"</td>\n",
       "      <td>9.35</td>\n",
       "      <td>6</td>\n",
       "      <td>56.10</td>\n",
       "      <td>1</td>\n",
       "    </tr>\n",
       "    <tr>\n",
       "      <th>4</th>\n",
       "      <td>\"76_DONCASTER_2034\"</td>\n",
       "      <td>76</td>\n",
       "      <td>2034</td>\n",
       "      <td>\"Glendalough Double Barrel\"</td>\n",
       "      <td>\"750mL\"</td>\n",
       "      <td>388</td>\n",
       "      <td>\"ATLANTIC IMPORTING COMPANY \"</td>\n",
       "      <td>8169</td>\n",
       "      <td>\"2015-12-24\"</td>\n",
       "      <td>\"2016-01-02\"</td>\n",
       "      <td>\"2016-01-09\"</td>\n",
       "      <td>\"2016-02-16\"</td>\n",
       "      <td>21.32</td>\n",
       "      <td>5</td>\n",
       "      <td>106.60</td>\n",
       "      <td>1</td>\n",
       "    </tr>\n",
       "  </tbody>\n",
       "</table>\n",
       "</div>"
      ],
      "text/plain": [
       "             InventoryId  Store  Brand                     Description  \\\n",
       "0    \"69_MOUNTMEND_8412\"     69   8412     \"Tequila Ocho Plata Fresno\"   \n",
       "1     \"30_CULCHETH_5255\"     30   5255  \"TGI Fridays Ultimte Mudslide\"   \n",
       "2    \"34_PITMERDEN_5215\"     34   5215  \"TGI Fridays Long Island Iced\"   \n",
       "3  \"1_HARDERSFIELD_5255\"      1   5255  \"TGI Fridays Ultimte Mudslide\"   \n",
       "4    \"76_DONCASTER_2034\"     76   2034     \"Glendalough Double Barrel\"   \n",
       "\n",
       "      Size  VendorNumber                     VendorName PONumber  \\\n",
       "0  \"750mL\"           105  \"ALTAMAR BRANDS LLC         \"     8124   \n",
       "1  \"1.75L\"          4466  \"AMERICAN VINTAGE BEVERAGE  \"     8137   \n",
       "2  \"1.75L\"          4466  \"AMERICAN VINTAGE BEVERAGE  \"     8137   \n",
       "3  \"1.75L\"          4466  \"AMERICAN VINTAGE BEVERAGE  \"     8137   \n",
       "4  \"750mL\"           388  \"ATLANTIC IMPORTING COMPANY \"     8169   \n",
       "\n",
       "         PODate ReceivingDate   InvoiceDate       PayDate Purchase_Price  \\\n",
       "0  \"2015-12-21\"  \"2016-01-02\"  \"2016-01-04\"  \"2016-02-16\"          35.71   \n",
       "1  \"2015-12-22\"  \"2016-01-01\"  \"2016-01-07\"  \"2016-02-21\"           9.35   \n",
       "2  \"2015-12-22\"  \"2016-01-02\"  \"2016-01-07\"  \"2016-02-21\"           9.41   \n",
       "3  \"2015-12-22\"  \"2016-01-01\"  \"2016-01-07\"  \"2016-02-21\"           9.35   \n",
       "4  \"2015-12-24\"  \"2016-01-02\"  \"2016-01-09\"  \"2016-02-16\"          21.32   \n",
       "\n",
       "  Quantity  Total_Amount Classification  \n",
       "0        6        214.26              1  \n",
       "1        4         37.40              1  \n",
       "2        5         47.05              1  \n",
       "3        6         56.10              1  \n",
       "4        5        106.60              1  "
      ]
     },
     "execution_count": 50,
     "metadata": {},
     "output_type": "execute_result"
    }
   ],
   "source": [
    "# muestra los primeros 5 registros de la tabla para verificar que se importó bien\n",
    "df_Compras.head(5)"
   ]
  },
  {
   "cell_type": "code",
   "execution_count": 51,
   "id": "678c9722",
   "metadata": {},
   "outputs": [
    {
     "name": "stdout",
     "output_type": "stream",
     "text": [
      "<class 'pandas.core.frame.DataFrame'>\n",
      "RangeIndex: 2372474 entries, 0 to 2372473\n",
      "Data columns (total 16 columns):\n",
      " #   Column          Dtype  \n",
      "---  ------          -----  \n",
      " 0   InventoryId     object \n",
      " 1   Store           int64  \n",
      " 2   Brand           int64  \n",
      " 3   Description     object \n",
      " 4   Size            object \n",
      " 5   VendorNumber    int64  \n",
      " 6   VendorName      object \n",
      " 7   PONumber        object \n",
      " 8   PODate          object \n",
      " 9   ReceivingDate   object \n",
      " 10  InvoiceDate     object \n",
      " 11  PayDate         object \n",
      " 12  Purchase_Price  object \n",
      " 13  Quantity        object \n",
      " 14  Total_Amount    float64\n",
      " 15  Classification  object \n",
      "dtypes: float64(1), int64(3), object(12)\n",
      "memory usage: 289.6+ MB\n",
      "None\n"
     ]
    }
   ],
   "source": [
    "# Descripción del DataFrame\n",
    "print(df_Compras.info())"
   ]
  },
  {
   "cell_type": "code",
   "execution_count": 52,
   "id": "66f6fc32",
   "metadata": {},
   "outputs": [
    {
     "name": "stdout",
     "output_type": "stream",
     "text": [
      "              Store         Brand  VendorNumber  Total_Amount\n",
      "count  2.372474e+06  2.372474e+06  2.372474e+06  2.372474e+06\n",
      "mean   4.465133e+01  1.241864e+04  6.886436e+03  1.342348e+02\n",
      "std    2.351245e+01  1.255728e+04  8.066694e+03  2.805286e+02\n",
      "min    1.000000e+00  5.800000e+01  2.000000e+00  0.000000e+00\n",
      "25%    2.500000e+01  3.639000e+03  3.252000e+03  4.794000e+01\n",
      "50%    4.800000e+01  6.523000e+03  4.425000e+03  8.268000e+01\n",
      "75%    6.700000e+01  1.887700e+04  9.552000e+03  1.387200e+02\n",
      "max    8.100000e+01  9.063100e+04  2.013590e+05  5.017570e+04\n"
     ]
    }
   ],
   "source": [
    "# Resumen estadístico de las columnas numéricas\n",
    "print(df_Compras.describe())"
   ]
  },
  {
   "cell_type": "code",
   "execution_count": 53,
   "id": "577fa94c",
   "metadata": {},
   "outputs": [
    {
     "data": {
      "text/plain": [
       "Series([], dtype: int64)"
      ]
     },
     "execution_count": 53,
     "metadata": {},
     "output_type": "execute_result"
    }
   ],
   "source": [
    "# Cantidad de valores nulos por columna\n",
    "df_Compras.isnull().sum()[df_Compras.isnull().sum()>0] # Filtrando por aquellos que contengan por lo menos 1 nulo"
   ]
  },
  {
   "cell_type": "markdown",
   "id": "99be4da9",
   "metadata": {},
   "source": [
    "Explayamos sobre valores nulos"
   ]
  },
  {
   "cell_type": "code",
   "execution_count": 54,
   "id": "9e2573ca",
   "metadata": {},
   "outputs": [
    {
     "data": {
      "application/vnd.microsoft.datawrangler.viewer.v0+json": {
       "columns": [
        {
         "name": "index",
         "rawType": "int64",
         "type": "integer"
        },
        {
         "name": "InventoryId",
         "rawType": "object",
         "type": "string"
        },
        {
         "name": "Store",
         "rawType": "int64",
         "type": "integer"
        },
        {
         "name": "Brand",
         "rawType": "int64",
         "type": "integer"
        },
        {
         "name": "Description",
         "rawType": "object",
         "type": "string"
        },
        {
         "name": "Size",
         "rawType": "object",
         "type": "string"
        },
        {
         "name": "VendorNumber",
         "rawType": "int64",
         "type": "integer"
        },
        {
         "name": "VendorName",
         "rawType": "object",
         "type": "string"
        },
        {
         "name": "PONumber",
         "rawType": "object",
         "type": "string"
        },
        {
         "name": "PODate",
         "rawType": "object",
         "type": "string"
        },
        {
         "name": "ReceivingDate",
         "rawType": "object",
         "type": "string"
        },
        {
         "name": "InvoiceDate",
         "rawType": "object",
         "type": "string"
        },
        {
         "name": "PayDate",
         "rawType": "object",
         "type": "string"
        },
        {
         "name": "Purchase_Price",
         "rawType": "object",
         "type": "string"
        },
        {
         "name": "Quantity",
         "rawType": "object",
         "type": "string"
        },
        {
         "name": "Total_Amount",
         "rawType": "float64",
         "type": "float"
        },
        {
         "name": "Classification",
         "rawType": "object",
         "type": "string"
        }
       ],
       "conversionMethod": "pd.DataFrame",
       "ref": "2a0f3c02-c186-4667-b6e5-5a60dfcaea84",
       "rows": [],
       "shape": {
        "columns": 16,
        "rows": 0
       }
      },
      "text/html": [
       "<div>\n",
       "<style scoped>\n",
       "    .dataframe tbody tr th:only-of-type {\n",
       "        vertical-align: middle;\n",
       "    }\n",
       "\n",
       "    .dataframe tbody tr th {\n",
       "        vertical-align: top;\n",
       "    }\n",
       "\n",
       "    .dataframe thead th {\n",
       "        text-align: right;\n",
       "    }\n",
       "</style>\n",
       "<table border=\"1\" class=\"dataframe\">\n",
       "  <thead>\n",
       "    <tr style=\"text-align: right;\">\n",
       "      <th></th>\n",
       "      <th>InventoryId</th>\n",
       "      <th>Store</th>\n",
       "      <th>Brand</th>\n",
       "      <th>Description</th>\n",
       "      <th>Size</th>\n",
       "      <th>VendorNumber</th>\n",
       "      <th>VendorName</th>\n",
       "      <th>PONumber</th>\n",
       "      <th>PODate</th>\n",
       "      <th>ReceivingDate</th>\n",
       "      <th>InvoiceDate</th>\n",
       "      <th>PayDate</th>\n",
       "      <th>Purchase_Price</th>\n",
       "      <th>Quantity</th>\n",
       "      <th>Total_Amount</th>\n",
       "      <th>Classification</th>\n",
       "    </tr>\n",
       "  </thead>\n",
       "  <tbody>\n",
       "  </tbody>\n",
       "</table>\n",
       "</div>"
      ],
      "text/plain": [
       "Empty DataFrame\n",
       "Columns: [InventoryId, Store, Brand, Description, Size, VendorNumber, VendorName, PONumber, PODate, ReceivingDate, InvoiceDate, PayDate, Purchase_Price, Quantity, Total_Amount, Classification]\n",
       "Index: []"
      ]
     },
     "execution_count": 54,
     "metadata": {},
     "output_type": "execute_result"
    }
   ],
   "source": [
    "#Creamos DataFrame solo con los registros que contienen valores nulos\n",
    "df_Compras_nulos = df_Compras[df_Compras.isnull().any(axis=1)] # Filtra las filas que tienen al menos un valor nulo\n",
    "df_Compras_nulos"
   ]
  },
  {
   "cell_type": "markdown",
   "id": "f4ee523f",
   "metadata": {},
   "source": [
    "Traemos el Size de otros productos con misma descripción"
   ]
  },
  {
   "cell_type": "code",
   "execution_count": 56,
   "id": "4e6ec519",
   "metadata": {},
   "outputs": [
    {
     "name": "stdout",
     "output_type": "stream",
     "text": [
      "Registros con 'Size' nulo:\n",
      "Empty DataFrame\n",
      "Columns: [Description, Size]\n",
      "Index: []\n",
      "\n",
      "Registros con la misma 'Description' pero con 'Size' no nulo:\n",
      "Empty DataFrame\n",
      "Columns: [Description, Size]\n",
      "Index: []\n"
     ]
    }
   ],
   "source": [
    "df_same_size = df_Compras[df_Compras['Description'].isin(df_Compras_nulos['Description'])]\n",
    "\n",
    "# Mostramos los resultados obtenidos\n",
    "print(\"Registros con 'Size' nulo:\")\n",
    "print(df_Compras_nulos[['Description', 'Size']])\n",
    "\n",
    "print(\"\\nRegistros con la misma 'Description' pero con 'Size' no nulo:\")\n",
    "print(df_same_size[['Description', 'Size']])"
   ]
  },
  {
   "cell_type": "markdown",
   "id": "d6c9e7e0",
   "metadata": {},
   "source": [
    "#### 2.8 Tabla a analizar Ventas"
   ]
  },
  {
   "cell_type": "code",
   "execution_count": 57,
   "id": "675d8066",
   "metadata": {},
   "outputs": [],
   "source": [
    "# Creamos df con la tabla de la db\n",
    "df_Ventas = pd.read_sql('SELECT * FROM Ventas', engine)"
   ]
  },
  {
   "cell_type": "code",
   "execution_count": 58,
   "id": "01cd90d1",
   "metadata": {},
   "outputs": [
    {
     "data": {
      "application/vnd.microsoft.datawrangler.viewer.v0+json": {
       "columns": [
        {
         "name": "index",
         "rawType": "int64",
         "type": "integer"
        },
        {
         "name": "InventoryId",
         "rawType": "object",
         "type": "string"
        },
        {
         "name": "Store",
         "rawType": "int64",
         "type": "integer"
        },
        {
         "name": "Brand",
         "rawType": "int64",
         "type": "integer"
        },
        {
         "name": "Description",
         "rawType": "object",
         "type": "string"
        },
        {
         "name": "Size",
         "rawType": "object",
         "type": "string"
        },
        {
         "name": "SalesQuantity",
         "rawType": "int64",
         "type": "integer"
        },
        {
         "name": "SalesDollars",
         "rawType": "float64",
         "type": "float"
        },
        {
         "name": "SalesPrice",
         "rawType": "float64",
         "type": "float"
        },
        {
         "name": "SalesDate",
         "rawType": "object",
         "type": "unknown"
        },
        {
         "name": "Volume",
         "rawType": "int64",
         "type": "integer"
        },
        {
         "name": "Classification",
         "rawType": "object",
         "type": "string"
        },
        {
         "name": "ExciseTax",
         "rawType": "float64",
         "type": "float"
        },
        {
         "name": "VendorNo",
         "rawType": "int64",
         "type": "integer"
        },
        {
         "name": "VendorName",
         "rawType": "object",
         "type": "string"
        }
       ],
       "conversionMethod": "pd.DataFrame",
       "ref": "88d18335-7e6c-45c9-aaa2-f851fe5c3da9",
       "rows": [
        [
         "0",
         "1_HARDERSFIELD_1004",
         "1",
         "1004",
         "Jim Beam w/2 Rocks Glasses",
         "750mL",
         "1",
         "16.49",
         "16.49",
         "2016-01-01",
         "750",
         "1",
         "0.79",
         "12546",
         "JIM BEAM BRANDS COMPANY    "
        ],
        [
         "1",
         "1_HARDERSFIELD_1004",
         "1",
         "1004",
         "Jim Beam w/2 Rocks Glasses",
         "750mL",
         "2",
         "32.98",
         "16.49",
         "2016-01-02",
         "750",
         "1",
         "1.57",
         "12546",
         "JIM BEAM BRANDS COMPANY    "
        ],
        [
         "2",
         "1_HARDERSFIELD_1004",
         "1",
         "1004",
         "Jim Beam w/2 Rocks Glasses",
         "750mL",
         "1",
         "16.49",
         "16.49",
         "2016-01-03",
         "750",
         "1",
         "0.79",
         "12546",
         "JIM BEAM BRANDS COMPANY    "
        ],
        [
         "3",
         "1_HARDERSFIELD_1004",
         "1",
         "1004",
         "Jim Beam w/2 Rocks Glasses",
         "750mL",
         "1",
         "14.49",
         "14.49",
         "2016-01-08",
         "750",
         "1",
         "0.79",
         "12546",
         "JIM BEAM BRANDS COMPANY    "
        ],
        [
         "4",
         "1_HARDERSFIELD_1005",
         "1",
         "1005",
         "Maker's Mark Combo Pack",
         "375mL 2 Pk",
         "2",
         "69.98",
         "34.99",
         "2016-01-09",
         "375",
         "1",
         "0.79",
         "12546",
         "JIM BEAM BRANDS COMPANY    "
        ]
       ],
       "shape": {
        "columns": 14,
        "rows": 5
       }
      },
      "text/html": [
       "<div>\n",
       "<style scoped>\n",
       "    .dataframe tbody tr th:only-of-type {\n",
       "        vertical-align: middle;\n",
       "    }\n",
       "\n",
       "    .dataframe tbody tr th {\n",
       "        vertical-align: top;\n",
       "    }\n",
       "\n",
       "    .dataframe thead th {\n",
       "        text-align: right;\n",
       "    }\n",
       "</style>\n",
       "<table border=\"1\" class=\"dataframe\">\n",
       "  <thead>\n",
       "    <tr style=\"text-align: right;\">\n",
       "      <th></th>\n",
       "      <th>InventoryId</th>\n",
       "      <th>Store</th>\n",
       "      <th>Brand</th>\n",
       "      <th>Description</th>\n",
       "      <th>Size</th>\n",
       "      <th>SalesQuantity</th>\n",
       "      <th>SalesDollars</th>\n",
       "      <th>SalesPrice</th>\n",
       "      <th>SalesDate</th>\n",
       "      <th>Volume</th>\n",
       "      <th>Classification</th>\n",
       "      <th>ExciseTax</th>\n",
       "      <th>VendorNo</th>\n",
       "      <th>VendorName</th>\n",
       "    </tr>\n",
       "  </thead>\n",
       "  <tbody>\n",
       "    <tr>\n",
       "      <th>0</th>\n",
       "      <td>1_HARDERSFIELD_1004</td>\n",
       "      <td>1</td>\n",
       "      <td>1004</td>\n",
       "      <td>Jim Beam w/2 Rocks Glasses</td>\n",
       "      <td>750mL</td>\n",
       "      <td>1</td>\n",
       "      <td>16.49</td>\n",
       "      <td>16.49</td>\n",
       "      <td>2016-01-01</td>\n",
       "      <td>750</td>\n",
       "      <td>1</td>\n",
       "      <td>0.79</td>\n",
       "      <td>12546</td>\n",
       "      <td>JIM BEAM BRANDS COMPANY</td>\n",
       "    </tr>\n",
       "    <tr>\n",
       "      <th>1</th>\n",
       "      <td>1_HARDERSFIELD_1004</td>\n",
       "      <td>1</td>\n",
       "      <td>1004</td>\n",
       "      <td>Jim Beam w/2 Rocks Glasses</td>\n",
       "      <td>750mL</td>\n",
       "      <td>2</td>\n",
       "      <td>32.98</td>\n",
       "      <td>16.49</td>\n",
       "      <td>2016-01-02</td>\n",
       "      <td>750</td>\n",
       "      <td>1</td>\n",
       "      <td>1.57</td>\n",
       "      <td>12546</td>\n",
       "      <td>JIM BEAM BRANDS COMPANY</td>\n",
       "    </tr>\n",
       "    <tr>\n",
       "      <th>2</th>\n",
       "      <td>1_HARDERSFIELD_1004</td>\n",
       "      <td>1</td>\n",
       "      <td>1004</td>\n",
       "      <td>Jim Beam w/2 Rocks Glasses</td>\n",
       "      <td>750mL</td>\n",
       "      <td>1</td>\n",
       "      <td>16.49</td>\n",
       "      <td>16.49</td>\n",
       "      <td>2016-01-03</td>\n",
       "      <td>750</td>\n",
       "      <td>1</td>\n",
       "      <td>0.79</td>\n",
       "      <td>12546</td>\n",
       "      <td>JIM BEAM BRANDS COMPANY</td>\n",
       "    </tr>\n",
       "    <tr>\n",
       "      <th>3</th>\n",
       "      <td>1_HARDERSFIELD_1004</td>\n",
       "      <td>1</td>\n",
       "      <td>1004</td>\n",
       "      <td>Jim Beam w/2 Rocks Glasses</td>\n",
       "      <td>750mL</td>\n",
       "      <td>1</td>\n",
       "      <td>14.49</td>\n",
       "      <td>14.49</td>\n",
       "      <td>2016-01-08</td>\n",
       "      <td>750</td>\n",
       "      <td>1</td>\n",
       "      <td>0.79</td>\n",
       "      <td>12546</td>\n",
       "      <td>JIM BEAM BRANDS COMPANY</td>\n",
       "    </tr>\n",
       "    <tr>\n",
       "      <th>4</th>\n",
       "      <td>1_HARDERSFIELD_1005</td>\n",
       "      <td>1</td>\n",
       "      <td>1005</td>\n",
       "      <td>Maker's Mark Combo Pack</td>\n",
       "      <td>375mL 2 Pk</td>\n",
       "      <td>2</td>\n",
       "      <td>69.98</td>\n",
       "      <td>34.99</td>\n",
       "      <td>2016-01-09</td>\n",
       "      <td>375</td>\n",
       "      <td>1</td>\n",
       "      <td>0.79</td>\n",
       "      <td>12546</td>\n",
       "      <td>JIM BEAM BRANDS COMPANY</td>\n",
       "    </tr>\n",
       "  </tbody>\n",
       "</table>\n",
       "</div>"
      ],
      "text/plain": [
       "           InventoryId  Store  Brand                 Description        Size  \\\n",
       "0  1_HARDERSFIELD_1004      1   1004  Jim Beam w/2 Rocks Glasses       750mL   \n",
       "1  1_HARDERSFIELD_1004      1   1004  Jim Beam w/2 Rocks Glasses       750mL   \n",
       "2  1_HARDERSFIELD_1004      1   1004  Jim Beam w/2 Rocks Glasses       750mL   \n",
       "3  1_HARDERSFIELD_1004      1   1004  Jim Beam w/2 Rocks Glasses       750mL   \n",
       "4  1_HARDERSFIELD_1005      1   1005     Maker's Mark Combo Pack  375mL 2 Pk   \n",
       "\n",
       "   SalesQuantity  SalesDollars  SalesPrice   SalesDate  Volume Classification  \\\n",
       "0              1         16.49       16.49  2016-01-01     750              1   \n",
       "1              2         32.98       16.49  2016-01-02     750              1   \n",
       "2              1         16.49       16.49  2016-01-03     750              1   \n",
       "3              1         14.49       14.49  2016-01-08     750              1   \n",
       "4              2         69.98       34.99  2016-01-09     375              1   \n",
       "\n",
       "   ExciseTax  VendorNo                   VendorName  \n",
       "0       0.79     12546  JIM BEAM BRANDS COMPANY      \n",
       "1       1.57     12546  JIM BEAM BRANDS COMPANY      \n",
       "2       0.79     12546  JIM BEAM BRANDS COMPANY      \n",
       "3       0.79     12546  JIM BEAM BRANDS COMPANY      \n",
       "4       0.79     12546  JIM BEAM BRANDS COMPANY      "
      ]
     },
     "execution_count": 58,
     "metadata": {},
     "output_type": "execute_result"
    }
   ],
   "source": [
    "# muestra los primeros 5 registros de la tabla para verificar que se importó bien\n",
    "df_Ventas.head(5)"
   ]
  },
  {
   "cell_type": "code",
   "execution_count": 59,
   "id": "279cdf1a",
   "metadata": {},
   "outputs": [
    {
     "name": "stdout",
     "output_type": "stream",
     "text": [
      "<class 'pandas.core.frame.DataFrame'>\n",
      "RangeIndex: 1048575 entries, 0 to 1048574\n",
      "Data columns (total 14 columns):\n",
      " #   Column          Non-Null Count    Dtype  \n",
      "---  ------          --------------    -----  \n",
      " 0   InventoryId     1048575 non-null  object \n",
      " 1   Store           1048575 non-null  int64  \n",
      " 2   Brand           1048575 non-null  int64  \n",
      " 3   Description     1048575 non-null  object \n",
      " 4   Size            1048575 non-null  object \n",
      " 5   SalesQuantity   1048575 non-null  int64  \n",
      " 6   SalesDollars    1048575 non-null  float64\n",
      " 7   SalesPrice      1048575 non-null  float64\n",
      " 8   SalesDate       1048575 non-null  object \n",
      " 9   Volume          1048575 non-null  int64  \n",
      " 10  Classification  1048575 non-null  object \n",
      " 11  ExciseTax       1048575 non-null  float64\n",
      " 12  VendorNo        1048575 non-null  int64  \n",
      " 13  VendorName      1048575 non-null  object \n",
      "dtypes: float64(3), int64(5), object(6)\n",
      "memory usage: 112.0+ MB\n",
      "None\n"
     ]
    }
   ],
   "source": [
    "# Descripción del DataFrame\n",
    "print(df_Ventas.info())"
   ]
  },
  {
   "cell_type": "code",
   "execution_count": 60,
   "id": "a370565f",
   "metadata": {},
   "outputs": [
    {
     "name": "stdout",
     "output_type": "stream",
     "text": [
      "              Store         Brand  SalesQuantity  SalesDollars    SalesPrice  \\\n",
      "count  1.048575e+06  1.048575e+06   1.048575e+06  1.048575e+06  1.048575e+06   \n",
      "mean   4.008063e+01  1.216959e+04   2.337619e+00  3.160420e+01  1.543162e+01   \n",
      "std    2.435739e+01  1.241921e+04   3.511492e+00  6.570249e+01  1.404967e+01   \n",
      "min    1.000000e+00  5.800000e+01   1.000000e+00  4.900000e-01  4.900000e-01   \n",
      "25%    1.500000e+01  3.680000e+03   1.000000e+00  1.099000e+01  8.990000e+00   \n",
      "50%    3.900000e+01  6.296000e+03   1.000000e+00  1.799000e+01  1.299000e+01   \n",
      "75%    6.400000e+01  1.795400e+04   2.000000e+00  3.199000e+01  1.899000e+01   \n",
      "max    7.900000e+01  9.008900e+04   4.320000e+02  1.327997e+04  4.999990e+03   \n",
      "\n",
      "             Volume     ExciseTax      VendorNo  \n",
      "count  1.048575e+06  1.048575e+06  1.048575e+06  \n",
      "mean   9.500280e+02  1.326847e+00  6.995043e+03  \n",
      "std    7.142708e+02  3.407898e+00  8.426736e+03  \n",
      "min    5.000000e+01  1.000000e-02  2.000000e+00  \n",
      "25%    7.500000e+02  1.600000e-01  3.252000e+03  \n",
      "50%    7.500000e+02  6.800000e-01  4.425000e+03  \n",
      "75%    1.500000e+03  1.570000e+00  9.552000e+03  \n",
      "max    2.000000e+04  3.785200e+02  1.733570e+05  \n"
     ]
    }
   ],
   "source": [
    "# Resumen estadístico de las columnas numéricas\n",
    "print(df_Ventas.describe())"
   ]
  },
  {
   "cell_type": "code",
   "execution_count": 61,
   "id": "d4883fbd",
   "metadata": {},
   "outputs": [
    {
     "data": {
      "text/plain": [
       "Series([], dtype: int64)"
      ]
     },
     "execution_count": 61,
     "metadata": {},
     "output_type": "execute_result"
    }
   ],
   "source": [
    "# Cantidad de valores nulos por columna\n",
    "df_Ventas.isnull().sum()[df_Ventas.isnull().sum()>0] # Filtrando por aquellos que contengan por lo menos 1 nulo"
   ]
  }
 ],
 "metadata": {
  "kernelspec": {
   "display_name": "Python 3",
   "language": "python",
   "name": "python3"
  },
  "language_info": {
   "codemirror_mode": {
    "name": "ipython",
    "version": 3
   },
   "file_extension": ".py",
   "mimetype": "text/x-python",
   "name": "python",
   "nbconvert_exporter": "python",
   "pygments_lexer": "ipython3",
   "version": "3.13.2"
  }
 },
 "nbformat": 4,
 "nbformat_minor": 5
}

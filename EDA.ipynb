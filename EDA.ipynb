{
 "cells": [
  {
   "cell_type": "markdown",
   "id": "9239aeec",
   "metadata": {},
   "source": [
    "# Proyecto Final - DAFT12"
   ]
  },
  {
   "cell_type": "markdown",
   "id": "f15fed2e",
   "metadata": {},
   "source": [
    "## EDA"
   ]
  },
  {
   "cell_type": "markdown",
   "id": "a80c62ad",
   "metadata": {},
   "source": [
    "### 1- Configuración del entorno"
   ]
  },
  {
   "cell_type": "markdown",
   "id": "05ed2d1b",
   "metadata": {},
   "source": [
    "#### 1.1 Importación de Librerias a utilizar."
   ]
  },
  {
   "cell_type": "code",
   "execution_count": 2,
   "id": "dd70ace2",
   "metadata": {},
   "outputs": [],
   "source": [
    "import pandas as pd \n",
    "import numpy as np\n",
    "import os"
   ]
  },
  {
   "cell_type": "markdown",
   "id": "a0c47bd7",
   "metadata": {},
   "source": [
    "#### 1.2 Creación de DataFrames con archivos csv"
   ]
  },
  {
   "cell_type": "code",
   "execution_count": 3,
   "id": "f495cd61",
   "metadata": {},
   "outputs": [],
   "source": [
    "# Obtenemos la ruta a la carpeta \"datasets_kaggle\" en \"Downloads\" del usuario actual\n",
    "DIRECTORIO_DESTINO = os.path.join(os.path.expanduser(\"~\"), \"Downloads\", \"datasets_kaggle\")\n",
    "\n",
    "# CREACIÓN DE DATAFRAMES CON LOS ARCHIVOS CSV\n",
    "df_Productos = pd.read_csv(DIRECTORIO_DESTINO + \"/2017PurchasePricesDec.csv\", sep=',')\n",
    "df_OrdenesCompra = pd.read_csv(DIRECTORIO_DESTINO + \"/InvoicePurchases12312016.csv\", sep=',')\n",
    "df_InventarioInicial = pd.read_csv(DIRECTORIO_DESTINO + \"/BegInvFINAL12312016.csv\", sep=',')\n",
    "df_InventarioFinal = pd.read_csv(DIRECTORIO_DESTINO + \"/EndInvFINAL12312016.csv\", sep=',')\n",
    "df_Compras = pd.read_csv(DIRECTORIO_DESTINO + \"/PurchasesFINAL12312016.csv\", sep=',')\n",
    "df_Ventas = pd.read_csv(DIRECTORIO_DESTINO + \"/SalesFINAL12312016.csv\", sep=',')"
   ]
  },
  {
   "cell_type": "markdown",
   "id": "aa2b37f4",
   "metadata": {},
   "source": [
    "### 2- Análisis Exploratorio de Datos"
   ]
  },
  {
   "cell_type": "markdown",
   "id": "a3ee82b7",
   "metadata": {},
   "source": [
    "#### 2.1 Tabla a analizar Productos"
   ]
  },
  {
   "cell_type": "code",
   "execution_count": 4,
   "id": "c914d2ea",
   "metadata": {},
   "outputs": [
    {
     "data": {
      "application/vnd.microsoft.datawrangler.viewer.v0+json": {
       "columns": [
        {
         "name": "index",
         "rawType": "int64",
         "type": "integer"
        },
        {
         "name": "Brand",
         "rawType": "int64",
         "type": "integer"
        },
        {
         "name": "Description",
         "rawType": "object",
         "type": "string"
        },
        {
         "name": "Price",
         "rawType": "float64",
         "type": "float"
        },
        {
         "name": "Size",
         "rawType": "object",
         "type": "string"
        },
        {
         "name": "Volume",
         "rawType": "object",
         "type": "string"
        },
        {
         "name": "Classification",
         "rawType": "int64",
         "type": "integer"
        },
        {
         "name": "PurchasePrice",
         "rawType": "float64",
         "type": "float"
        },
        {
         "name": "VendorNumber",
         "rawType": "int64",
         "type": "integer"
        },
        {
         "name": "VendorName",
         "rawType": "object",
         "type": "string"
        }
       ],
       "conversionMethod": "pd.DataFrame",
       "ref": "b36afb82-f853-4a00-84ce-b0b98e579f74",
       "rows": [
        [
         "0",
         "58",
         "Gekkeikan Black & Gold Sake",
         "12.99",
         "750mL",
         "750",
         "1",
         "9.28",
         "8320",
         "SHAW ROSS INT L IMP LTD    "
        ],
        [
         "1",
         "62",
         "Herradura Silver Tequila",
         "36.99",
         "750mL",
         "750",
         "1",
         "28.67",
         "1128",
         "BROWN-FORMAN CORP          "
        ],
        [
         "2",
         "63",
         "Herradura Reposado Tequila",
         "38.99",
         "750mL",
         "750",
         "1",
         "30.46",
         "1128",
         "BROWN-FORMAN CORP          "
        ],
        [
         "3",
         "72",
         "No. 3 London Dry Gin",
         "34.99",
         "750mL",
         "750",
         "1",
         "26.11",
         "9165",
         "ULTRA BEVERAGE COMPANY LLP "
        ],
        [
         "4",
         "75",
         "Three Olives Tomato Vodka",
         "14.99",
         "750mL",
         "750",
         "1",
         "10.94",
         "7245",
         "PROXIMO SPIRITS INC.       "
        ]
       ],
       "shape": {
        "columns": 9,
        "rows": 5
       }
      },
      "text/html": [
       "<div>\n",
       "<style scoped>\n",
       "    .dataframe tbody tr th:only-of-type {\n",
       "        vertical-align: middle;\n",
       "    }\n",
       "\n",
       "    .dataframe tbody tr th {\n",
       "        vertical-align: top;\n",
       "    }\n",
       "\n",
       "    .dataframe thead th {\n",
       "        text-align: right;\n",
       "    }\n",
       "</style>\n",
       "<table border=\"1\" class=\"dataframe\">\n",
       "  <thead>\n",
       "    <tr style=\"text-align: right;\">\n",
       "      <th></th>\n",
       "      <th>Brand</th>\n",
       "      <th>Description</th>\n",
       "      <th>Price</th>\n",
       "      <th>Size</th>\n",
       "      <th>Volume</th>\n",
       "      <th>Classification</th>\n",
       "      <th>PurchasePrice</th>\n",
       "      <th>VendorNumber</th>\n",
       "      <th>VendorName</th>\n",
       "    </tr>\n",
       "  </thead>\n",
       "  <tbody>\n",
       "    <tr>\n",
       "      <th>0</th>\n",
       "      <td>58</td>\n",
       "      <td>Gekkeikan Black &amp; Gold Sake</td>\n",
       "      <td>12.99</td>\n",
       "      <td>750mL</td>\n",
       "      <td>750</td>\n",
       "      <td>1</td>\n",
       "      <td>9.28</td>\n",
       "      <td>8320</td>\n",
       "      <td>SHAW ROSS INT L IMP LTD</td>\n",
       "    </tr>\n",
       "    <tr>\n",
       "      <th>1</th>\n",
       "      <td>62</td>\n",
       "      <td>Herradura Silver Tequila</td>\n",
       "      <td>36.99</td>\n",
       "      <td>750mL</td>\n",
       "      <td>750</td>\n",
       "      <td>1</td>\n",
       "      <td>28.67</td>\n",
       "      <td>1128</td>\n",
       "      <td>BROWN-FORMAN CORP</td>\n",
       "    </tr>\n",
       "    <tr>\n",
       "      <th>2</th>\n",
       "      <td>63</td>\n",
       "      <td>Herradura Reposado Tequila</td>\n",
       "      <td>38.99</td>\n",
       "      <td>750mL</td>\n",
       "      <td>750</td>\n",
       "      <td>1</td>\n",
       "      <td>30.46</td>\n",
       "      <td>1128</td>\n",
       "      <td>BROWN-FORMAN CORP</td>\n",
       "    </tr>\n",
       "    <tr>\n",
       "      <th>3</th>\n",
       "      <td>72</td>\n",
       "      <td>No. 3 London Dry Gin</td>\n",
       "      <td>34.99</td>\n",
       "      <td>750mL</td>\n",
       "      <td>750</td>\n",
       "      <td>1</td>\n",
       "      <td>26.11</td>\n",
       "      <td>9165</td>\n",
       "      <td>ULTRA BEVERAGE COMPANY LLP</td>\n",
       "    </tr>\n",
       "    <tr>\n",
       "      <th>4</th>\n",
       "      <td>75</td>\n",
       "      <td>Three Olives Tomato Vodka</td>\n",
       "      <td>14.99</td>\n",
       "      <td>750mL</td>\n",
       "      <td>750</td>\n",
       "      <td>1</td>\n",
       "      <td>10.94</td>\n",
       "      <td>7245</td>\n",
       "      <td>PROXIMO SPIRITS INC.</td>\n",
       "    </tr>\n",
       "  </tbody>\n",
       "</table>\n",
       "</div>"
      ],
      "text/plain": [
       "   Brand                  Description  Price   Size Volume  Classification  \\\n",
       "0     58  Gekkeikan Black & Gold Sake  12.99  750mL    750               1   \n",
       "1     62     Herradura Silver Tequila  36.99  750mL    750               1   \n",
       "2     63   Herradura Reposado Tequila  38.99  750mL    750               1   \n",
       "3     72         No. 3 London Dry Gin  34.99  750mL    750               1   \n",
       "4     75    Three Olives Tomato Vodka  14.99  750mL    750               1   \n",
       "\n",
       "   PurchasePrice  VendorNumber                   VendorName  \n",
       "0           9.28          8320  SHAW ROSS INT L IMP LTD      \n",
       "1          28.67          1128  BROWN-FORMAN CORP            \n",
       "2          30.46          1128  BROWN-FORMAN CORP            \n",
       "3          26.11          9165  ULTRA BEVERAGE COMPANY LLP   \n",
       "4          10.94          7245  PROXIMO SPIRITS INC.         "
      ]
     },
     "execution_count": 4,
     "metadata": {},
     "output_type": "execute_result"
    }
   ],
   "source": [
    "# muestra los primeros 5 registros de la tabla para verificar que se importó bien\n",
    "df_Productos.head(5)"
   ]
  },
  {
   "cell_type": "code",
   "execution_count": 5,
   "id": "de92becb",
   "metadata": {},
   "outputs": [
    {
     "name": "stdout",
     "output_type": "stream",
     "text": [
      "<class 'pandas.core.frame.DataFrame'>\n",
      "RangeIndex: 12261 entries, 0 to 12260\n",
      "Data columns (total 9 columns):\n",
      " #   Column          Non-Null Count  Dtype  \n",
      "---  ------          --------------  -----  \n",
      " 0   Brand           12261 non-null  int64  \n",
      " 1   Description     12260 non-null  object \n",
      " 2   Price           12261 non-null  float64\n",
      " 3   Size            12260 non-null  object \n",
      " 4   Volume          12260 non-null  object \n",
      " 5   Classification  12261 non-null  int64  \n",
      " 6   PurchasePrice   12261 non-null  float64\n",
      " 7   VendorNumber    12261 non-null  int64  \n",
      " 8   VendorName      12261 non-null  object \n",
      "dtypes: float64(2), int64(3), object(4)\n",
      "memory usage: 862.2+ KB\n",
      "None\n"
     ]
    }
   ],
   "source": [
    "# Descripción del DataFrame\n",
    "print(df_Productos.info())"
   ]
  },
  {
   "cell_type": "code",
   "execution_count": 6,
   "id": "d5b48259",
   "metadata": {},
   "outputs": [
    {
     "name": "stdout",
     "output_type": "stream",
     "text": [
      "              Brand         Price  Classification  PurchasePrice  \\\n",
      "count  12261.000000  12261.000000    12261.000000   12261.000000   \n",
      "mean   17989.067123     38.640240        1.708996      26.488220   \n",
      "std    12528.503464    206.151172        0.454244     156.182948   \n",
      "min       58.000000      0.000000        1.000000       0.000000   \n",
      "25%     5990.000000     10.990000        1.000000       6.890000   \n",
      "50%    18788.000000     15.990000        2.000000      10.650000   \n",
      "75%    25117.000000     29.990000        2.000000      20.130000   \n",
      "max    90631.000000  13999.900000        2.000000   11111.030000   \n",
      "\n",
      "        VendorNumber  \n",
      "count   12261.000000  \n",
      "mean    10814.861757  \n",
      "std     19007.682322  \n",
      "min         2.000000  \n",
      "25%      3960.000000  \n",
      "50%      7153.000000  \n",
      "75%      9552.000000  \n",
      "max    173357.000000  \n"
     ]
    }
   ],
   "source": [
    "# Resumen estadístico de las columnas numéricas\n",
    "print(df_Productos.describe())"
   ]
  },
  {
   "cell_type": "code",
   "execution_count": 7,
   "id": "c497861b",
   "metadata": {},
   "outputs": [
    {
     "data": {
      "text/plain": [
       "Description    1\n",
       "Size           1\n",
       "Volume         1\n",
       "dtype: int64"
      ]
     },
     "execution_count": 7,
     "metadata": {},
     "output_type": "execute_result"
    }
   ],
   "source": [
    "# Cantidad de valores nulos por columna\n",
    "df_Productos.isnull().sum()[df_Productos.isnull().sum()>0] # Filtrando por aquellos que contengan por lo menos 1 nulo"
   ]
  },
  {
   "cell_type": "markdown",
   "id": "e1d14ce4",
   "metadata": {},
   "source": [
    "#### 2.2 Tabla a analizar OrdenesCompra"
   ]
  },
  {
   "cell_type": "code",
   "execution_count": 8,
   "id": "8ade7292",
   "metadata": {},
   "outputs": [
    {
     "data": {
      "application/vnd.microsoft.datawrangler.viewer.v0+json": {
       "columns": [
        {
         "name": "index",
         "rawType": "int64",
         "type": "integer"
        },
        {
         "name": "VendorNumber",
         "rawType": "int64",
         "type": "integer"
        },
        {
         "name": "VendorName",
         "rawType": "object",
         "type": "string"
        },
        {
         "name": "InvoiceDate",
         "rawType": "object",
         "type": "string"
        },
        {
         "name": "PONumber",
         "rawType": "int64",
         "type": "integer"
        },
        {
         "name": "PODate",
         "rawType": "object",
         "type": "string"
        },
        {
         "name": "PayDate",
         "rawType": "object",
         "type": "string"
        },
        {
         "name": "Quantity",
         "rawType": "int64",
         "type": "integer"
        },
        {
         "name": "Dollars",
         "rawType": "float64",
         "type": "float"
        },
        {
         "name": "Freight",
         "rawType": "float64",
         "type": "float"
        },
        {
         "name": "Approval",
         "rawType": "object",
         "type": "unknown"
        }
       ],
       "conversionMethod": "pd.DataFrame",
       "ref": "6523f309-81d2-4375-9b1f-e15b645d2027",
       "rows": [
        [
         "0",
         "105",
         "ALTAMAR BRANDS LLC         ",
         "2016-01-04",
         "8124",
         "2015-12-21",
         "2016-02-16",
         "6",
         "214.26",
         "3.47",
         null
        ],
        [
         "1",
         "4466",
         "AMERICAN VINTAGE BEVERAGE  ",
         "2016-01-07",
         "8137",
         "2015-12-22",
         "2016-02-21",
         "15",
         "140.55",
         "8.57",
         null
        ],
        [
         "2",
         "388",
         "ATLANTIC IMPORTING COMPANY ",
         "2016-01-09",
         "8169",
         "2015-12-24",
         "2016-02-16",
         "5",
         "106.6",
         "4.61",
         null
        ],
        [
         "3",
         "480",
         "BACARDI USA INC            ",
         "2016-01-12",
         "8106",
         "2015-12-20",
         "2016-02-05",
         "10100",
         "137483.78",
         "2935.2",
         null
        ],
        [
         "4",
         "516",
         "BANFI PRODUCTS CORP        ",
         "2016-01-07",
         "8170",
         "2015-12-24",
         "2016-02-12",
         "1935",
         "15527.25",
         "429.2",
         null
        ]
       ],
       "shape": {
        "columns": 10,
        "rows": 5
       }
      },
      "text/html": [
       "<div>\n",
       "<style scoped>\n",
       "    .dataframe tbody tr th:only-of-type {\n",
       "        vertical-align: middle;\n",
       "    }\n",
       "\n",
       "    .dataframe tbody tr th {\n",
       "        vertical-align: top;\n",
       "    }\n",
       "\n",
       "    .dataframe thead th {\n",
       "        text-align: right;\n",
       "    }\n",
       "</style>\n",
       "<table border=\"1\" class=\"dataframe\">\n",
       "  <thead>\n",
       "    <tr style=\"text-align: right;\">\n",
       "      <th></th>\n",
       "      <th>VendorNumber</th>\n",
       "      <th>VendorName</th>\n",
       "      <th>InvoiceDate</th>\n",
       "      <th>PONumber</th>\n",
       "      <th>PODate</th>\n",
       "      <th>PayDate</th>\n",
       "      <th>Quantity</th>\n",
       "      <th>Dollars</th>\n",
       "      <th>Freight</th>\n",
       "      <th>Approval</th>\n",
       "    </tr>\n",
       "  </thead>\n",
       "  <tbody>\n",
       "    <tr>\n",
       "      <th>0</th>\n",
       "      <td>105</td>\n",
       "      <td>ALTAMAR BRANDS LLC</td>\n",
       "      <td>2016-01-04</td>\n",
       "      <td>8124</td>\n",
       "      <td>2015-12-21</td>\n",
       "      <td>2016-02-16</td>\n",
       "      <td>6</td>\n",
       "      <td>214.26</td>\n",
       "      <td>3.47</td>\n",
       "      <td>NaN</td>\n",
       "    </tr>\n",
       "    <tr>\n",
       "      <th>1</th>\n",
       "      <td>4466</td>\n",
       "      <td>AMERICAN VINTAGE BEVERAGE</td>\n",
       "      <td>2016-01-07</td>\n",
       "      <td>8137</td>\n",
       "      <td>2015-12-22</td>\n",
       "      <td>2016-02-21</td>\n",
       "      <td>15</td>\n",
       "      <td>140.55</td>\n",
       "      <td>8.57</td>\n",
       "      <td>NaN</td>\n",
       "    </tr>\n",
       "    <tr>\n",
       "      <th>2</th>\n",
       "      <td>388</td>\n",
       "      <td>ATLANTIC IMPORTING COMPANY</td>\n",
       "      <td>2016-01-09</td>\n",
       "      <td>8169</td>\n",
       "      <td>2015-12-24</td>\n",
       "      <td>2016-02-16</td>\n",
       "      <td>5</td>\n",
       "      <td>106.60</td>\n",
       "      <td>4.61</td>\n",
       "      <td>NaN</td>\n",
       "    </tr>\n",
       "    <tr>\n",
       "      <th>3</th>\n",
       "      <td>480</td>\n",
       "      <td>BACARDI USA INC</td>\n",
       "      <td>2016-01-12</td>\n",
       "      <td>8106</td>\n",
       "      <td>2015-12-20</td>\n",
       "      <td>2016-02-05</td>\n",
       "      <td>10100</td>\n",
       "      <td>137483.78</td>\n",
       "      <td>2935.20</td>\n",
       "      <td>NaN</td>\n",
       "    </tr>\n",
       "    <tr>\n",
       "      <th>4</th>\n",
       "      <td>516</td>\n",
       "      <td>BANFI PRODUCTS CORP</td>\n",
       "      <td>2016-01-07</td>\n",
       "      <td>8170</td>\n",
       "      <td>2015-12-24</td>\n",
       "      <td>2016-02-12</td>\n",
       "      <td>1935</td>\n",
       "      <td>15527.25</td>\n",
       "      <td>429.20</td>\n",
       "      <td>NaN</td>\n",
       "    </tr>\n",
       "  </tbody>\n",
       "</table>\n",
       "</div>"
      ],
      "text/plain": [
       "   VendorNumber                   VendorName InvoiceDate  PONumber  \\\n",
       "0           105  ALTAMAR BRANDS LLC           2016-01-04      8124   \n",
       "1          4466  AMERICAN VINTAGE BEVERAGE    2016-01-07      8137   \n",
       "2           388  ATLANTIC IMPORTING COMPANY   2016-01-09      8169   \n",
       "3           480  BACARDI USA INC              2016-01-12      8106   \n",
       "4           516  BANFI PRODUCTS CORP          2016-01-07      8170   \n",
       "\n",
       "       PODate     PayDate  Quantity    Dollars  Freight Approval  \n",
       "0  2015-12-21  2016-02-16         6     214.26     3.47      NaN  \n",
       "1  2015-12-22  2016-02-21        15     140.55     8.57      NaN  \n",
       "2  2015-12-24  2016-02-16         5     106.60     4.61      NaN  \n",
       "3  2015-12-20  2016-02-05     10100  137483.78  2935.20      NaN  \n",
       "4  2015-12-24  2016-02-12      1935   15527.25   429.20      NaN  "
      ]
     },
     "execution_count": 8,
     "metadata": {},
     "output_type": "execute_result"
    }
   ],
   "source": [
    "# muestra los primeros 5 registros de la tabla para verificar que se importó bien\n",
    "df_OrdenesCompra.head(5)"
   ]
  },
  {
   "cell_type": "code",
   "execution_count": 9,
   "id": "cbf4d667",
   "metadata": {},
   "outputs": [
    {
     "name": "stdout",
     "output_type": "stream",
     "text": [
      "<class 'pandas.core.frame.DataFrame'>\n",
      "RangeIndex: 5543 entries, 0 to 5542\n",
      "Data columns (total 10 columns):\n",
      " #   Column        Non-Null Count  Dtype  \n",
      "---  ------        --------------  -----  \n",
      " 0   VendorNumber  5543 non-null   int64  \n",
      " 1   VendorName    5543 non-null   object \n",
      " 2   InvoiceDate   5543 non-null   object \n",
      " 3   PONumber      5543 non-null   int64  \n",
      " 4   PODate        5543 non-null   object \n",
      " 5   PayDate       5543 non-null   object \n",
      " 6   Quantity      5543 non-null   int64  \n",
      " 7   Dollars       5543 non-null   float64\n",
      " 8   Freight       5543 non-null   float64\n",
      " 9   Approval      374 non-null    object \n",
      "dtypes: float64(2), int64(3), object(5)\n",
      "memory usage: 433.2+ KB\n",
      "None\n"
     ]
    }
   ],
   "source": [
    "# Descripción del DataFrame\n",
    "print(df_OrdenesCompra.info())"
   ]
  },
  {
   "cell_type": "code",
   "execution_count": 10,
   "id": "4dbc8c41",
   "metadata": {},
   "outputs": [
    {
     "name": "stdout",
     "output_type": "stream",
     "text": [
      "       VendorNumber      PONumber       Quantity       Dollars      Freight\n",
      "count    5543.00000   5543.000000    5543.000000  5.543000e+03  5543.000000\n",
      "mean    20662.75212  10889.419087    6058.880931  5.807338e+04   295.954301\n",
      "std     34582.15841   1600.859969   14453.338164  1.402340e+05   713.585093\n",
      "min         2.00000   8106.000000       1.000000  4.140000e+00     0.020000\n",
      "25%      3089.00000   9503.500000      83.000000  9.678100e+02     5.020000\n",
      "50%      7240.00000  10890.000000     423.000000  4.765450e+03    24.730000\n",
      "75%     10754.00000  12275.500000    5100.500000  4.458718e+04   229.660000\n",
      "max    201359.00000  13661.000000  141660.000000  1.660436e+06  8468.220000\n"
     ]
    }
   ],
   "source": [
    "# Resumen estadístico de las columnas numéricas\n",
    "print(df_OrdenesCompra.describe())"
   ]
  },
  {
   "cell_type": "code",
   "execution_count": 11,
   "id": "6308ee30",
   "metadata": {},
   "outputs": [
    {
     "data": {
      "text/plain": [
       "Approval    5169\n",
       "dtype: int64"
      ]
     },
     "execution_count": 11,
     "metadata": {},
     "output_type": "execute_result"
    }
   ],
   "source": [
    "# Cantidad de valores nulos por columna\n",
    "df_OrdenesCompra.isnull().sum()[df_OrdenesCompra.isnull().sum()>0] # Filtrando por aquellos que contengan por lo menos 1 nulo"
   ]
  },
  {
   "cell_type": "markdown",
   "id": "366d306e",
   "metadata": {},
   "source": [
    "#### 2.3 Tabla a analizar InventarioInicial"
   ]
  },
  {
   "cell_type": "code",
   "execution_count": 12,
   "id": "89fb7cc7",
   "metadata": {},
   "outputs": [
    {
     "data": {
      "application/vnd.microsoft.datawrangler.viewer.v0+json": {
       "columns": [
        {
         "name": "index",
         "rawType": "int64",
         "type": "integer"
        },
        {
         "name": "InventoryId",
         "rawType": "object",
         "type": "string"
        },
        {
         "name": "Store",
         "rawType": "int64",
         "type": "integer"
        },
        {
         "name": "City",
         "rawType": "object",
         "type": "string"
        },
        {
         "name": "Brand",
         "rawType": "int64",
         "type": "integer"
        },
        {
         "name": "Description",
         "rawType": "object",
         "type": "string"
        },
        {
         "name": "Size",
         "rawType": "object",
         "type": "string"
        },
        {
         "name": "onHand",
         "rawType": "int64",
         "type": "integer"
        },
        {
         "name": "Price",
         "rawType": "float64",
         "type": "float"
        },
        {
         "name": "startDate",
         "rawType": "object",
         "type": "string"
        }
       ],
       "conversionMethod": "pd.DataFrame",
       "ref": "66e809e1-c5e3-4507-b24c-b00f7e91543b",
       "rows": [
        [
         "0",
         "1_HARDERSFIELD_58",
         "1",
         "HARDERSFIELD",
         "58",
         "Gekkeikan Black & Gold Sake",
         "750mL",
         "8",
         "12.99",
         "2016-01-01"
        ],
        [
         "1",
         "1_HARDERSFIELD_60",
         "1",
         "HARDERSFIELD",
         "60",
         "Canadian Club 1858 VAP",
         "750mL",
         "7",
         "10.99",
         "2016-01-01"
        ],
        [
         "2",
         "1_HARDERSFIELD_62",
         "1",
         "HARDERSFIELD",
         "62",
         "Herradura Silver Tequila",
         "750mL",
         "6",
         "36.99",
         "2016-01-01"
        ],
        [
         "3",
         "1_HARDERSFIELD_63",
         "1",
         "HARDERSFIELD",
         "63",
         "Herradura Reposado Tequila",
         "750mL",
         "3",
         "38.99",
         "2016-01-01"
        ],
        [
         "4",
         "1_HARDERSFIELD_72",
         "1",
         "HARDERSFIELD",
         "72",
         "No. 3 London Dry Gin",
         "750mL",
         "6",
         "34.99",
         "2016-01-01"
        ]
       ],
       "shape": {
        "columns": 9,
        "rows": 5
       }
      },
      "text/html": [
       "<div>\n",
       "<style scoped>\n",
       "    .dataframe tbody tr th:only-of-type {\n",
       "        vertical-align: middle;\n",
       "    }\n",
       "\n",
       "    .dataframe tbody tr th {\n",
       "        vertical-align: top;\n",
       "    }\n",
       "\n",
       "    .dataframe thead th {\n",
       "        text-align: right;\n",
       "    }\n",
       "</style>\n",
       "<table border=\"1\" class=\"dataframe\">\n",
       "  <thead>\n",
       "    <tr style=\"text-align: right;\">\n",
       "      <th></th>\n",
       "      <th>InventoryId</th>\n",
       "      <th>Store</th>\n",
       "      <th>City</th>\n",
       "      <th>Brand</th>\n",
       "      <th>Description</th>\n",
       "      <th>Size</th>\n",
       "      <th>onHand</th>\n",
       "      <th>Price</th>\n",
       "      <th>startDate</th>\n",
       "    </tr>\n",
       "  </thead>\n",
       "  <tbody>\n",
       "    <tr>\n",
       "      <th>0</th>\n",
       "      <td>1_HARDERSFIELD_58</td>\n",
       "      <td>1</td>\n",
       "      <td>HARDERSFIELD</td>\n",
       "      <td>58</td>\n",
       "      <td>Gekkeikan Black &amp; Gold Sake</td>\n",
       "      <td>750mL</td>\n",
       "      <td>8</td>\n",
       "      <td>12.99</td>\n",
       "      <td>2016-01-01</td>\n",
       "    </tr>\n",
       "    <tr>\n",
       "      <th>1</th>\n",
       "      <td>1_HARDERSFIELD_60</td>\n",
       "      <td>1</td>\n",
       "      <td>HARDERSFIELD</td>\n",
       "      <td>60</td>\n",
       "      <td>Canadian Club 1858 VAP</td>\n",
       "      <td>750mL</td>\n",
       "      <td>7</td>\n",
       "      <td>10.99</td>\n",
       "      <td>2016-01-01</td>\n",
       "    </tr>\n",
       "    <tr>\n",
       "      <th>2</th>\n",
       "      <td>1_HARDERSFIELD_62</td>\n",
       "      <td>1</td>\n",
       "      <td>HARDERSFIELD</td>\n",
       "      <td>62</td>\n",
       "      <td>Herradura Silver Tequila</td>\n",
       "      <td>750mL</td>\n",
       "      <td>6</td>\n",
       "      <td>36.99</td>\n",
       "      <td>2016-01-01</td>\n",
       "    </tr>\n",
       "    <tr>\n",
       "      <th>3</th>\n",
       "      <td>1_HARDERSFIELD_63</td>\n",
       "      <td>1</td>\n",
       "      <td>HARDERSFIELD</td>\n",
       "      <td>63</td>\n",
       "      <td>Herradura Reposado Tequila</td>\n",
       "      <td>750mL</td>\n",
       "      <td>3</td>\n",
       "      <td>38.99</td>\n",
       "      <td>2016-01-01</td>\n",
       "    </tr>\n",
       "    <tr>\n",
       "      <th>4</th>\n",
       "      <td>1_HARDERSFIELD_72</td>\n",
       "      <td>1</td>\n",
       "      <td>HARDERSFIELD</td>\n",
       "      <td>72</td>\n",
       "      <td>No. 3 London Dry Gin</td>\n",
       "      <td>750mL</td>\n",
       "      <td>6</td>\n",
       "      <td>34.99</td>\n",
       "      <td>2016-01-01</td>\n",
       "    </tr>\n",
       "  </tbody>\n",
       "</table>\n",
       "</div>"
      ],
      "text/plain": [
       "         InventoryId  Store          City  Brand                  Description  \\\n",
       "0  1_HARDERSFIELD_58      1  HARDERSFIELD     58  Gekkeikan Black & Gold Sake   \n",
       "1  1_HARDERSFIELD_60      1  HARDERSFIELD     60       Canadian Club 1858 VAP   \n",
       "2  1_HARDERSFIELD_62      1  HARDERSFIELD     62     Herradura Silver Tequila   \n",
       "3  1_HARDERSFIELD_63      1  HARDERSFIELD     63   Herradura Reposado Tequila   \n",
       "4  1_HARDERSFIELD_72      1  HARDERSFIELD     72         No. 3 London Dry Gin   \n",
       "\n",
       "    Size  onHand  Price   startDate  \n",
       "0  750mL       8  12.99  2016-01-01  \n",
       "1  750mL       7  10.99  2016-01-01  \n",
       "2  750mL       6  36.99  2016-01-01  \n",
       "3  750mL       3  38.99  2016-01-01  \n",
       "4  750mL       6  34.99  2016-01-01  "
      ]
     },
     "execution_count": 12,
     "metadata": {},
     "output_type": "execute_result"
    }
   ],
   "source": [
    "# muestra los primeros 5 registros de la tabla para verificar que se importó bien\n",
    "df_InventarioInicial.head(5) "
   ]
  },
  {
   "cell_type": "code",
   "execution_count": 13,
   "id": "a253046d",
   "metadata": {},
   "outputs": [
    {
     "name": "stdout",
     "output_type": "stream",
     "text": [
      "<class 'pandas.core.frame.DataFrame'>\n",
      "RangeIndex: 206529 entries, 0 to 206528\n",
      "Data columns (total 9 columns):\n",
      " #   Column       Non-Null Count   Dtype  \n",
      "---  ------       --------------   -----  \n",
      " 0   InventoryId  206529 non-null  object \n",
      " 1   Store        206529 non-null  int64  \n",
      " 2   City         206529 non-null  object \n",
      " 3   Brand        206529 non-null  int64  \n",
      " 4   Description  206529 non-null  object \n",
      " 5   Size         206529 non-null  object \n",
      " 6   onHand       206529 non-null  int64  \n",
      " 7   Price        206529 non-null  float64\n",
      " 8   startDate    206529 non-null  object \n",
      "dtypes: float64(1), int64(3), object(5)\n",
      "memory usage: 14.2+ MB\n",
      "None\n"
     ]
    }
   ],
   "source": [
    "# Descripción del DataFrame\n",
    "print(df_InventarioInicial.info())"
   ]
  },
  {
   "cell_type": "code",
   "execution_count": 14,
   "id": "d83f61fd",
   "metadata": {},
   "outputs": [
    {
     "name": "stdout",
     "output_type": "stream",
     "text": [
      "               Store          Brand         onHand          Price\n",
      "count  206529.000000  206529.000000  206529.000000  206529.000000\n",
      "mean       42.122457   13761.482320      20.429455      22.253910\n",
      "std        23.191393   13059.429355      31.467342      70.178964\n",
      "min         1.000000      58.000000       0.000000       0.000000\n",
      "25%        22.000000    3746.000000       7.000000       9.990000\n",
      "50%        42.000000    8010.000000      12.000000      14.990000\n",
      "75%        64.000000   22143.000000      21.000000      21.990000\n",
      "max        79.000000   90090.000000    1251.000000   13999.900000\n"
     ]
    }
   ],
   "source": [
    "# Resumen estadístico de las columnas numéricas\n",
    "print(df_InventarioInicial.describe())"
   ]
  },
  {
   "cell_type": "code",
   "execution_count": 15,
   "id": "e4b83f04",
   "metadata": {},
   "outputs": [
    {
     "data": {
      "text/plain": [
       "Series([], dtype: int64)"
      ]
     },
     "execution_count": 15,
     "metadata": {},
     "output_type": "execute_result"
    }
   ],
   "source": [
    "# Cantidad de valores nulos por columna\n",
    "df_InventarioInicial.isnull().sum()[df_InventarioInicial.isnull().sum()>0] # Filtrando por aquellos que contengan por lo menos 1 nulo"
   ]
  },
  {
   "cell_type": "markdown",
   "id": "f5e6c91a",
   "metadata": {},
   "source": [
    "#### 2.4 Tabla a analizar InventarioFinal"
   ]
  },
  {
   "cell_type": "code",
   "execution_count": 16,
   "id": "2b2d3a6c",
   "metadata": {},
   "outputs": [
    {
     "data": {
      "application/vnd.microsoft.datawrangler.viewer.v0+json": {
       "columns": [
        {
         "name": "index",
         "rawType": "int64",
         "type": "integer"
        },
        {
         "name": "InventoryId",
         "rawType": "object",
         "type": "string"
        },
        {
         "name": "Store",
         "rawType": "int64",
         "type": "integer"
        },
        {
         "name": "City",
         "rawType": "object",
         "type": "string"
        },
        {
         "name": "Brand",
         "rawType": "int64",
         "type": "integer"
        },
        {
         "name": "Description",
         "rawType": "object",
         "type": "string"
        },
        {
         "name": "Size",
         "rawType": "object",
         "type": "string"
        },
        {
         "name": "onHand",
         "rawType": "int64",
         "type": "integer"
        },
        {
         "name": "Price",
         "rawType": "float64",
         "type": "float"
        },
        {
         "name": "endDate",
         "rawType": "object",
         "type": "string"
        }
       ],
       "conversionMethod": "pd.DataFrame",
       "ref": "6c523712-a1ab-41ac-a8a6-debdce52ece2",
       "rows": [
        [
         "0",
         "1_HARDERSFIELD_58",
         "1",
         "HARDERSFIELD",
         "58",
         "Gekkeikan Black & Gold Sake",
         "750mL",
         "11",
         "12.99",
         "2016-12-31"
        ],
        [
         "1",
         "1_HARDERSFIELD_62",
         "1",
         "HARDERSFIELD",
         "62",
         "Herradura Silver Tequila",
         "750mL",
         "7",
         "36.99",
         "2016-12-31"
        ],
        [
         "2",
         "1_HARDERSFIELD_63",
         "1",
         "HARDERSFIELD",
         "63",
         "Herradura Reposado Tequila",
         "750mL",
         "7",
         "38.99",
         "2016-12-31"
        ],
        [
         "3",
         "1_HARDERSFIELD_72",
         "1",
         "HARDERSFIELD",
         "72",
         "No. 3 London Dry Gin",
         "750mL",
         "4",
         "34.99",
         "2016-12-31"
        ],
        [
         "4",
         "1_HARDERSFIELD_75",
         "1",
         "HARDERSFIELD",
         "75",
         "Three Olives Tomato Vodka",
         "750mL",
         "7",
         "14.99",
         "2016-12-31"
        ]
       ],
       "shape": {
        "columns": 9,
        "rows": 5
       }
      },
      "text/html": [
       "<div>\n",
       "<style scoped>\n",
       "    .dataframe tbody tr th:only-of-type {\n",
       "        vertical-align: middle;\n",
       "    }\n",
       "\n",
       "    .dataframe tbody tr th {\n",
       "        vertical-align: top;\n",
       "    }\n",
       "\n",
       "    .dataframe thead th {\n",
       "        text-align: right;\n",
       "    }\n",
       "</style>\n",
       "<table border=\"1\" class=\"dataframe\">\n",
       "  <thead>\n",
       "    <tr style=\"text-align: right;\">\n",
       "      <th></th>\n",
       "      <th>InventoryId</th>\n",
       "      <th>Store</th>\n",
       "      <th>City</th>\n",
       "      <th>Brand</th>\n",
       "      <th>Description</th>\n",
       "      <th>Size</th>\n",
       "      <th>onHand</th>\n",
       "      <th>Price</th>\n",
       "      <th>endDate</th>\n",
       "    </tr>\n",
       "  </thead>\n",
       "  <tbody>\n",
       "    <tr>\n",
       "      <th>0</th>\n",
       "      <td>1_HARDERSFIELD_58</td>\n",
       "      <td>1</td>\n",
       "      <td>HARDERSFIELD</td>\n",
       "      <td>58</td>\n",
       "      <td>Gekkeikan Black &amp; Gold Sake</td>\n",
       "      <td>750mL</td>\n",
       "      <td>11</td>\n",
       "      <td>12.99</td>\n",
       "      <td>2016-12-31</td>\n",
       "    </tr>\n",
       "    <tr>\n",
       "      <th>1</th>\n",
       "      <td>1_HARDERSFIELD_62</td>\n",
       "      <td>1</td>\n",
       "      <td>HARDERSFIELD</td>\n",
       "      <td>62</td>\n",
       "      <td>Herradura Silver Tequila</td>\n",
       "      <td>750mL</td>\n",
       "      <td>7</td>\n",
       "      <td>36.99</td>\n",
       "      <td>2016-12-31</td>\n",
       "    </tr>\n",
       "    <tr>\n",
       "      <th>2</th>\n",
       "      <td>1_HARDERSFIELD_63</td>\n",
       "      <td>1</td>\n",
       "      <td>HARDERSFIELD</td>\n",
       "      <td>63</td>\n",
       "      <td>Herradura Reposado Tequila</td>\n",
       "      <td>750mL</td>\n",
       "      <td>7</td>\n",
       "      <td>38.99</td>\n",
       "      <td>2016-12-31</td>\n",
       "    </tr>\n",
       "    <tr>\n",
       "      <th>3</th>\n",
       "      <td>1_HARDERSFIELD_72</td>\n",
       "      <td>1</td>\n",
       "      <td>HARDERSFIELD</td>\n",
       "      <td>72</td>\n",
       "      <td>No. 3 London Dry Gin</td>\n",
       "      <td>750mL</td>\n",
       "      <td>4</td>\n",
       "      <td>34.99</td>\n",
       "      <td>2016-12-31</td>\n",
       "    </tr>\n",
       "    <tr>\n",
       "      <th>4</th>\n",
       "      <td>1_HARDERSFIELD_75</td>\n",
       "      <td>1</td>\n",
       "      <td>HARDERSFIELD</td>\n",
       "      <td>75</td>\n",
       "      <td>Three Olives Tomato Vodka</td>\n",
       "      <td>750mL</td>\n",
       "      <td>7</td>\n",
       "      <td>14.99</td>\n",
       "      <td>2016-12-31</td>\n",
       "    </tr>\n",
       "  </tbody>\n",
       "</table>\n",
       "</div>"
      ],
      "text/plain": [
       "         InventoryId  Store          City  Brand                  Description  \\\n",
       "0  1_HARDERSFIELD_58      1  HARDERSFIELD     58  Gekkeikan Black & Gold Sake   \n",
       "1  1_HARDERSFIELD_62      1  HARDERSFIELD     62     Herradura Silver Tequila   \n",
       "2  1_HARDERSFIELD_63      1  HARDERSFIELD     63   Herradura Reposado Tequila   \n",
       "3  1_HARDERSFIELD_72      1  HARDERSFIELD     72         No. 3 London Dry Gin   \n",
       "4  1_HARDERSFIELD_75      1  HARDERSFIELD     75    Three Olives Tomato Vodka   \n",
       "\n",
       "    Size  onHand  Price     endDate  \n",
       "0  750mL      11  12.99  2016-12-31  \n",
       "1  750mL       7  36.99  2016-12-31  \n",
       "2  750mL       7  38.99  2016-12-31  \n",
       "3  750mL       4  34.99  2016-12-31  \n",
       "4  750mL       7  14.99  2016-12-31  "
      ]
     },
     "execution_count": 16,
     "metadata": {},
     "output_type": "execute_result"
    }
   ],
   "source": [
    "# muestra los primeros 5 registros de la tabla para verificar que se importó bien\n",
    "df_InventarioFinal.head(5)"
   ]
  },
  {
   "cell_type": "code",
   "execution_count": 17,
   "id": "eec8b174",
   "metadata": {},
   "outputs": [
    {
     "name": "stdout",
     "output_type": "stream",
     "text": [
      "<class 'pandas.core.frame.DataFrame'>\n",
      "RangeIndex: 224489 entries, 0 to 224488\n",
      "Data columns (total 9 columns):\n",
      " #   Column       Non-Null Count   Dtype  \n",
      "---  ------       --------------   -----  \n",
      " 0   InventoryId  224489 non-null  object \n",
      " 1   Store        224489 non-null  int64  \n",
      " 2   City         223205 non-null  object \n",
      " 3   Brand        224489 non-null  int64  \n",
      " 4   Description  224489 non-null  object \n",
      " 5   Size         224489 non-null  object \n",
      " 6   onHand       224489 non-null  int64  \n",
      " 7   Price        224489 non-null  float64\n",
      " 8   endDate      224489 non-null  object \n",
      "dtypes: float64(1), int64(3), object(5)\n",
      "memory usage: 15.4+ MB\n",
      "None\n"
     ]
    }
   ],
   "source": [
    "# Descripción del DataFrame\n",
    "print(df_InventarioFinal.info())"
   ]
  },
  {
   "cell_type": "code",
   "execution_count": 18,
   "id": "fbf1b08b",
   "metadata": {},
   "outputs": [
    {
     "name": "stdout",
     "output_type": "stream",
     "text": [
      "               Store          Brand         onHand          Price\n",
      "count  224489.000000  224489.000000  224489.000000  224489.000000\n",
      "mean       43.505740   14356.370513      21.763988      23.585583\n",
      "std        23.326415   13118.467851      37.233576      79.202775\n",
      "min         1.000000      58.000000       0.000000       0.490000\n",
      "25%        23.000000    3798.000000       7.000000       9.990000\n",
      "50%        44.000000    8259.000000      12.000000      14.990000\n",
      "75%        66.000000   23965.000000      22.000000      23.490000\n",
      "max        81.000000   90631.000000    3676.000000   13999.900000\n"
     ]
    }
   ],
   "source": [
    "# Resumen estadístico de las columnas numéricas\n",
    "print(df_InventarioFinal.describe())"
   ]
  },
  {
   "cell_type": "code",
   "execution_count": 19,
   "id": "b8770a0d",
   "metadata": {},
   "outputs": [
    {
     "data": {
      "text/plain": [
       "City    1284\n",
       "dtype: int64"
      ]
     },
     "execution_count": 19,
     "metadata": {},
     "output_type": "execute_result"
    }
   ],
   "source": [
    "# Cantidad de valores nulos por columna\n",
    "df_InventarioFinal.isnull().sum()[df_InventarioFinal.isnull().sum()>0] # Filtrando por aquellos que contengan por lo menos 1 nulo"
   ]
  },
  {
   "cell_type": "markdown",
   "id": "23b33fef",
   "metadata": {},
   "source": [
    "Explayamos sobre valores nulos"
   ]
  },
  {
   "cell_type": "code",
   "execution_count": 20,
   "id": "7462aed8",
   "metadata": {},
   "outputs": [
    {
     "data": {
      "application/vnd.microsoft.datawrangler.viewer.v0+json": {
       "columns": [
        {
         "name": "index",
         "rawType": "int64",
         "type": "integer"
        },
        {
         "name": "InventoryId",
         "rawType": "object",
         "type": "string"
        },
        {
         "name": "Store",
         "rawType": "int64",
         "type": "integer"
        },
        {
         "name": "City",
         "rawType": "object",
         "type": "unknown"
        },
        {
         "name": "Brand",
         "rawType": "int64",
         "type": "integer"
        },
        {
         "name": "Description",
         "rawType": "object",
         "type": "string"
        },
        {
         "name": "Size",
         "rawType": "object",
         "type": "string"
        },
        {
         "name": "onHand",
         "rawType": "int64",
         "type": "integer"
        },
        {
         "name": "Price",
         "rawType": "float64",
         "type": "float"
        },
        {
         "name": "endDate",
         "rawType": "object",
         "type": "string"
        }
       ],
       "conversionMethod": "pd.DataFrame",
       "ref": "55c9a12c-df6b-4b29-9eb4-00409cd2a09e",
       "rows": [
        [
         "113895",
         "46__58",
         "46",
         null,
         "58",
         "Gekkeikan Black & Gold Sake",
         "750mL",
         "0",
         "12.99",
         "2016-12-31"
        ],
        [
         "113896",
         "46__62",
         "46",
         null,
         "62",
         "Herradura Silver Tequila",
         "750mL",
         "0",
         "36.99",
         "2016-12-31"
        ],
        [
         "113897",
         "46__63",
         "46",
         null,
         "63",
         "Herradura Reposado Tequila",
         "750mL",
         "0",
         "38.99",
         "2016-12-31"
        ],
        [
         "113898",
         "46__77",
         "46",
         null,
         "77",
         "Three Olives Espresso Vodka",
         "750mL",
         "0",
         "14.99",
         "2016-12-31"
        ],
        [
         "113899",
         "46__106",
         "46",
         null,
         "106",
         "Mr Boston Peach Schnapps",
         "Liter",
         "0",
         "4.49",
         "2016-12-31"
        ],
        [
         "113900",
         "46__110",
         "46",
         null,
         "110",
         "Mr Boston Creme de Menthe-Wh",
         "Liter",
         "0",
         "6.49",
         "2016-12-31"
        ],
        [
         "113901",
         "46__112",
         "46",
         null,
         "112",
         "Mr Boston Cr de Cacao White",
         "Liter",
         "0",
         "6.49",
         "2016-12-31"
        ],
        [
         "113902",
         "46__113",
         "46",
         null,
         "113",
         "Mr Boston Cr de Cacao Brown",
         "Liter",
         "0",
         "6.49",
         "2016-12-31"
        ],
        [
         "113903",
         "46__114",
         "46",
         null,
         "114",
         "Mr Boston Creme de Banana",
         "Liter",
         "0",
         "6.49",
         "2016-12-31"
        ],
        [
         "113904",
         "46__126",
         "46",
         null,
         "126",
         "Grey Goose Vodka",
         "Liter",
         "0",
         "29.99",
         "2016-12-31"
        ],
        [
         "113905",
         "46__162",
         "46",
         null,
         "162",
         "Stolichnaya Vanil",
         "Liter",
         "0",
         "22.99",
         "2016-12-31"
        ],
        [
         "113906",
         "46__171",
         "46",
         null,
         "171",
         "Gentleman Jack",
         "1.75L",
         "0",
         "49.99",
         "2016-12-31"
        ],
        [
         "113907",
         "46__211",
         "46",
         null,
         "211",
         "Cold River Gin",
         "750mL",
         "0",
         "29.99",
         "2016-12-31"
        ],
        [
         "113908",
         "46__213",
         "46",
         null,
         "213",
         "Stolichnaya Blueberi",
         "Liter",
         "0",
         "22.99",
         "2016-12-31"
        ],
        [
         "113909",
         "46__273",
         "46",
         null,
         "273",
         "Sauza Extra Gold Tequila",
         "1.75L",
         "0",
         "21.99",
         "2016-12-31"
        ],
        [
         "113910",
         "46__290",
         "46",
         null,
         "290",
         "Aberlour A'Bunadh Sngle Malt",
         "750mL",
         "0",
         "74.99",
         "2016-12-31"
        ],
        [
         "113911",
         "46__305",
         "46",
         null,
         "305",
         "Crown Royal Canadian Whisky",
         "Liter",
         "0",
         "27.99",
         "2016-12-31"
        ],
        [
         "113912",
         "46__377",
         "46",
         null,
         "377",
         "Hendrick's Gin",
         "Liter",
         "0",
         "37.99",
         "2016-12-31"
        ],
        [
         "113913",
         "46__381",
         "46",
         null,
         "381",
         "Baileys Irish Cream w/2 Mugs",
         "750mL",
         "0",
         "19.99",
         "2016-12-31"
        ],
        [
         "113914",
         "46__408",
         "46",
         null,
         "408",
         "Wild Turkey American Honey",
         "750mL",
         "0",
         "19.99",
         "2016-12-31"
        ],
        [
         "113915",
         "46__415",
         "46",
         null,
         "415",
         "Jose Cuervo Especial",
         "Liter",
         "0",
         "21.99",
         "2016-12-31"
        ],
        [
         "113916",
         "46__419",
         "46",
         null,
         "419",
         "Absolut Citron",
         "Liter",
         "0",
         "19.99",
         "2016-12-31"
        ],
        [
         "113917",
         "46__482",
         "46",
         null,
         "482",
         "Absolut 80 Proof",
         "Liter",
         "0",
         "21.99",
         "2016-12-31"
        ],
        [
         "113918",
         "46__497",
         "46",
         null,
         "497",
         "Capt Morgan Spiced Rum",
         "Liter",
         "0",
         "19.99",
         "2016-12-31"
        ],
        [
         "113919",
         "46__508",
         "46",
         null,
         "508",
         "Bacardi Superior Rum",
         "Liter",
         "0",
         "15.49",
         "2016-12-31"
        ],
        [
         "113920",
         "46__523",
         "46",
         null,
         "523",
         "Castello Del Poggio Moscato",
         "750mL",
         "0",
         "9.99",
         "2016-12-31"
        ],
        [
         "113921",
         "46__539",
         "46",
         null,
         "539",
         "Bowman's Vodka",
         "Liter",
         "0",
         "5.79",
         "2016-12-31"
        ],
        [
         "113922",
         "46__567",
         "46",
         null,
         "567",
         "Ketel One Vodka",
         "Liter",
         "0",
         "28.99",
         "2016-12-31"
        ],
        [
         "113923",
         "46__597",
         "46",
         null,
         "597",
         "Baileys Irish Cream",
         "Liter",
         "0",
         "27.99",
         "2016-12-31"
        ],
        [
         "113924",
         "46__598",
         "46",
         null,
         "598",
         "Stolichnaya Ohranj Orange",
         "Liter",
         "0",
         "22.99",
         "2016-12-31"
        ],
        [
         "113925",
         "46__599",
         "46",
         null,
         "599",
         "Stolichnaya Razberi",
         "Liter",
         "0",
         "22.99",
         "2016-12-31"
        ],
        [
         "113926",
         "46__600",
         "46",
         null,
         "600",
         "McCormick Gin",
         "Liter",
         "0",
         "7.29",
         "2016-12-31"
        ],
        [
         "113927",
         "46__604",
         "46",
         null,
         "604",
         "McCormick Silver Rum",
         "Liter",
         "0",
         "6.99",
         "2016-12-31"
        ],
        [
         "113928",
         "46__661",
         "46",
         null,
         "661",
         "Red Stag by Jim Beam",
         "750mL",
         "0",
         "14.99",
         "2016-12-31"
        ],
        [
         "113929",
         "46__676",
         "46",
         null,
         "676",
         "Pinnacle Whipped Vodka",
         "750mL",
         "0",
         "9.99",
         "2016-12-31"
        ],
        [
         "113930",
         "46__680",
         "46",
         null,
         "680",
         "Midnight Moon Strawberry",
         "750mL",
         "0",
         "19.99",
         "2016-12-31"
        ],
        [
         "113931",
         "46__686",
         "46",
         null,
         "686",
         "Midnight Moon Cherry",
         "750mL",
         "0",
         "19.99",
         "2016-12-31"
        ],
        [
         "113932",
         "46__758",
         "46",
         null,
         "758",
         "Cointreau Liqueur",
         "Liter",
         "0",
         "41.99",
         "2016-12-31"
        ],
        [
         "113933",
         "46__759",
         "46",
         null,
         "759",
         "Bunnahabhain 12 Yr Single",
         "750mL",
         "0",
         "59.99",
         "2016-12-31"
        ],
        [
         "113934",
         "46__800",
         "46",
         null,
         "800",
         "Jameson Irish Whiskey",
         "Liter",
         "0",
         "32.99",
         "2016-12-31"
        ],
        [
         "113935",
         "46__802",
         "46",
         null,
         "802",
         "Bacardi Torched Cherry Rum",
         "750mL",
         "0",
         "9.99",
         "2016-12-31"
        ],
        [
         "113936",
         "46__806",
         "46",
         null,
         "806",
         "DeKuyper Peachtree Schnapps",
         "Liter",
         "0",
         "12.99",
         "2016-12-31"
        ],
        [
         "113937",
         "46__807",
         "46",
         null,
         "807",
         "Jim Beam",
         "Liter",
         "0",
         "17.99",
         "2016-12-31"
        ],
        [
         "113938",
         "46__809",
         "46",
         null,
         "809",
         "Southern Comfort",
         "Liter",
         "0",
         "19.99",
         "2016-12-31"
        ],
        [
         "113939",
         "46__811",
         "46",
         null,
         "811",
         "Jack Daniels No 7 Black",
         "Liter",
         "0",
         "27.99",
         "2016-12-31"
        ],
        [
         "113940",
         "46__812",
         "46",
         null,
         "812",
         "Jagermeister Liqueur",
         "Liter",
         "0",
         "20.99",
         "2016-12-31"
        ],
        [
         "113941",
         "46__821",
         "46",
         null,
         "821",
         "Grand Marnier",
         "Liter",
         "0",
         "38.99",
         "2016-12-31"
        ],
        [
         "113942",
         "46__822",
         "46",
         null,
         "822",
         "Tanqueray",
         "Liter",
         "0",
         "26.99",
         "2016-12-31"
        ],
        [
         "113943",
         "46__824",
         "46",
         null,
         "824",
         "Dewars White Label Scotch",
         "Liter",
         "0",
         "26.99",
         "2016-12-31"
        ],
        [
         "113944",
         "46__857",
         "46",
         null,
         "857",
         "Kahlua",
         "Liter",
         "0",
         "22.99",
         "2016-12-31"
        ]
       ],
       "shape": {
        "columns": 9,
        "rows": 1284
       }
      },
      "text/html": [
       "<div>\n",
       "<style scoped>\n",
       "    .dataframe tbody tr th:only-of-type {\n",
       "        vertical-align: middle;\n",
       "    }\n",
       "\n",
       "    .dataframe tbody tr th {\n",
       "        vertical-align: top;\n",
       "    }\n",
       "\n",
       "    .dataframe thead th {\n",
       "        text-align: right;\n",
       "    }\n",
       "</style>\n",
       "<table border=\"1\" class=\"dataframe\">\n",
       "  <thead>\n",
       "    <tr style=\"text-align: right;\">\n",
       "      <th></th>\n",
       "      <th>InventoryId</th>\n",
       "      <th>Store</th>\n",
       "      <th>City</th>\n",
       "      <th>Brand</th>\n",
       "      <th>Description</th>\n",
       "      <th>Size</th>\n",
       "      <th>onHand</th>\n",
       "      <th>Price</th>\n",
       "      <th>endDate</th>\n",
       "    </tr>\n",
       "  </thead>\n",
       "  <tbody>\n",
       "    <tr>\n",
       "      <th>113895</th>\n",
       "      <td>46__58</td>\n",
       "      <td>46</td>\n",
       "      <td>NaN</td>\n",
       "      <td>58</td>\n",
       "      <td>Gekkeikan Black &amp; Gold Sake</td>\n",
       "      <td>750mL</td>\n",
       "      <td>0</td>\n",
       "      <td>12.99</td>\n",
       "      <td>2016-12-31</td>\n",
       "    </tr>\n",
       "    <tr>\n",
       "      <th>113896</th>\n",
       "      <td>46__62</td>\n",
       "      <td>46</td>\n",
       "      <td>NaN</td>\n",
       "      <td>62</td>\n",
       "      <td>Herradura Silver Tequila</td>\n",
       "      <td>750mL</td>\n",
       "      <td>0</td>\n",
       "      <td>36.99</td>\n",
       "      <td>2016-12-31</td>\n",
       "    </tr>\n",
       "    <tr>\n",
       "      <th>113897</th>\n",
       "      <td>46__63</td>\n",
       "      <td>46</td>\n",
       "      <td>NaN</td>\n",
       "      <td>63</td>\n",
       "      <td>Herradura Reposado Tequila</td>\n",
       "      <td>750mL</td>\n",
       "      <td>0</td>\n",
       "      <td>38.99</td>\n",
       "      <td>2016-12-31</td>\n",
       "    </tr>\n",
       "    <tr>\n",
       "      <th>113898</th>\n",
       "      <td>46__77</td>\n",
       "      <td>46</td>\n",
       "      <td>NaN</td>\n",
       "      <td>77</td>\n",
       "      <td>Three Olives Espresso Vodka</td>\n",
       "      <td>750mL</td>\n",
       "      <td>0</td>\n",
       "      <td>14.99</td>\n",
       "      <td>2016-12-31</td>\n",
       "    </tr>\n",
       "    <tr>\n",
       "      <th>113899</th>\n",
       "      <td>46__106</td>\n",
       "      <td>46</td>\n",
       "      <td>NaN</td>\n",
       "      <td>106</td>\n",
       "      <td>Mr Boston Peach Schnapps</td>\n",
       "      <td>Liter</td>\n",
       "      <td>0</td>\n",
       "      <td>4.49</td>\n",
       "      <td>2016-12-31</td>\n",
       "    </tr>\n",
       "    <tr>\n",
       "      <th>...</th>\n",
       "      <td>...</td>\n",
       "      <td>...</td>\n",
       "      <td>...</td>\n",
       "      <td>...</td>\n",
       "      <td>...</td>\n",
       "      <td>...</td>\n",
       "      <td>...</td>\n",
       "      <td>...</td>\n",
       "      <td>...</td>\n",
       "    </tr>\n",
       "    <tr>\n",
       "      <th>115174</th>\n",
       "      <td>46__46447</td>\n",
       "      <td>46</td>\n",
       "      <td>NaN</td>\n",
       "      <td>46447</td>\n",
       "      <td>Gascon Malbec Mendoza</td>\n",
       "      <td>750mL</td>\n",
       "      <td>0</td>\n",
       "      <td>10.99</td>\n",
       "      <td>2016-12-31</td>\n",
       "    </tr>\n",
       "    <tr>\n",
       "      <th>115175</th>\n",
       "      <td>46__46458</td>\n",
       "      <td>46</td>\n",
       "      <td>NaN</td>\n",
       "      <td>46458</td>\n",
       "      <td>Layer Cake Barosa Shiraz</td>\n",
       "      <td>750mL</td>\n",
       "      <td>0</td>\n",
       "      <td>15.99</td>\n",
       "      <td>2016-12-31</td>\n",
       "    </tr>\n",
       "    <tr>\n",
       "      <th>115176</th>\n",
       "      <td>46__46476</td>\n",
       "      <td>46</td>\n",
       "      <td>NaN</td>\n",
       "      <td>46476</td>\n",
       "      <td>Tilia Malbec Mendoza</td>\n",
       "      <td>750mL</td>\n",
       "      <td>0</td>\n",
       "      <td>9.99</td>\n",
       "      <td>2016-12-31</td>\n",
       "    </tr>\n",
       "    <tr>\n",
       "      <th>115177</th>\n",
       "      <td>46__46764</td>\n",
       "      <td>46</td>\n",
       "      <td>NaN</td>\n",
       "      <td>46764</td>\n",
       "      <td>Clayhouse Adobe Red Paso Rbl</td>\n",
       "      <td>750mL</td>\n",
       "      <td>0</td>\n",
       "      <td>11.99</td>\n",
       "      <td>2016-12-31</td>\n",
       "    </tr>\n",
       "    <tr>\n",
       "      <th>115178</th>\n",
       "      <td>46__46830</td>\n",
       "      <td>46</td>\n",
       "      <td>NaN</td>\n",
       "      <td>46830</td>\n",
       "      <td>Pacific Rim Sweet Rsl</td>\n",
       "      <td>750mL</td>\n",
       "      <td>0</td>\n",
       "      <td>8.99</td>\n",
       "      <td>2016-12-31</td>\n",
       "    </tr>\n",
       "  </tbody>\n",
       "</table>\n",
       "<p>1284 rows × 9 columns</p>\n",
       "</div>"
      ],
      "text/plain": [
       "       InventoryId  Store City  Brand                   Description   Size  \\\n",
       "113895      46__58     46  NaN     58   Gekkeikan Black & Gold Sake  750mL   \n",
       "113896      46__62     46  NaN     62      Herradura Silver Tequila  750mL   \n",
       "113897      46__63     46  NaN     63    Herradura Reposado Tequila  750mL   \n",
       "113898      46__77     46  NaN     77   Three Olives Espresso Vodka  750mL   \n",
       "113899     46__106     46  NaN    106      Mr Boston Peach Schnapps  Liter   \n",
       "...            ...    ...  ...    ...                           ...    ...   \n",
       "115174   46__46447     46  NaN  46447         Gascon Malbec Mendoza  750mL   \n",
       "115175   46__46458     46  NaN  46458      Layer Cake Barosa Shiraz  750mL   \n",
       "115176   46__46476     46  NaN  46476          Tilia Malbec Mendoza  750mL   \n",
       "115177   46__46764     46  NaN  46764  Clayhouse Adobe Red Paso Rbl  750mL   \n",
       "115178   46__46830     46  NaN  46830         Pacific Rim Sweet Rsl  750mL   \n",
       "\n",
       "        onHand  Price     endDate  \n",
       "113895       0  12.99  2016-12-31  \n",
       "113896       0  36.99  2016-12-31  \n",
       "113897       0  38.99  2016-12-31  \n",
       "113898       0  14.99  2016-12-31  \n",
       "113899       0   4.49  2016-12-31  \n",
       "...        ...    ...         ...  \n",
       "115174       0  10.99  2016-12-31  \n",
       "115175       0  15.99  2016-12-31  \n",
       "115176       0   9.99  2016-12-31  \n",
       "115177       0  11.99  2016-12-31  \n",
       "115178       0   8.99  2016-12-31  \n",
       "\n",
       "[1284 rows x 9 columns]"
      ]
     },
     "execution_count": 20,
     "metadata": {},
     "output_type": "execute_result"
    }
   ],
   "source": [
    "#Creamos DataFrame solo con los registros que contienen valores nulos en City\n",
    "df_InventarioFinal_nulos = df_InventarioFinal[df_InventarioFinal.isnull().any(axis=1)] # Filtra las filas que tienen al menos un valor nulo\n",
    "df_InventarioFinal_nulos"
   ]
  },
  {
   "cell_type": "markdown",
   "id": "d64ed666",
   "metadata": {},
   "source": [
    "A priori parece que únicamente faltan los datos de City para la tienda 46, por lo que procedemos a corroborarlo"
   ]
  },
  {
   "cell_type": "code",
   "execution_count": 21,
   "id": "c1f28bd8",
   "metadata": {},
   "outputs": [
    {
     "data": {
      "text/plain": [
       "Store\n",
       "46    1284\n",
       "Name: City, dtype: int64"
      ]
     },
     "execution_count": 21,
     "metadata": {},
     "output_type": "execute_result"
    }
   ],
   "source": [
    "# Contamos cantidad de valores nulos de City por Store\n",
    "df_InventarioFinal_nulos.groupby(\"Store\")[\"City\"].apply(lambda x: x.isnull().sum()) # Función que le asigna a cada valor si es nulo o no y luego los suma"
   ]
  },
  {
   "cell_type": "markdown",
   "id": "85dfdc67",
   "metadata": {},
   "source": [
    "#### 2.5 Tabla a analizar Compras"
   ]
  },
  {
   "cell_type": "code",
   "execution_count": 22,
   "id": "4c39146c",
   "metadata": {},
   "outputs": [
    {
     "data": {
      "application/vnd.microsoft.datawrangler.viewer.v0+json": {
       "columns": [
        {
         "name": "index",
         "rawType": "int64",
         "type": "integer"
        },
        {
         "name": "InventoryId",
         "rawType": "object",
         "type": "string"
        },
        {
         "name": "Store",
         "rawType": "int64",
         "type": "integer"
        },
        {
         "name": "Brand",
         "rawType": "int64",
         "type": "integer"
        },
        {
         "name": "Description",
         "rawType": "object",
         "type": "string"
        },
        {
         "name": "Size",
         "rawType": "object",
         "type": "string"
        },
        {
         "name": "VendorNumber",
         "rawType": "int64",
         "type": "integer"
        },
        {
         "name": "VendorName",
         "rawType": "object",
         "type": "string"
        },
        {
         "name": "PONumber",
         "rawType": "int64",
         "type": "integer"
        },
        {
         "name": "PODate",
         "rawType": "object",
         "type": "string"
        },
        {
         "name": "ReceivingDate",
         "rawType": "object",
         "type": "string"
        },
        {
         "name": "InvoiceDate",
         "rawType": "object",
         "type": "string"
        },
        {
         "name": "PayDate",
         "rawType": "object",
         "type": "string"
        },
        {
         "name": "PurchasePrice",
         "rawType": "float64",
         "type": "float"
        },
        {
         "name": "Quantity",
         "rawType": "int64",
         "type": "integer"
        },
        {
         "name": "Dollars",
         "rawType": "float64",
         "type": "float"
        },
        {
         "name": "Classification",
         "rawType": "int64",
         "type": "integer"
        }
       ],
       "conversionMethod": "pd.DataFrame",
       "ref": "a7e6c5d1-5360-49a7-8843-c216e4fa17c9",
       "rows": [
        [
         "0",
         "69_MOUNTMEND_8412",
         "69",
         "8412",
         "Tequila Ocho Plata Fresno",
         "750mL",
         "105",
         "ALTAMAR BRANDS LLC         ",
         "8124",
         "2015-12-21",
         "2016-01-02",
         "2016-01-04",
         "2016-02-16",
         "35.71",
         "6",
         "214.26",
         "1"
        ],
        [
         "1",
         "30_CULCHETH_5255",
         "30",
         "5255",
         "TGI Fridays Ultimte Mudslide",
         "1.75L",
         "4466",
         "AMERICAN VINTAGE BEVERAGE  ",
         "8137",
         "2015-12-22",
         "2016-01-01",
         "2016-01-07",
         "2016-02-21",
         "9.35",
         "4",
         "37.4",
         "1"
        ],
        [
         "2",
         "34_PITMERDEN_5215",
         "34",
         "5215",
         "TGI Fridays Long Island Iced",
         "1.75L",
         "4466",
         "AMERICAN VINTAGE BEVERAGE  ",
         "8137",
         "2015-12-22",
         "2016-01-02",
         "2016-01-07",
         "2016-02-21",
         "9.41",
         "5",
         "47.05",
         "1"
        ],
        [
         "3",
         "1_HARDERSFIELD_5255",
         "1",
         "5255",
         "TGI Fridays Ultimte Mudslide",
         "1.75L",
         "4466",
         "AMERICAN VINTAGE BEVERAGE  ",
         "8137",
         "2015-12-22",
         "2016-01-01",
         "2016-01-07",
         "2016-02-21",
         "9.35",
         "6",
         "56.1",
         "1"
        ],
        [
         "4",
         "76_DONCASTER_2034",
         "76",
         "2034",
         "Glendalough Double Barrel",
         "750mL",
         "388",
         "ATLANTIC IMPORTING COMPANY ",
         "8169",
         "2015-12-24",
         "2016-01-02",
         "2016-01-09",
         "2016-02-16",
         "21.32",
         "5",
         "106.6",
         "1"
        ]
       ],
       "shape": {
        "columns": 16,
        "rows": 5
       }
      },
      "text/html": [
       "<div>\n",
       "<style scoped>\n",
       "    .dataframe tbody tr th:only-of-type {\n",
       "        vertical-align: middle;\n",
       "    }\n",
       "\n",
       "    .dataframe tbody tr th {\n",
       "        vertical-align: top;\n",
       "    }\n",
       "\n",
       "    .dataframe thead th {\n",
       "        text-align: right;\n",
       "    }\n",
       "</style>\n",
       "<table border=\"1\" class=\"dataframe\">\n",
       "  <thead>\n",
       "    <tr style=\"text-align: right;\">\n",
       "      <th></th>\n",
       "      <th>InventoryId</th>\n",
       "      <th>Store</th>\n",
       "      <th>Brand</th>\n",
       "      <th>Description</th>\n",
       "      <th>Size</th>\n",
       "      <th>VendorNumber</th>\n",
       "      <th>VendorName</th>\n",
       "      <th>PONumber</th>\n",
       "      <th>PODate</th>\n",
       "      <th>ReceivingDate</th>\n",
       "      <th>InvoiceDate</th>\n",
       "      <th>PayDate</th>\n",
       "      <th>PurchasePrice</th>\n",
       "      <th>Quantity</th>\n",
       "      <th>Dollars</th>\n",
       "      <th>Classification</th>\n",
       "    </tr>\n",
       "  </thead>\n",
       "  <tbody>\n",
       "    <tr>\n",
       "      <th>0</th>\n",
       "      <td>69_MOUNTMEND_8412</td>\n",
       "      <td>69</td>\n",
       "      <td>8412</td>\n",
       "      <td>Tequila Ocho Plata Fresno</td>\n",
       "      <td>750mL</td>\n",
       "      <td>105</td>\n",
       "      <td>ALTAMAR BRANDS LLC</td>\n",
       "      <td>8124</td>\n",
       "      <td>2015-12-21</td>\n",
       "      <td>2016-01-02</td>\n",
       "      <td>2016-01-04</td>\n",
       "      <td>2016-02-16</td>\n",
       "      <td>35.71</td>\n",
       "      <td>6</td>\n",
       "      <td>214.26</td>\n",
       "      <td>1</td>\n",
       "    </tr>\n",
       "    <tr>\n",
       "      <th>1</th>\n",
       "      <td>30_CULCHETH_5255</td>\n",
       "      <td>30</td>\n",
       "      <td>5255</td>\n",
       "      <td>TGI Fridays Ultimte Mudslide</td>\n",
       "      <td>1.75L</td>\n",
       "      <td>4466</td>\n",
       "      <td>AMERICAN VINTAGE BEVERAGE</td>\n",
       "      <td>8137</td>\n",
       "      <td>2015-12-22</td>\n",
       "      <td>2016-01-01</td>\n",
       "      <td>2016-01-07</td>\n",
       "      <td>2016-02-21</td>\n",
       "      <td>9.35</td>\n",
       "      <td>4</td>\n",
       "      <td>37.40</td>\n",
       "      <td>1</td>\n",
       "    </tr>\n",
       "    <tr>\n",
       "      <th>2</th>\n",
       "      <td>34_PITMERDEN_5215</td>\n",
       "      <td>34</td>\n",
       "      <td>5215</td>\n",
       "      <td>TGI Fridays Long Island Iced</td>\n",
       "      <td>1.75L</td>\n",
       "      <td>4466</td>\n",
       "      <td>AMERICAN VINTAGE BEVERAGE</td>\n",
       "      <td>8137</td>\n",
       "      <td>2015-12-22</td>\n",
       "      <td>2016-01-02</td>\n",
       "      <td>2016-01-07</td>\n",
       "      <td>2016-02-21</td>\n",
       "      <td>9.41</td>\n",
       "      <td>5</td>\n",
       "      <td>47.05</td>\n",
       "      <td>1</td>\n",
       "    </tr>\n",
       "    <tr>\n",
       "      <th>3</th>\n",
       "      <td>1_HARDERSFIELD_5255</td>\n",
       "      <td>1</td>\n",
       "      <td>5255</td>\n",
       "      <td>TGI Fridays Ultimte Mudslide</td>\n",
       "      <td>1.75L</td>\n",
       "      <td>4466</td>\n",
       "      <td>AMERICAN VINTAGE BEVERAGE</td>\n",
       "      <td>8137</td>\n",
       "      <td>2015-12-22</td>\n",
       "      <td>2016-01-01</td>\n",
       "      <td>2016-01-07</td>\n",
       "      <td>2016-02-21</td>\n",
       "      <td>9.35</td>\n",
       "      <td>6</td>\n",
       "      <td>56.10</td>\n",
       "      <td>1</td>\n",
       "    </tr>\n",
       "    <tr>\n",
       "      <th>4</th>\n",
       "      <td>76_DONCASTER_2034</td>\n",
       "      <td>76</td>\n",
       "      <td>2034</td>\n",
       "      <td>Glendalough Double Barrel</td>\n",
       "      <td>750mL</td>\n",
       "      <td>388</td>\n",
       "      <td>ATLANTIC IMPORTING COMPANY</td>\n",
       "      <td>8169</td>\n",
       "      <td>2015-12-24</td>\n",
       "      <td>2016-01-02</td>\n",
       "      <td>2016-01-09</td>\n",
       "      <td>2016-02-16</td>\n",
       "      <td>21.32</td>\n",
       "      <td>5</td>\n",
       "      <td>106.60</td>\n",
       "      <td>1</td>\n",
       "    </tr>\n",
       "  </tbody>\n",
       "</table>\n",
       "</div>"
      ],
      "text/plain": [
       "           InventoryId  Store  Brand                   Description   Size  \\\n",
       "0    69_MOUNTMEND_8412     69   8412     Tequila Ocho Plata Fresno  750mL   \n",
       "1     30_CULCHETH_5255     30   5255  TGI Fridays Ultimte Mudslide  1.75L   \n",
       "2    34_PITMERDEN_5215     34   5215  TGI Fridays Long Island Iced  1.75L   \n",
       "3  1_HARDERSFIELD_5255      1   5255  TGI Fridays Ultimte Mudslide  1.75L   \n",
       "4    76_DONCASTER_2034     76   2034     Glendalough Double Barrel  750mL   \n",
       "\n",
       "   VendorNumber                   VendorName  PONumber      PODate  \\\n",
       "0           105  ALTAMAR BRANDS LLC               8124  2015-12-21   \n",
       "1          4466  AMERICAN VINTAGE BEVERAGE        8137  2015-12-22   \n",
       "2          4466  AMERICAN VINTAGE BEVERAGE        8137  2015-12-22   \n",
       "3          4466  AMERICAN VINTAGE BEVERAGE        8137  2015-12-22   \n",
       "4           388  ATLANTIC IMPORTING COMPANY       8169  2015-12-24   \n",
       "\n",
       "  ReceivingDate InvoiceDate     PayDate  PurchasePrice  Quantity  Dollars  \\\n",
       "0    2016-01-02  2016-01-04  2016-02-16          35.71         6   214.26   \n",
       "1    2016-01-01  2016-01-07  2016-02-21           9.35         4    37.40   \n",
       "2    2016-01-02  2016-01-07  2016-02-21           9.41         5    47.05   \n",
       "3    2016-01-01  2016-01-07  2016-02-21           9.35         6    56.10   \n",
       "4    2016-01-02  2016-01-09  2016-02-16          21.32         5   106.60   \n",
       "\n",
       "   Classification  \n",
       "0               1  \n",
       "1               1  \n",
       "2               1  \n",
       "3               1  \n",
       "4               1  "
      ]
     },
     "execution_count": 22,
     "metadata": {},
     "output_type": "execute_result"
    }
   ],
   "source": [
    "# muestra los primeros 5 registros de la tabla para verificar que se importó bien\n",
    "df_Compras.head(5)"
   ]
  },
  {
   "cell_type": "code",
   "execution_count": 23,
   "id": "678c9722",
   "metadata": {},
   "outputs": [
    {
     "name": "stdout",
     "output_type": "stream",
     "text": [
      "<class 'pandas.core.frame.DataFrame'>\n",
      "RangeIndex: 2372474 entries, 0 to 2372473\n",
      "Data columns (total 16 columns):\n",
      " #   Column          Dtype  \n",
      "---  ------          -----  \n",
      " 0   InventoryId     object \n",
      " 1   Store           int64  \n",
      " 2   Brand           int64  \n",
      " 3   Description     object \n",
      " 4   Size            object \n",
      " 5   VendorNumber    int64  \n",
      " 6   VendorName      object \n",
      " 7   PONumber        int64  \n",
      " 8   PODate          object \n",
      " 9   ReceivingDate   object \n",
      " 10  InvoiceDate     object \n",
      " 11  PayDate         object \n",
      " 12  PurchasePrice   float64\n",
      " 13  Quantity        int64  \n",
      " 14  Dollars         float64\n",
      " 15  Classification  int64  \n",
      "dtypes: float64(2), int64(6), object(8)\n",
      "memory usage: 289.6+ MB\n",
      "None\n"
     ]
    }
   ],
   "source": [
    "# Descripción del DataFrame\n",
    "print(df_Compras.info())"
   ]
  },
  {
   "cell_type": "code",
   "execution_count": 24,
   "id": "66f6fc32",
   "metadata": {},
   "outputs": [
    {
     "name": "stdout",
     "output_type": "stream",
     "text": [
      "              Store         Brand  VendorNumber      PONumber  PurchasePrice  \\\n",
      "count  2.372474e+06  2.372474e+06  2.372474e+06  2.372474e+06   2.372474e+06   \n",
      "mean   4.465133e+01  1.241864e+04  6.886436e+03  1.104094e+04   1.205005e+01   \n",
      "std    2.351245e+01  1.255728e+04  8.066694e+03  1.565340e+03   1.794510e+01   \n",
      "min    1.000000e+00  5.800000e+01  2.000000e+00  8.106000e+03   0.000000e+00   \n",
      "25%    2.500000e+01  3.639000e+03  3.252000e+03  9.761000e+03   6.120000e+00   \n",
      "50%    4.800000e+01  6.523000e+03  4.425000e+03  1.110300e+04   9.220000e+00   \n",
      "75%    6.700000e+01  1.887700e+04  9.552000e+03  1.239700e+04   1.449000e+01   \n",
      "max    8.100000e+01  9.063100e+04  2.013590e+05  1.366100e+04   5.681810e+03   \n",
      "\n",
      "           Quantity       Dollars  Classification  \n",
      "count  2.372474e+06  2.372474e+06    2.372474e+06  \n",
      "mean   1.415585e+01  1.356815e+02    1.443520e+00  \n",
      "std    2.344616e+01  2.816649e+02    4.967999e-01  \n",
      "min    1.000000e+00  0.000000e+00    1.000000e+00  \n",
      "25%    6.000000e+00  4.926000e+01    1.000000e+00  \n",
      "50%    1.000000e+01  8.393000e+01    1.000000e+00  \n",
      "75%    1.200000e+01  1.405200e+02    2.000000e+00  \n",
      "max    3.816000e+03  5.017570e+04    2.000000e+00  \n"
     ]
    }
   ],
   "source": [
    "# Resumen estadístico de las columnas numéricas\n",
    "print(df_Compras.describe())"
   ]
  },
  {
   "cell_type": "code",
   "execution_count": 25,
   "id": "577fa94c",
   "metadata": {},
   "outputs": [
    {
     "data": {
      "text/plain": [
       "Size    3\n",
       "dtype: int64"
      ]
     },
     "execution_count": 25,
     "metadata": {},
     "output_type": "execute_result"
    }
   ],
   "source": [
    "# Cantidad de valores nulos por columna\n",
    "df_Compras.isnull().sum()[df_Compras.isnull().sum()>0] # Filtrando por aquellos que contengan por lo menos 1 nulo"
   ]
  },
  {
   "cell_type": "markdown",
   "id": "99be4da9",
   "metadata": {},
   "source": [
    "Explayamos sobre valores nulos"
   ]
  },
  {
   "cell_type": "code",
   "execution_count": 26,
   "id": "9e2573ca",
   "metadata": {},
   "outputs": [
    {
     "data": {
      "application/vnd.microsoft.datawrangler.viewer.v0+json": {
       "columns": [
        {
         "name": "index",
         "rawType": "int64",
         "type": "integer"
        },
        {
         "name": "InventoryId",
         "rawType": "object",
         "type": "string"
        },
        {
         "name": "Store",
         "rawType": "int64",
         "type": "integer"
        },
        {
         "name": "Brand",
         "rawType": "int64",
         "type": "integer"
        },
        {
         "name": "Description",
         "rawType": "object",
         "type": "string"
        },
        {
         "name": "Size",
         "rawType": "object",
         "type": "unknown"
        },
        {
         "name": "VendorNumber",
         "rawType": "int64",
         "type": "integer"
        },
        {
         "name": "VendorName",
         "rawType": "object",
         "type": "string"
        },
        {
         "name": "PONumber",
         "rawType": "int64",
         "type": "integer"
        },
        {
         "name": "PODate",
         "rawType": "object",
         "type": "string"
        },
        {
         "name": "ReceivingDate",
         "rawType": "object",
         "type": "string"
        },
        {
         "name": "InvoiceDate",
         "rawType": "object",
         "type": "string"
        },
        {
         "name": "PayDate",
         "rawType": "object",
         "type": "string"
        },
        {
         "name": "PurchasePrice",
         "rawType": "float64",
         "type": "float"
        },
        {
         "name": "Quantity",
         "rawType": "int64",
         "type": "integer"
        },
        {
         "name": "Dollars",
         "rawType": "float64",
         "type": "float"
        },
        {
         "name": "Classification",
         "rawType": "int64",
         "type": "integer"
        }
       ],
       "conversionMethod": "pd.DataFrame",
       "ref": "0e1e7563-ed68-4183-9509-2019406a202c",
       "rows": [
        [
         "1109668",
         "34_PITMERDEN_3121",
         "34",
         "3121",
         "Pinnacle Rainbow Sherbet",
         null,
         "12546",
         "JIM BEAM BRANDS COMPANY    ",
         "10938",
         "2016-06-27",
         "2016-07-04",
         "2016-07-13",
         "2016-08-16",
         "6.93",
         "7",
         "48.51",
         "1"
        ],
        [
         "1112426",
         "34_PITMERDEN_5678",
         "34",
         "5678",
         "Skinnygirl Pina Colada",
         null,
         "12546",
         "JIM BEAM BRANDS COMPANY    ",
         "10938",
         "2016-06-27",
         "2016-07-09",
         "2016-07-13",
         "2016-08-16",
         "6.93",
         "6",
         "41.58",
         "1"
        ],
        [
         "1116302",
         "39_EASTHALLOW_15365",
         "39",
         "15365",
         "Alabaster 07 Tinta de Toro",
         null,
         "9552",
         "M S WALKER INC             ",
         "10972",
         "2016-06-29",
         "2016-07-07",
         "2016-07-13",
         "2016-08-21",
         "91.83",
         "1",
         "91.83",
         "2"
        ]
       ],
       "shape": {
        "columns": 16,
        "rows": 3
       }
      },
      "text/html": [
       "<div>\n",
       "<style scoped>\n",
       "    .dataframe tbody tr th:only-of-type {\n",
       "        vertical-align: middle;\n",
       "    }\n",
       "\n",
       "    .dataframe tbody tr th {\n",
       "        vertical-align: top;\n",
       "    }\n",
       "\n",
       "    .dataframe thead th {\n",
       "        text-align: right;\n",
       "    }\n",
       "</style>\n",
       "<table border=\"1\" class=\"dataframe\">\n",
       "  <thead>\n",
       "    <tr style=\"text-align: right;\">\n",
       "      <th></th>\n",
       "      <th>InventoryId</th>\n",
       "      <th>Store</th>\n",
       "      <th>Brand</th>\n",
       "      <th>Description</th>\n",
       "      <th>Size</th>\n",
       "      <th>VendorNumber</th>\n",
       "      <th>VendorName</th>\n",
       "      <th>PONumber</th>\n",
       "      <th>PODate</th>\n",
       "      <th>ReceivingDate</th>\n",
       "      <th>InvoiceDate</th>\n",
       "      <th>PayDate</th>\n",
       "      <th>PurchasePrice</th>\n",
       "      <th>Quantity</th>\n",
       "      <th>Dollars</th>\n",
       "      <th>Classification</th>\n",
       "    </tr>\n",
       "  </thead>\n",
       "  <tbody>\n",
       "    <tr>\n",
       "      <th>1109668</th>\n",
       "      <td>34_PITMERDEN_3121</td>\n",
       "      <td>34</td>\n",
       "      <td>3121</td>\n",
       "      <td>Pinnacle Rainbow Sherbet</td>\n",
       "      <td>NaN</td>\n",
       "      <td>12546</td>\n",
       "      <td>JIM BEAM BRANDS COMPANY</td>\n",
       "      <td>10938</td>\n",
       "      <td>2016-06-27</td>\n",
       "      <td>2016-07-04</td>\n",
       "      <td>2016-07-13</td>\n",
       "      <td>2016-08-16</td>\n",
       "      <td>6.93</td>\n",
       "      <td>7</td>\n",
       "      <td>48.51</td>\n",
       "      <td>1</td>\n",
       "    </tr>\n",
       "    <tr>\n",
       "      <th>1112426</th>\n",
       "      <td>34_PITMERDEN_5678</td>\n",
       "      <td>34</td>\n",
       "      <td>5678</td>\n",
       "      <td>Skinnygirl Pina Colada</td>\n",
       "      <td>NaN</td>\n",
       "      <td>12546</td>\n",
       "      <td>JIM BEAM BRANDS COMPANY</td>\n",
       "      <td>10938</td>\n",
       "      <td>2016-06-27</td>\n",
       "      <td>2016-07-09</td>\n",
       "      <td>2016-07-13</td>\n",
       "      <td>2016-08-16</td>\n",
       "      <td>6.93</td>\n",
       "      <td>6</td>\n",
       "      <td>41.58</td>\n",
       "      <td>1</td>\n",
       "    </tr>\n",
       "    <tr>\n",
       "      <th>1116302</th>\n",
       "      <td>39_EASTHALLOW_15365</td>\n",
       "      <td>39</td>\n",
       "      <td>15365</td>\n",
       "      <td>Alabaster 07 Tinta de Toro</td>\n",
       "      <td>NaN</td>\n",
       "      <td>9552</td>\n",
       "      <td>M S WALKER INC</td>\n",
       "      <td>10972</td>\n",
       "      <td>2016-06-29</td>\n",
       "      <td>2016-07-07</td>\n",
       "      <td>2016-07-13</td>\n",
       "      <td>2016-08-21</td>\n",
       "      <td>91.83</td>\n",
       "      <td>1</td>\n",
       "      <td>91.83</td>\n",
       "      <td>2</td>\n",
       "    </tr>\n",
       "  </tbody>\n",
       "</table>\n",
       "</div>"
      ],
      "text/plain": [
       "                 InventoryId  Store  Brand                 Description Size  \\\n",
       "1109668    34_PITMERDEN_3121     34   3121    Pinnacle Rainbow Sherbet  NaN   \n",
       "1112426    34_PITMERDEN_5678     34   5678      Skinnygirl Pina Colada  NaN   \n",
       "1116302  39_EASTHALLOW_15365     39  15365  Alabaster 07 Tinta de Toro  NaN   \n",
       "\n",
       "         VendorNumber                   VendorName  PONumber      PODate  \\\n",
       "1109668         12546  JIM BEAM BRANDS COMPANY         10938  2016-06-27   \n",
       "1112426         12546  JIM BEAM BRANDS COMPANY         10938  2016-06-27   \n",
       "1116302          9552  M S WALKER INC                  10972  2016-06-29   \n",
       "\n",
       "        ReceivingDate InvoiceDate     PayDate  PurchasePrice  Quantity  \\\n",
       "1109668    2016-07-04  2016-07-13  2016-08-16           6.93         7   \n",
       "1112426    2016-07-09  2016-07-13  2016-08-16           6.93         6   \n",
       "1116302    2016-07-07  2016-07-13  2016-08-21          91.83         1   \n",
       "\n",
       "         Dollars  Classification  \n",
       "1109668    48.51               1  \n",
       "1112426    41.58               1  \n",
       "1116302    91.83               2  "
      ]
     },
     "execution_count": 26,
     "metadata": {},
     "output_type": "execute_result"
    }
   ],
   "source": [
    "#Creamos DataFrame solo con los registros que contienen valores nulos\n",
    "df_Compras_nulos = df_Compras[df_Compras.isnull().any(axis=1)] # Filtra las filas que tienen al menos un valor nulo\n",
    "df_Compras_nulos"
   ]
  },
  {
   "cell_type": "markdown",
   "id": "f4ee523f",
   "metadata": {},
   "source": [
    "Traemos el Size de otros productos con misma descripción"
   ]
  },
  {
   "cell_type": "code",
   "execution_count": 27,
   "id": "4e6ec519",
   "metadata": {},
   "outputs": [
    {
     "name": "stdout",
     "output_type": "stream",
     "text": [
      "Registros con 'Size' nulo:\n",
      "                        Description Size\n",
      "1109668    Pinnacle Rainbow Sherbet  NaN\n",
      "1112426      Skinnygirl Pina Colada  NaN\n",
      "1116302  Alabaster 07 Tinta de Toro  NaN\n",
      "\n",
      "Registros con la misma 'Description' pero con 'Size' no nulo:\n",
      "                        Description   Size\n",
      "26472        Skinnygirl Pina Colada  750mL\n",
      "134447     Pinnacle Rainbow Sherbet  750mL\n",
      "135201     Pinnacle Rainbow Sherbet  750mL\n",
      "135202     Pinnacle Rainbow Sherbet  750mL\n",
      "176514       Skinnygirl Pina Colada  750mL\n",
      "214731       Skinnygirl Pina Colada  750mL\n",
      "214955     Pinnacle Rainbow Sherbet  750mL\n",
      "215283     Pinnacle Rainbow Sherbet  750mL\n",
      "291013     Pinnacle Rainbow Sherbet  750mL\n",
      "366401       Skinnygirl Pina Colada  750mL\n",
      "366882       Skinnygirl Pina Colada  750mL\n",
      "367931       Skinnygirl Pina Colada  750mL\n",
      "406165     Pinnacle Rainbow Sherbet  750mL\n",
      "478946     Pinnacle Rainbow Sherbet  750mL\n",
      "631595       Skinnygirl Pina Colada  750mL\n",
      "760082       Skinnygirl Pina Colada  750mL\n",
      "761874       Skinnygirl Pina Colada  750mL\n",
      "1109305    Pinnacle Rainbow Sherbet  750mL\n",
      "1109668    Pinnacle Rainbow Sherbet    NaN\n",
      "1112426      Skinnygirl Pina Colada    NaN\n",
      "1116302  Alabaster 07 Tinta de Toro    NaN\n"
     ]
    }
   ],
   "source": [
    "df_same_size = df_Compras[df_Compras['Description'].isin(df_Compras_nulos['Description'])]\n",
    "\n",
    "# Mostramos los resultados obtenidos\n",
    "print(\"Registros con 'Size' nulo:\")\n",
    "print(df_Compras_nulos[['Description', 'Size']])\n",
    "\n",
    "print(\"\\nRegistros con la misma 'Description' pero con 'Size' no nulo:\")\n",
    "print(df_same_size[['Description', 'Size']])"
   ]
  },
  {
   "cell_type": "markdown",
   "id": "d6c9e7e0",
   "metadata": {},
   "source": [
    "#### 2.6 Tabla a analizar Ventas"
   ]
  },
  {
   "cell_type": "code",
   "execution_count": 28,
   "id": "01cd90d1",
   "metadata": {},
   "outputs": [
    {
     "data": {
      "application/vnd.microsoft.datawrangler.viewer.v0+json": {
       "columns": [
        {
         "name": "index",
         "rawType": "int64",
         "type": "integer"
        },
        {
         "name": "InventoryId",
         "rawType": "object",
         "type": "string"
        },
        {
         "name": "Store",
         "rawType": "int64",
         "type": "integer"
        },
        {
         "name": "Brand",
         "rawType": "int64",
         "type": "integer"
        },
        {
         "name": "Description",
         "rawType": "object",
         "type": "string"
        },
        {
         "name": "Size",
         "rawType": "object",
         "type": "string"
        },
        {
         "name": "SalesQuantity",
         "rawType": "int64",
         "type": "integer"
        },
        {
         "name": "SalesDollars",
         "rawType": "float64",
         "type": "float"
        },
        {
         "name": "SalesPrice",
         "rawType": "float64",
         "type": "float"
        },
        {
         "name": "SalesDate",
         "rawType": "object",
         "type": "string"
        },
        {
         "name": "Volume",
         "rawType": "int64",
         "type": "integer"
        },
        {
         "name": "Classification",
         "rawType": "int64",
         "type": "integer"
        },
        {
         "name": "ExciseTax",
         "rawType": "float64",
         "type": "float"
        },
        {
         "name": "VendorNo",
         "rawType": "int64",
         "type": "integer"
        },
        {
         "name": "VendorName",
         "rawType": "object",
         "type": "string"
        }
       ],
       "conversionMethod": "pd.DataFrame",
       "ref": "d0d34e43-5c45-46bb-8591-8c061fda0aae",
       "rows": [
        [
         "0",
         "1_HARDERSFIELD_1004",
         "1",
         "1004",
         "Jim Beam w/2 Rocks Glasses",
         "750mL",
         "1",
         "16.49",
         "16.49",
         "1/1/2016",
         "750",
         "1",
         "0.79",
         "12546",
         "JIM BEAM BRANDS COMPANY    "
        ],
        [
         "1",
         "1_HARDERSFIELD_1004",
         "1",
         "1004",
         "Jim Beam w/2 Rocks Glasses",
         "750mL",
         "2",
         "32.98",
         "16.49",
         "1/2/2016",
         "750",
         "1",
         "1.57",
         "12546",
         "JIM BEAM BRANDS COMPANY    "
        ],
        [
         "2",
         "1_HARDERSFIELD_1004",
         "1",
         "1004",
         "Jim Beam w/2 Rocks Glasses",
         "750mL",
         "1",
         "16.49",
         "16.49",
         "1/3/2016",
         "750",
         "1",
         "0.79",
         "12546",
         "JIM BEAM BRANDS COMPANY    "
        ],
        [
         "3",
         "1_HARDERSFIELD_1004",
         "1",
         "1004",
         "Jim Beam w/2 Rocks Glasses",
         "750mL",
         "1",
         "14.49",
         "14.49",
         "1/8/2016",
         "750",
         "1",
         "0.79",
         "12546",
         "JIM BEAM BRANDS COMPANY    "
        ],
        [
         "4",
         "1_HARDERSFIELD_1005",
         "1",
         "1005",
         "Maker's Mark Combo Pack",
         "375mL 2 Pk",
         "2",
         "69.98",
         "34.99",
         "1/9/2016",
         "375",
         "1",
         "0.79",
         "12546",
         "JIM BEAM BRANDS COMPANY    "
        ]
       ],
       "shape": {
        "columns": 14,
        "rows": 5
       }
      },
      "text/html": [
       "<div>\n",
       "<style scoped>\n",
       "    .dataframe tbody tr th:only-of-type {\n",
       "        vertical-align: middle;\n",
       "    }\n",
       "\n",
       "    .dataframe tbody tr th {\n",
       "        vertical-align: top;\n",
       "    }\n",
       "\n",
       "    .dataframe thead th {\n",
       "        text-align: right;\n",
       "    }\n",
       "</style>\n",
       "<table border=\"1\" class=\"dataframe\">\n",
       "  <thead>\n",
       "    <tr style=\"text-align: right;\">\n",
       "      <th></th>\n",
       "      <th>InventoryId</th>\n",
       "      <th>Store</th>\n",
       "      <th>Brand</th>\n",
       "      <th>Description</th>\n",
       "      <th>Size</th>\n",
       "      <th>SalesQuantity</th>\n",
       "      <th>SalesDollars</th>\n",
       "      <th>SalesPrice</th>\n",
       "      <th>SalesDate</th>\n",
       "      <th>Volume</th>\n",
       "      <th>Classification</th>\n",
       "      <th>ExciseTax</th>\n",
       "      <th>VendorNo</th>\n",
       "      <th>VendorName</th>\n",
       "    </tr>\n",
       "  </thead>\n",
       "  <tbody>\n",
       "    <tr>\n",
       "      <th>0</th>\n",
       "      <td>1_HARDERSFIELD_1004</td>\n",
       "      <td>1</td>\n",
       "      <td>1004</td>\n",
       "      <td>Jim Beam w/2 Rocks Glasses</td>\n",
       "      <td>750mL</td>\n",
       "      <td>1</td>\n",
       "      <td>16.49</td>\n",
       "      <td>16.49</td>\n",
       "      <td>1/1/2016</td>\n",
       "      <td>750</td>\n",
       "      <td>1</td>\n",
       "      <td>0.79</td>\n",
       "      <td>12546</td>\n",
       "      <td>JIM BEAM BRANDS COMPANY</td>\n",
       "    </tr>\n",
       "    <tr>\n",
       "      <th>1</th>\n",
       "      <td>1_HARDERSFIELD_1004</td>\n",
       "      <td>1</td>\n",
       "      <td>1004</td>\n",
       "      <td>Jim Beam w/2 Rocks Glasses</td>\n",
       "      <td>750mL</td>\n",
       "      <td>2</td>\n",
       "      <td>32.98</td>\n",
       "      <td>16.49</td>\n",
       "      <td>1/2/2016</td>\n",
       "      <td>750</td>\n",
       "      <td>1</td>\n",
       "      <td>1.57</td>\n",
       "      <td>12546</td>\n",
       "      <td>JIM BEAM BRANDS COMPANY</td>\n",
       "    </tr>\n",
       "    <tr>\n",
       "      <th>2</th>\n",
       "      <td>1_HARDERSFIELD_1004</td>\n",
       "      <td>1</td>\n",
       "      <td>1004</td>\n",
       "      <td>Jim Beam w/2 Rocks Glasses</td>\n",
       "      <td>750mL</td>\n",
       "      <td>1</td>\n",
       "      <td>16.49</td>\n",
       "      <td>16.49</td>\n",
       "      <td>1/3/2016</td>\n",
       "      <td>750</td>\n",
       "      <td>1</td>\n",
       "      <td>0.79</td>\n",
       "      <td>12546</td>\n",
       "      <td>JIM BEAM BRANDS COMPANY</td>\n",
       "    </tr>\n",
       "    <tr>\n",
       "      <th>3</th>\n",
       "      <td>1_HARDERSFIELD_1004</td>\n",
       "      <td>1</td>\n",
       "      <td>1004</td>\n",
       "      <td>Jim Beam w/2 Rocks Glasses</td>\n",
       "      <td>750mL</td>\n",
       "      <td>1</td>\n",
       "      <td>14.49</td>\n",
       "      <td>14.49</td>\n",
       "      <td>1/8/2016</td>\n",
       "      <td>750</td>\n",
       "      <td>1</td>\n",
       "      <td>0.79</td>\n",
       "      <td>12546</td>\n",
       "      <td>JIM BEAM BRANDS COMPANY</td>\n",
       "    </tr>\n",
       "    <tr>\n",
       "      <th>4</th>\n",
       "      <td>1_HARDERSFIELD_1005</td>\n",
       "      <td>1</td>\n",
       "      <td>1005</td>\n",
       "      <td>Maker's Mark Combo Pack</td>\n",
       "      <td>375mL 2 Pk</td>\n",
       "      <td>2</td>\n",
       "      <td>69.98</td>\n",
       "      <td>34.99</td>\n",
       "      <td>1/9/2016</td>\n",
       "      <td>375</td>\n",
       "      <td>1</td>\n",
       "      <td>0.79</td>\n",
       "      <td>12546</td>\n",
       "      <td>JIM BEAM BRANDS COMPANY</td>\n",
       "    </tr>\n",
       "  </tbody>\n",
       "</table>\n",
       "</div>"
      ],
      "text/plain": [
       "           InventoryId  Store  Brand                 Description        Size  \\\n",
       "0  1_HARDERSFIELD_1004      1   1004  Jim Beam w/2 Rocks Glasses       750mL   \n",
       "1  1_HARDERSFIELD_1004      1   1004  Jim Beam w/2 Rocks Glasses       750mL   \n",
       "2  1_HARDERSFIELD_1004      1   1004  Jim Beam w/2 Rocks Glasses       750mL   \n",
       "3  1_HARDERSFIELD_1004      1   1004  Jim Beam w/2 Rocks Glasses       750mL   \n",
       "4  1_HARDERSFIELD_1005      1   1005     Maker's Mark Combo Pack  375mL 2 Pk   \n",
       "\n",
       "   SalesQuantity  SalesDollars  SalesPrice SalesDate  Volume  Classification  \\\n",
       "0              1         16.49       16.49  1/1/2016     750               1   \n",
       "1              2         32.98       16.49  1/2/2016     750               1   \n",
       "2              1         16.49       16.49  1/3/2016     750               1   \n",
       "3              1         14.49       14.49  1/8/2016     750               1   \n",
       "4              2         69.98       34.99  1/9/2016     375               1   \n",
       "\n",
       "   ExciseTax  VendorNo                   VendorName  \n",
       "0       0.79     12546  JIM BEAM BRANDS COMPANY      \n",
       "1       1.57     12546  JIM BEAM BRANDS COMPANY      \n",
       "2       0.79     12546  JIM BEAM BRANDS COMPANY      \n",
       "3       0.79     12546  JIM BEAM BRANDS COMPANY      \n",
       "4       0.79     12546  JIM BEAM BRANDS COMPANY      "
      ]
     },
     "execution_count": 28,
     "metadata": {},
     "output_type": "execute_result"
    }
   ],
   "source": [
    "# muestra los primeros 5 registros de la tabla para verificar que se importó bien\n",
    "df_Ventas.head(5)"
   ]
  },
  {
   "cell_type": "code",
   "execution_count": 29,
   "id": "279cdf1a",
   "metadata": {},
   "outputs": [
    {
     "name": "stdout",
     "output_type": "stream",
     "text": [
      "<class 'pandas.core.frame.DataFrame'>\n",
      "RangeIndex: 1048575 entries, 0 to 1048574\n",
      "Data columns (total 14 columns):\n",
      " #   Column          Non-Null Count    Dtype  \n",
      "---  ------          --------------    -----  \n",
      " 0   InventoryId     1048575 non-null  object \n",
      " 1   Store           1048575 non-null  int64  \n",
      " 2   Brand           1048575 non-null  int64  \n",
      " 3   Description     1048575 non-null  object \n",
      " 4   Size            1048575 non-null  object \n",
      " 5   SalesQuantity   1048575 non-null  int64  \n",
      " 6   SalesDollars    1048575 non-null  float64\n",
      " 7   SalesPrice      1048575 non-null  float64\n",
      " 8   SalesDate       1048575 non-null  object \n",
      " 9   Volume          1048575 non-null  int64  \n",
      " 10  Classification  1048575 non-null  int64  \n",
      " 11  ExciseTax       1048575 non-null  float64\n",
      " 12  VendorNo        1048575 non-null  int64  \n",
      " 13  VendorName      1048575 non-null  object \n",
      "dtypes: float64(3), int64(6), object(5)\n",
      "memory usage: 112.0+ MB\n",
      "None\n"
     ]
    }
   ],
   "source": [
    "# Descripción del DataFrame\n",
    "print(df_Ventas.info())"
   ]
  },
  {
   "cell_type": "code",
   "execution_count": 30,
   "id": "a370565f",
   "metadata": {},
   "outputs": [
    {
     "name": "stdout",
     "output_type": "stream",
     "text": [
      "              Store         Brand  SalesQuantity  SalesDollars    SalesPrice  \\\n",
      "count  1.048575e+06  1.048575e+06   1.048575e+06  1.048575e+06  1.048575e+06   \n",
      "mean   4.008063e+01  1.216959e+04   2.337619e+00  3.160420e+01  1.543162e+01   \n",
      "std    2.435739e+01  1.241921e+04   3.511492e+00  6.570249e+01  1.404967e+01   \n",
      "min    1.000000e+00  5.800000e+01   1.000000e+00  4.900000e-01  4.900000e-01   \n",
      "25%    1.500000e+01  3.680000e+03   1.000000e+00  1.099000e+01  8.990000e+00   \n",
      "50%    3.900000e+01  6.296000e+03   1.000000e+00  1.799000e+01  1.299000e+01   \n",
      "75%    6.400000e+01  1.795400e+04   2.000000e+00  3.199000e+01  1.899000e+01   \n",
      "max    7.900000e+01  9.008900e+04   4.320000e+02  1.327997e+04  4.999990e+03   \n",
      "\n",
      "             Volume  Classification     ExciseTax      VendorNo  \n",
      "count  1.048575e+06    1.048575e+06  1.048575e+06  1.048575e+06  \n",
      "mean   9.500280e+02    1.416550e+00  1.326847e+00  6.995043e+03  \n",
      "std    7.142708e+02    4.929872e-01  3.407898e+00  8.426736e+03  \n",
      "min    5.000000e+01    1.000000e+00  1.000000e-02  2.000000e+00  \n",
      "25%    7.500000e+02    1.000000e+00  1.600000e-01  3.252000e+03  \n",
      "50%    7.500000e+02    1.000000e+00  6.800000e-01  4.425000e+03  \n",
      "75%    1.500000e+03    2.000000e+00  1.570000e+00  9.552000e+03  \n",
      "max    2.000000e+04    2.000000e+00  3.785200e+02  1.733570e+05  \n"
     ]
    }
   ],
   "source": [
    "# Resumen estadístico de las columnas numéricas\n",
    "print(df_Ventas.describe())"
   ]
  },
  {
   "cell_type": "code",
   "execution_count": 32,
   "id": "d4883fbd",
   "metadata": {},
   "outputs": [
    {
     "data": {
      "text/plain": [
       "Series([], dtype: int64)"
      ]
     },
     "execution_count": 32,
     "metadata": {},
     "output_type": "execute_result"
    }
   ],
   "source": [
    "# Cantidad de valores nulos por columna\n",
    "df_Ventas.isnull().sum()[df_Ventas.isnull().sum()>0] # Filtrando por aquellos que contengan por lo menos 1 nulo"
   ]
  }
 ],
 "metadata": {
  "kernelspec": {
   "display_name": "Python 3",
   "language": "python",
   "name": "python3"
  },
  "language_info": {
   "codemirror_mode": {
    "name": "ipython",
    "version": 3
   },
   "file_extension": ".py",
   "mimetype": "text/x-python",
   "name": "python",
   "nbconvert_exporter": "python",
   "pygments_lexer": "ipython3",
   "version": "3.13.2"
  }
 },
 "nbformat": 4,
 "nbformat_minor": 5
}
